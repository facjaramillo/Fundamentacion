{
  "cells": [
    {
      "cell_type": "markdown",
      "source": [
        "# Semana 4: Máquinas de Turing y Python"
      ],
      "metadata": {
        "id": "XhkbQE544RMH"
      }
    },
    {
      "cell_type": "markdown",
      "metadata": {
        "id": "EcBtILMhJjYI"
      },
      "source": [
        "## 4.1. Máquinas de Turing\n",
        "\n",
        "Hemos visto cómo la interpretación de los problemas como algoritmos fue introducido por el matemático árabe Al'Juarismi (Abu Abdallah Muḥammad ibn Mūsā al-Jwārizmī--780 AC, . 850 AC). Sin embargo, sus desarrollos matemáticos no habían sido pensados como una implementación para que una máquina resolviera de forma automática el algoritmo. No fue sino hasta 1953 DC, que el matemático Alan Turing describiera una técnica para que un sistema artificial pudiera resolver la mayoría de los problemas lógicos y matemáticos, lo cual formaliza el concepto de algoritmo computacional. \\\\\n",
        "\n",
        "Estas máquinas son una forma abstracta de responder al **Problema de la decisión**, o en alemán **Die Entscheidungs Problem**, que dice: ¿Es posible encontrar un procedimiento mecánico para resolver ecuaciones y problemas matemáticos? Este problema, planteado por Hilbert en 1900, plantea a las matemáticas la necesidad de encontrar un mpetodo general para determinar si una ecuación era soluble o no en un sistema formal. Se esperaba que su respuesta fuera positiva, sin embargo, el mismo Alan Turing demostró que este problema no tiene solución general. Es decir, no todo problema de la decisión tiene una solución mediante una Máquina de Turing. \\\\\n",
        "\n",
        "\n",
        "\n",
        "Una máquina de Turing es un dispositivo que manipula símbolos sobre una tira de cinta de acuerdo con una tabla de reglas. A pesar de su simplicidad, una máquina de Turing puede ser adaptada para simular la lógica de cualquier algoritmo de computador y es particularmente útil en la explicación de las funciones de una CPU dentro de un computador.\n",
        "La máquina de Turing no está diseñada como una tecnología de computación práctica, sino como un dispositivo hipotético que representa una máquina de computación. Las máquinas de Turing ayudan a los científicos a entender los límites del cálculo mecánico.\n",
        "La importancia de la máquina de Turing en la historia de la computación es doble: primero, la máquina de Turing fue uno de los primeros (si no el primero) modelos teóricos para las computadoras, viendo la luz en 1936. Segundo, estudiando sus propiedades abstractas, la máquina de Turing ha servido de base para mucho desarrollo teórico en las ciencias de la computación y en la teoría de la complejidad. Una razón para esto es que las máquinas de Turing son simples, y por tanto amenas al análisis.\n",
        "\n",
        "De manera formal la máquina de Turing se define como\n",
        "\n",
        "MT=(Q,Σ,Γ,Q0,b,F,δ),\n",
        "\n",
        "En donde:\n",
        "Q es un conjunto finito de estados posibles para la máquina de Turing. Σ es un conjunto finito de símbolos distinto del espacio en blanco, denominado alfabeto de máquina o de entrada. Γ es un conjunto finito de símbolos de cinta, denominado alfabeto de cinta\n",
        "Q0 es el estado inicial. b es un símbolo denominado blanco, y es el único símbolo que se puede repetir un número infinito de veces. F es el conjunto de estados finales de aceptación.\n",
        "\n",
        "δ:Q×Γ→Q×Γ×{L,R,S}  es una función parcial denominada función de transición, donde L es un movimiento a la izquierda, R es el movimiento a la derecha y S es de no movimiento.\n",
        "\n",
        "Existen muchos tipos de Maquinas de Turing como por ejemplo MT unidireccional en donde la cinta avanza en un solo sentido pero no puede retroceder, MT bidireccional en donde la cinta puede avanzar y retoceder (la más común), MT multicinta en donde la máquina posee dos o más cintas para leer y/o escribir los estados, MT multidimensional en donde existe \"una cinta\" de n-dimensiones, un caso sencillo sería un plano. En cada una de ellas hay que establecer las reglas de funcionamiento, a esto le llamaremos codificación de la MT.\n",
        "\n",
        "Codificación de MT bidireccional.\n",
        "\n",
        "Para realizar la codificación debemos hacer explícito cada uno de los elementos de la MT. Entonces asumamos, como ejemplo lo siguiente:\n",
        "\n",
        "* Q={pi,qi} los estados de entrada y salida.\n",
        "\n",
        "* Σ={0,1,∗} los símbolos de máquina, representando los digitos binarios y dependiendo si ocupa valor o proximo estado puede signifiar cualquier valor, dejar inalterado el valor o no mover (movimiento S).\n",
        "\n",
        "* Γ={0,1,∗} los símbolos en la cinta, representando los digitos binarios y dependiendo si ocupa valor o proximo estado puede signifiar cualquier valor, dejar inalterado el valor o no mover (movimiento S).\n",
        "\n",
        "\n",
        "* Q0={0} es el estado inicial.\n",
        "\n",
        "* b={_} es el símbolo de espacio en blanco.\n",
        "\n",
        "* F={Halt} es el estado de parada.\n",
        "\n",
        "δ=EstadoActual, ValorActual, NuevoValor, MovimientoCinta, PróximoEstado. Es la función de transición. Con esto en mente codifiquemos una MT que calcule el complemento a 1 (C1) de cualquier número binario.\n",
        "\n",
        "*Solución*. Usando la definición de MT anterior se tiene que:\n",
        "\n",
        "0 0 1 R 0\n",
        "\n",
        "0 1 0 R 0\n",
        "\n",
        "0 _ * L Halt\n",
        "\n",
        "Vemos que sólo se rerequiere del estado inicial para resolver este problema. Comprobemos nuestra máquina de turing (MT) con algún valor particular, por ejemplo, 1010. Entonces la MT realizará una secuencia de pasos determinados por la función de trancisión así:\n",
        "\n",
        "\n",
        "*   Paso 1: **1**010. Este es el primer paso, el valor actual es 1, por lo que se cambiará por el valor de 0, de acuerdo a la función de transición, luego de cambiar el valor se mueve un espacio a la derecha quedando en el estado 0 nuevamente.\n",
        "*   Paso 2: 0**0**10. En este paso, el valor actual es 0, por lo que se cambiará por 1. Luego de cambiar el valor se mueve un espacio a la derecha y queda en el estado 0.\n",
        "\n",
        "*   Paso 3: 01**1**0. Aquí, nuevamente el valor actual es 1, por lo que se cambiará por 0, se moverá a la derecha y quedará en estado 0.\n",
        "\n",
        "*   Paso 4: 010**0**. Aquí, el valor actual es 0, se cambiará por 1 y se moverá a la derecha, quedando en el estado 0.\n",
        "\n",
        "\n",
        "*   Paso 5: 0101**_**. En este lugar el valor atual es el espacio, se deja inalterado, se mueve a la izquierda y se detiene la MT.\n",
        "\n",
        "\n",
        "De acuerdo a esto, a la MT ingresa 1010 y esta devuelve 0101.\n",
        "\n",
        "A continuación, dos simuladores donde se puede programar e ilustrar el funcionamiento de una Máquina de Turing.\n",
        "\n",
        "[Turing Machine Visualization](https://turingmachine.io/) \\\\\n",
        "[Turing Machine Simulator](https://morphett.info/turing/turing.html)\n",
        "\n",
        "\n",
        "Adicional y acompañando el texto de esta sección, seguido un par de vídeos para detallar y resaltar las ideas principales detrás de una Máquina de Turing."
      ]
    },
    {
      "cell_type": "code",
      "source": [
        "from IPython.display import YouTubeVideo\n",
        "YouTubeVideo('MC6CERAaYPg')"
      ],
      "metadata": {
        "id": "gzLJFuyoXABn",
        "colab": {
          "base_uri": "https://localhost:8080/",
          "height": 321
        },
        "outputId": "98fe8178-6c3d-4185-c18d-03ca19a17cd4"
      },
      "execution_count": 1,
      "outputs": [
        {
          "output_type": "execute_result",
          "data": {
            "text/plain": [
              "<IPython.lib.display.YouTubeVideo at 0x797aba143dc0>"
            ],
            "text/html": [
              "\n",
              "        <iframe\n",
              "            width=\"400\"\n",
              "            height=\"300\"\n",
              "            src=\"https://www.youtube.com/embed/MC6CERAaYPg\"\n",
              "            frameborder=\"0\"\n",
              "            allowfullscreen\n",
              "            \n",
              "        ></iframe>\n",
              "        "
            ],
            "image/jpeg": "[encoded data removed]"
          },
          "metadata": {},
          "execution_count": 1
        }
      ]
    },
    {
      "cell_type": "code",
      "source": [
        "YouTubeVideo('iaXLDz_UeYY')"
      ],
      "metadata": {
        "colab": {
          "base_uri": "https://localhost:8080/",
          "height": 321
        },
        "id": "qWfUltfCULI3",
        "outputId": "c14bb439-29a5-47cc-82e7-c60027b246ed"
      },
      "execution_count": 2,
      "outputs": [
        {
          "output_type": "execute_result",
          "data": {
            "text/plain": [
              "<IPython.lib.display.YouTubeVideo at 0x797ab979a650>"
            ],
            "text/html": [
              "\n",
              "        <iframe\n",
              "            width=\"400\"\n",
              "            height=\"300\"\n",
              "            src=\"https://www.youtube.com/embed/iaXLDz_UeYY\"\n",
              "            frameborder=\"0\"\n",
              "            allowfullscreen\n",
              "            \n",
              "        ></iframe>\n",
              "        "
            ],
            "image/jpeg": "[encoded data removed]"
          },
          "metadata": {},
          "execution_count": 2
        }
      ]
    },
    {
      "cell_type": "markdown",
      "source": [
        "##  4.2. Lenguaje de programación Python\n",
        "\n",
        "Un **lenguaje de programación** es una notación sistemática mediante la cual se describen los procesos computacionales. Los lenguajes de programación permiten la formulación de algoritmos de manera que una computadora pueda realizar las acciones deseadas. Sin la disponibilidad de lenguajes (de alto nivel) sería simplemente imposible resolver problemas complejos usando computadoras, ya que solo entienden instrucciones binarias.\n",
        "\n",
        "<img src=https://blogger.googleusercontent.com/img/b/R29vZ2xl/AVvXsEhb7C5MuvKaHMwLNTJltLwS97ZFedtAu7g2VlYhdlbzeJi61yT65yhqzuE3u0Zfs2A3-MVbcmemMJ5qe78_iYNI5aXI5QeuELjE8E4RLaCLFnDP1lAkRauk8B66f9C3534hq27RwTXzK1TZkCHIXdeesfjkC-uYSNek-FnImxDP4dzn_FB2K09eNr5raTg/s675/Python.png>\n",
        "\n",
        "\n"
      ],
      "metadata": {
        "id": "Ist78IR4JziA"
      }
    },
    {
      "cell_type": "markdown",
      "source": [
        " Uno de los lesguajes de programación más popuelares es **Pyhton** debido a qué:\n",
        "\n",
        "\n",
        "*   Es simple e intuitivo ya que cuenta con una sintaxis fácil de aprender, escribir y leer.\n",
        "*   Cuenta con una licencia de código abierto la cual permite que sea totalmente libre de usar, modificar, copiar o reproducir.\n",
        "*   Es compatible con varios sistemas operativos cómo Linux, Windows, Mac OS, entre otros.\n",
        "*   Es dinámico debido a que el entorno de ejecución de Python permite ejecutar las instrucciones y asignar en tiempo real las variables.\n",
        "*   Contiene varías libresías y módulo que hacen ser a Python un lenguaje de programación especializado.\n",
        "*   Es popular debido a que es un lenguaje construido y mantenido por la misma comunidad, y son éstos los encargados de crear herramientas nuevas día a día.\n",
        "\n"
      ],
      "metadata": {
        "id": "Yg8jAQ3eKzaa"
      }
    },
    {
      "cell_type": "code",
      "source": [
        "YouTubeVideo('sYmZ6sP579E')"
      ],
      "metadata": {
        "colab": {
          "base_uri": "https://localhost:8080/",
          "height": 321
        },
        "id": "YUFNnZy8sQAk",
        "outputId": "6c529af5-de13-4f10-a71d-2a6c611be3c2"
      },
      "execution_count": 19,
      "outputs": [
        {
          "output_type": "execute_result",
          "data": {
            "text/plain": [
              "<IPython.lib.display.YouTubeVideo at 0x797a87263490>"
            ],
            "text/html": [
              "\n",
              "        <iframe\n",
              "            width=\"400\"\n",
              "            height=\"300\"\n",
              "            src=\"https://www.youtube.com/embed/sYmZ6sP579E\"\n",
              "            frameborder=\"0\"\n",
              "            allowfullscreen\n",
              "            \n",
              "        ></iframe>\n",
              "        "
            ],
            "image/jpeg": "[encoded data removed]"
          },
          "metadata": {},
          "execution_count": 19
        }
      ]
    },
    {
      "cell_type": "markdown",
      "source": [
        "## 4.3. Definiciones básicas en Colab\n",
        "\n",
        "Colaboratory nos ofrece un entorno en el cual nuestros algoritmos y pseudocógidos pueden ser entregados e interpretados para que el computador ejecute las tareas que necesitas.  Es por esto que en esta sección veremos cómo se definen y escriben en python los operadores aritméticos, lógicos, relacionales. Todo esto para iniciar nuestra ejecución de cálculos y operaciones en Python.\n",
        "\n",
        "\n"
      ],
      "metadata": {
        "id": "Rp6b98gVsQao"
      }
    },
    {
      "cell_type": "code",
      "source": [
        "YouTubeVideo('dkeZr6onFUA')"
      ],
      "metadata": {
        "colab": {
          "base_uri": "https://localhost:8080/",
          "height": 321
        },
        "id": "ex-YiJTy24zu",
        "outputId": "2b60d3c9-f691-4d36-d7a5-b82cb237528e"
      },
      "execution_count": 22,
      "outputs": [
        {
          "output_type": "execute_result",
          "data": {
            "text/plain": [
              "<IPython.lib.display.YouTubeVideo at 0x797a87263400>"
            ],
            "text/html": [
              "\n",
              "        <iframe\n",
              "            width=\"400\"\n",
              "            height=\"300\"\n",
              "            src=\"https://www.youtube.com/embed/dkeZr6onFUA\"\n",
              "            frameborder=\"0\"\n",
              "            allowfullscreen\n",
              "            \n",
              "        ></iframe>\n",
              "        "
            ]
          },
          "metadata": {},
          "execution_count": 22
        }
      ]
    },
    {
      "cell_type": "markdown",
      "source": [
        "### 4.3.1 Cadenas de caracteres\n",
        "\n",
        "Permite representar conceptos más generales como un nombre, un anuncio, una palabra o cualquier texto (`str`). Para escribir el texto se requiere encerrarlo en comillas simples **'** o dobles **\"**:\n",
        "\n",
        "*Ejemplos:*"
      ],
      "metadata": {
        "id": "FuVrfTs8vHQr"
      }
    },
    {
      "cell_type": "code",
      "source": [
        "'Hola mundo'"
      ],
      "metadata": {
        "colab": {
          "base_uri": "https://localhost:8080/",
          "height": 35
        },
        "id": "nt6yYoGaLPIi",
        "outputId": "57aa0c8c-aa72-4572-b5d1-3d7bb6e9c287"
      },
      "execution_count": null,
      "outputs": [
        {
          "output_type": "execute_result",
          "data": {
            "application/vnd.google.colaboratory.intrinsic+json": {
              "type": "string"
            },
            "text/plain": [
              "'Hola mundo'"
            ]
          },
          "metadata": {},
          "execution_count": 3
        }
      ]
    },
    {
      "cell_type": "code",
      "source": [
        "Saludo = \"Hola mundo\"\n",
        "print(Saludo)"
      ],
      "metadata": {
        "colab": {
          "base_uri": "https://localhost:8080/"
        },
        "id": "6KdLfGZTm0ad",
        "outputId": "7674e7d4-ba07-4266-c8da-4bf1cff3d214"
      },
      "execution_count": null,
      "outputs": [
        {
          "output_type": "stream",
          "name": "stdout",
          "text": [
            "Hola mundo\n"
          ]
        }
      ]
    },
    {
      "cell_type": "code",
      "source": [
        "Saludo[0]"
      ],
      "metadata": {
        "colab": {
          "base_uri": "https://localhost:8080/",
          "height": 35
        },
        "id": "3ykCBKNrVwmU",
        "outputId": "bf2babf4-1e93-445e-dbdb-cd6320ced5de"
      },
      "execution_count": null,
      "outputs": [
        {
          "output_type": "execute_result",
          "data": {
            "application/vnd.google.colaboratory.intrinsic+json": {
              "type": "string"
            },
            "text/plain": [
              "'H'"
            ]
          },
          "metadata": {},
          "execution_count": 78
        }
      ]
    },
    {
      "cell_type": "code",
      "source": [
        "Saludo[1]"
      ],
      "metadata": {
        "colab": {
          "base_uri": "https://localhost:8080/",
          "height": 35
        },
        "id": "Zj2zpNKnV3mD",
        "outputId": "dd653557-192f-44aa-e5ee-02d74b78549d"
      },
      "execution_count": null,
      "outputs": [
        {
          "output_type": "execute_result",
          "data": {
            "application/vnd.google.colaboratory.intrinsic+json": {
              "type": "string"
            },
            "text/plain": [
              "'o'"
            ]
          },
          "metadata": {},
          "execution_count": 79
        }
      ]
    },
    {
      "cell_type": "code",
      "source": [
        "Saludo[2]"
      ],
      "metadata": {
        "colab": {
          "base_uri": "https://localhost:8080/",
          "height": 35
        },
        "id": "0XIvrzsgV6J8",
        "outputId": "fbe1e5f7-da8c-491f-a7e4-9ca8ddc616b2"
      },
      "execution_count": null,
      "outputs": [
        {
          "output_type": "execute_result",
          "data": {
            "application/vnd.google.colaboratory.intrinsic+json": {
              "type": "string"
            },
            "text/plain": [
              "'l'"
            ]
          },
          "metadata": {},
          "execution_count": 80
        }
      ]
    },
    {
      "cell_type": "code",
      "source": [
        "Saludo[3]"
      ],
      "metadata": {
        "colab": {
          "base_uri": "https://localhost:8080/",
          "height": 35
        },
        "id": "f9-Fzo-FV7yr",
        "outputId": "2e345f70-239e-4d56-88ed-d0f2d377fc4d"
      },
      "execution_count": null,
      "outputs": [
        {
          "output_type": "execute_result",
          "data": {
            "application/vnd.google.colaboratory.intrinsic+json": {
              "type": "string"
            },
            "text/plain": [
              "'a'"
            ]
          },
          "metadata": {},
          "execution_count": 81
        }
      ]
    },
    {
      "cell_type": "code",
      "source": [
        "type('Hola mundo')"
      ],
      "metadata": {
        "colab": {
          "base_uri": "https://localhost:8080/"
        },
        "id": "qGKXKMoupLA9",
        "outputId": "332b6f13-4e72-48ea-83b3-e4c96cf42097"
      },
      "execution_count": null,
      "outputs": [
        {
          "output_type": "execute_result",
          "data": {
            "text/plain": [
              "str"
            ]
          },
          "metadata": {},
          "execution_count": 13
        }
      ]
    },
    {
      "cell_type": "markdown",
      "source": [
        "### 4.3.2. Datos numéricos\n",
        "\n",
        "Los tipos fundamentales de datos numéricos son enteros (`int`), punto flotante (`float`) y complejos (`Complex`).\n",
        "\n",
        "*Ejemplos:*"
      ],
      "metadata": {
        "id": "d_J3SE-Em9nG"
      }
    },
    {
      "cell_type": "code",
      "source": [
        "type(5)"
      ],
      "metadata": {
        "colab": {
          "base_uri": "https://localhost:8080/"
        },
        "id": "dFrVgeion4w9",
        "outputId": "034d1463-0d3c-4ec3-cec7-bc01602b256c"
      },
      "execution_count": null,
      "outputs": [
        {
          "output_type": "execute_result",
          "data": {
            "text/plain": [
              "int"
            ]
          },
          "metadata": {},
          "execution_count": 6
        }
      ]
    },
    {
      "cell_type": "code",
      "source": [
        "type(8.64)"
      ],
      "metadata": {
        "colab": {
          "base_uri": "https://localhost:8080/"
        },
        "id": "U1Eg_lv1n8Mt",
        "outputId": "28adb225-d648-4e25-96f4-66ef97578c3f"
      },
      "execution_count": null,
      "outputs": [
        {
          "output_type": "execute_result",
          "data": {
            "text/plain": [
              "float"
            ]
          },
          "metadata": {},
          "execution_count": 8
        }
      ]
    },
    {
      "cell_type": "code",
      "source": [
        "type(2+8j)"
      ],
      "metadata": {
        "colab": {
          "base_uri": "https://localhost:8080/"
        },
        "id": "DG4rEtXPFr9v",
        "outputId": "8c5026e7-0e59-41bf-d34a-bd7a21a83abe"
      },
      "execution_count": null,
      "outputs": [
        {
          "output_type": "execute_result",
          "data": {
            "text/plain": [
              "complex"
            ]
          },
          "metadata": {},
          "execution_count": 37
        }
      ]
    },
    {
      "cell_type": "markdown",
      "source": [
        "### 4.3.3. Booleanos\n",
        "\n",
        " Representa un valor de verdad (`boolean`), de lo cuales tenemos dos tipos: verdadero (`True`) o falso (`False`)"
      ],
      "metadata": {
        "id": "2J_gQp3pscM4"
      }
    },
    {
      "cell_type": "code",
      "source": [
        "type(True)"
      ],
      "metadata": {
        "colab": {
          "base_uri": "https://localhost:8080/"
        },
        "id": "DP2Tr5rHoE7_",
        "outputId": "a7f5d413-e04d-4320-c262-07453221510f"
      },
      "execution_count": null,
      "outputs": [
        {
          "output_type": "execute_result",
          "data": {
            "text/plain": [
              "bool"
            ]
          },
          "metadata": {},
          "execution_count": 10
        }
      ]
    },
    {
      "cell_type": "code",
      "source": [
        "type(False)"
      ],
      "metadata": {
        "colab": {
          "base_uri": "https://localhost:8080/"
        },
        "id": "vhS1OgcloFYe",
        "outputId": "678d2d07-61c2-4153-c3c2-1e442386c5c1"
      },
      "execution_count": null,
      "outputs": [
        {
          "output_type": "execute_result",
          "data": {
            "text/plain": [
              "bool"
            ]
          },
          "metadata": {},
          "execution_count": 12
        }
      ]
    },
    {
      "cell_type": "markdown",
      "source": [
        "### 4.3.4. Operaciones\n",
        "\n",
        "A continuación, se muestra cómo se pueden escribir los operadores que estuvimos trabajando previamente."
      ],
      "metadata": {
        "id": "RV52V2QmkQ4L"
      }
    },
    {
      "cell_type": "code",
      "source": [
        "#Asignamos valores a dos cantidades con las que realizaremos las operaciones\n",
        "a = 5\n",
        "b = 6\n"
      ],
      "metadata": {
        "id": "4IaoEkpMk6pO"
      },
      "execution_count": 3,
      "outputs": []
    },
    {
      "cell_type": "code",
      "source": [
        "#Suma\n",
        "\n",
        "c = a + b\n",
        "print(c)"
      ],
      "metadata": {
        "colab": {
          "base_uri": "https://localhost:8080/"
        },
        "id": "JWMh-7FblEIl",
        "outputId": "c0e6f3cf-0ec1-4f62-d724-b6fb0bb588db"
      },
      "execution_count": 4,
      "outputs": [
        {
          "output_type": "stream",
          "name": "stdout",
          "text": [
            "11\n"
          ]
        }
      ]
    },
    {
      "cell_type": "code",
      "source": [
        "#Resta\n",
        "\n",
        "c = a - b\n",
        "print(c)"
      ],
      "metadata": {
        "colab": {
          "base_uri": "https://localhost:8080/"
        },
        "id": "l6ZedB4tlIfZ",
        "outputId": "843ca2f5-48b2-4604-b378-cbdd2b81d41a"
      },
      "execution_count": 5,
      "outputs": [
        {
          "output_type": "stream",
          "name": "stdout",
          "text": [
            "-1\n"
          ]
        }
      ]
    },
    {
      "cell_type": "code",
      "source": [
        "#Multiplicación\n",
        "\n",
        "c = a * b\n",
        "print(c)"
      ],
      "metadata": {
        "colab": {
          "base_uri": "https://localhost:8080/"
        },
        "id": "EpDOR7S9lMMk",
        "outputId": "03a5ec13-49b0-4b36-9573-d6b19fd99ffb"
      },
      "execution_count": 6,
      "outputs": [
        {
          "output_type": "stream",
          "name": "stdout",
          "text": [
            "30\n"
          ]
        }
      ]
    },
    {
      "cell_type": "code",
      "source": [
        "#División\n",
        "\n",
        "c = a / b\n",
        "print(c)"
      ],
      "metadata": {
        "colab": {
          "base_uri": "https://localhost:8080/"
        },
        "id": "Nwjw6ZoIldP7",
        "outputId": "d779f2f8-f73b-44d2-8716-be8de0df2814"
      },
      "execution_count": 7,
      "outputs": [
        {
          "output_type": "stream",
          "name": "stdout",
          "text": [
            "0.8333333333333334\n"
          ]
        }
      ]
    },
    {
      "cell_type": "code",
      "source": [
        "#Potenciación\n",
        "\n",
        "c = a ** b\n",
        "print(c)"
      ],
      "metadata": {
        "colab": {
          "base_uri": "https://localhost:8080/"
        },
        "id": "4eUzhXEllj6-",
        "outputId": "53aca478-fa0f-475f-ea9d-7ce5eff595f7"
      },
      "execution_count": 8,
      "outputs": [
        {
          "output_type": "stream",
          "name": "stdout",
          "text": [
            "15625\n"
          ]
        }
      ]
    },
    {
      "cell_type": "code",
      "source": [
        "#Módulo\n",
        "\n",
        "c = a % b\n",
        "print(c)"
      ],
      "metadata": {
        "colab": {
          "base_uri": "https://localhost:8080/"
        },
        "id": "5oVSQgIGln-B",
        "outputId": "010e8084-8ce6-4d04-ee89-7bcd879a8ce6"
      },
      "execution_count": 9,
      "outputs": [
        {
          "output_type": "stream",
          "name": "stdout",
          "text": [
            "5\n"
          ]
        }
      ]
    },
    {
      "cell_type": "code",
      "source": [
        "#Mayor que\n",
        "\n",
        "a > b"
      ],
      "metadata": {
        "colab": {
          "base_uri": "https://localhost:8080/"
        },
        "id": "JkFKq2UimiU8",
        "outputId": "91bfd6c8-c41c-4378-ffe8-80f74cce4989"
      },
      "execution_count": 10,
      "outputs": [
        {
          "output_type": "execute_result",
          "data": {
            "text/plain": [
              "False"
            ]
          },
          "metadata": {},
          "execution_count": 10
        }
      ]
    },
    {
      "cell_type": "code",
      "source": [
        "#Menor que\n",
        "\n",
        "a < b"
      ],
      "metadata": {
        "colab": {
          "base_uri": "https://localhost:8080/"
        },
        "id": "gaLaH-yamlp8",
        "outputId": "66e0e22d-6b42-406e-ce1b-618b6876a3a0"
      },
      "execution_count": 11,
      "outputs": [
        {
          "output_type": "execute_result",
          "data": {
            "text/plain": [
              "True"
            ]
          },
          "metadata": {},
          "execution_count": 11
        }
      ]
    },
    {
      "cell_type": "code",
      "source": [
        "#Mayor o igual que\n",
        "\n",
        "a >= b"
      ],
      "metadata": {
        "colab": {
          "base_uri": "https://localhost:8080/"
        },
        "id": "1B5VFBTqmonG",
        "outputId": "d3aa5d70-e709-4b85-b768-28117601bb6a"
      },
      "execution_count": 12,
      "outputs": [
        {
          "output_type": "execute_result",
          "data": {
            "text/plain": [
              "False"
            ]
          },
          "metadata": {},
          "execution_count": 12
        }
      ]
    },
    {
      "cell_type": "code",
      "source": [
        "#Menor o igual que\n",
        "\n",
        "a <= b"
      ],
      "metadata": {
        "colab": {
          "base_uri": "https://localhost:8080/"
        },
        "id": "gZh0wEfRmsdQ",
        "outputId": "67ee5555-0990-494b-c33b-58533f5aca4d"
      },
      "execution_count": 13,
      "outputs": [
        {
          "output_type": "execute_result",
          "data": {
            "text/plain": [
              "True"
            ]
          },
          "metadata": {},
          "execution_count": 13
        }
      ]
    },
    {
      "cell_type": "code",
      "source": [
        "#Igual a\n",
        "\n",
        "a == b"
      ],
      "metadata": {
        "colab": {
          "base_uri": "https://localhost:8080/"
        },
        "id": "vuuECvGkmxcD",
        "outputId": "ad871f0a-2393-48d6-8c7c-3b81f193a715"
      },
      "execution_count": 14,
      "outputs": [
        {
          "output_type": "execute_result",
          "data": {
            "text/plain": [
              "False"
            ]
          },
          "metadata": {},
          "execution_count": 14
        }
      ]
    },
    {
      "cell_type": "code",
      "source": [
        "#Diferente a\n",
        "\n",
        "a != b"
      ],
      "metadata": {
        "colab": {
          "base_uri": "https://localhost:8080/"
        },
        "id": "9nuJivqJmzsZ",
        "outputId": "b0cdbd62-6a10-488f-d752-5eda8b0b669a"
      },
      "execution_count": 15,
      "outputs": [
        {
          "output_type": "execute_result",
          "data": {
            "text/plain": [
              "True"
            ]
          },
          "metadata": {},
          "execution_count": 15
        }
      ]
    },
    {
      "cell_type": "markdown",
      "source": [
        "Estas operaciones se pueden usar como argumentos para llevar a cabo operaciones lógicas. Estas pueden ser: conjunción, disyunción y negación. Sus resultados serán varibles booleanas."
      ],
      "metadata": {
        "id": "VAHk34vOm3YG"
      }
    },
    {
      "cell_type": "code",
      "source": [
        "#Conjunción\n",
        "\n",
        "(a > b) and (a != b)"
      ],
      "metadata": {
        "colab": {
          "base_uri": "https://localhost:8080/"
        },
        "id": "qjcYPtjfnp_g",
        "outputId": "a7cf06b8-18b3-4955-ebff-28bff4eefb9f"
      },
      "execution_count": 16,
      "outputs": [
        {
          "output_type": "execute_result",
          "data": {
            "text/plain": [
              "False"
            ]
          },
          "metadata": {},
          "execution_count": 16
        }
      ]
    },
    {
      "cell_type": "code",
      "source": [
        "#Disyunción\n",
        "\n",
        "(a > b) or (a != b)"
      ],
      "metadata": {
        "colab": {
          "base_uri": "https://localhost:8080/"
        },
        "id": "mHWhhAA_nvUn",
        "outputId": "b5f250d5-351e-4f46-e17c-9abfe22c00c1"
      },
      "execution_count": 17,
      "outputs": [
        {
          "output_type": "execute_result",
          "data": {
            "text/plain": [
              "True"
            ]
          },
          "metadata": {},
          "execution_count": 17
        }
      ]
    },
    {
      "cell_type": "code",
      "source": [
        "#Negación\n",
        "\n",
        "not (a > b)"
      ],
      "metadata": {
        "colab": {
          "base_uri": "https://localhost:8080/"
        },
        "id": "PDj_mNFqn5EX",
        "outputId": "a84a6bb3-08f4-4a0a-8ecc-65ee85e84827"
      },
      "execution_count": 18,
      "outputs": [
        {
          "output_type": "execute_result",
          "data": {
            "text/plain": [
              "True"
            ]
          },
          "metadata": {},
          "execution_count": 18
        }
      ]
    },
    {
      "cell_type": "markdown",
      "source": [
        "## 4.4. Ejercicios\n",
        "\n",
        "1. Elabore un algoritmo que determine si un $n$ es número es par o impar.\n",
        "\n",
        "2. Elabore un algoritmo que permita saber si un número $m$ es múltiplo o divisor de un número $n$.\n",
        "\n",
        "3. Elabore un algoritmo que pida al usuario $2$ números y devuelva el mayor de estos.\n",
        "\n",
        "4. Elabore un algoritmo que calcula la suma de $1$ hasta un número $n$ dado.\n",
        "\n",
        "5. Elabore un algoritmo que calcule la suma de los primeros $n$ números impares.\n",
        "\n",
        "6. Elabore un algoritmo que calcule $\\pi$ a partir de la siguiente fórmula:\n",
        "\n",
        "\\begin{equation}\n",
        "\\sum_{k=1}^n\\frac{(-1)^k}{2k+1}=\\frac{\\pi}{4}\\,.    \n",
        "\\end{equation}\n",
        "7. Elabore un algoritmo que lea un número entero $n$ y que imprima todos los divisores de él.\n",
        "\n",
        "8. Elabore un algoritmo que determine si un número $n$ es primo.\n",
        "\n",
        "9. Elabore un algoritmo que lea dos enteros positivos $n$ y $m$, y que calcule e imprima el resultado de multiplicar $m$ por $n$ utilizando únicamente la operación de suma.\n",
        "\n",
        "10. Elabore un algoritmo que lea un entero n y que determine e imprima si es un número perfecto. Un número perfecto es aquel cuya suma de sus divisores desde $1$ hasta $n-1$ es $n$, por ejemplo, $6$ es un número perfecto ya que $1+2+3=6$.\n",
        "\n",
        "11. Elabore un algoritmo que calcule los primeros $n$ términos de la sucesión de Fibonacci.\n",
        "\n",
        "12. Elabore un algoritmo que calcule el factorial de un número dado $n$.\n",
        "\n",
        "13. Elabore un algoritmo que lea tres números y los organice de mayor a menor.\n",
        "\n",
        "14.  Elabore un algoritmo que lea dos números enteros y que determine e imprima el máximo común divisor y el mínimo común múltiplo de ellos."
      ],
      "metadata": {
        "id": "mDlKrkjXcKO_"
      }
    }
  ],
  "metadata": {
    "colab": {
      "provenance": [],
      "collapsed_sections": [
        "Ist78IR4JziA",
        "FuVrfTs8vHQr",
        "d_J3SE-Em9nG",
        "2J_gQp3pscM4",
        "RV52V2QmkQ4L"
      ]
    },
    "kernelspec": {
      "display_name": "Python 3",
      "name": "python3"
    },
    "language_info": {
      "name": "python"
    }
  },
  "nbformat": 4,
  "nbformat_minor": 0
}
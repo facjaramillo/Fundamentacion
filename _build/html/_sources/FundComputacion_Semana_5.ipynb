{
  "nbformat": 4,
  "nbformat_minor": 0,
  "metadata": {
    "colab": {
      "provenance": [],
      "collapsed_sections": [
        "2rKUmlCx9MTW",
        "aIzwVE6Y-5W6"
      ]
    },
    "kernelspec": {
      "name": "python3",
      "display_name": "Python 3"
    },
    "language_info": {
      "name": "python"
    }
  },
  "cells": [
    {
      "cell_type": "markdown",
      "source": [
        "\n",
        "# Semana 5: Condicionales y Ciclos (`For` y `While`)\n",
        "\n",
        "En este punto ya hemos definido las diferentes operaciones aritméticas, hemos asignado valores numéricos, booleanos y cadenas de caracteres a variables. Ahora, al igual que como lo hacíamos cuando creábamos nuestros pseudo-códigos, definiremos condicionales y ciclos en Python."
      ],
      "metadata": {
        "id": "8CsRrn_ufulg"
      }
    },
    {
      "cell_type": "markdown",
      "source": [
        "## 5.1. Condicionales\n",
        "\n",
        "Un condicional es una sentencia que nos permite verificar si se cumple una condición, y establecer dos posibles ejecuciones de acuerdo a si se cumple o no la condición. En un diagrama de flujo, se vería como sigue:\n",
        "\n",
        "![](https://i.imgur.com/O6cZrw0.png)\n",
        "\n",
        "[Referencia de Python sobre condicionales](https://www.programaenpython.com/fundamentos/sentencias-condicionales-en-python/)\n"
      ],
      "metadata": {
        "id": "jybsjTrl2RXg"
      }
    },
    {
      "cell_type": "markdown",
      "source": [
        "\n",
        "### 5.1.1. Sentencia `if`\n",
        "\n",
        "Permite dividir el flujo de un programa en diferentes caminos u opciones. El bloque de código dentro del condicional `if` se ejecuta siempre que la condición sea **True**.\n",
        "\n",
        "**Ejemplo:**"
      ],
      "metadata": {
        "id": "EpoBm9sSrNjS"
      }
    },
    {
      "cell_type": "code",
      "source": [
        "if True:\n",
        "    print(\"Esto siempre se va a imprimir\")\n",
        "print(\"Ya estamos fuera del if\")\n",
        "\n",
        "if False:\n",
        "    print('Esto nunca se va a imprimir')\n",
        "print(\"Ya estamos fuera del if\")"
      ],
      "metadata": {
        "colab": {
          "base_uri": "https://localhost:8080/"
        },
        "id": "F9GJ8-E53A0a",
        "outputId": "ff0134d2-07bb-4120-8316-f6da5a5ace7d"
      },
      "execution_count": null,
      "outputs": [
        {
          "output_type": "stream",
          "name": "stdout",
          "text": [
            "Esto siempre se va a imprimir\n",
            "Ya estamos fuera del if\n",
            "Ya estamos fuera del if\n"
          ]
        }
      ]
    },
    {
      "cell_type": "markdown",
      "source": [
        "**Ejemplo:** Números mayores o menores que otros."
      ],
      "metadata": {
        "id": "VJ0tm9eKUd1m"
      }
    },
    {
      "cell_type": "code",
      "source": [
        "a=35\n",
        "b=100\n",
        "\n",
        "if a<b:\n",
        "  print(\"a es menor que b\")\n",
        "\n",
        "if a>b:\n",
        "  print(\"a es mayor que b\")\n"
      ],
      "metadata": {
        "colab": {
          "base_uri": "https://localhost:8080/"
        },
        "id": "WCwMun5qtB4o",
        "outputId": "480336e3-ca50-4d38-b26b-2f10cefd9f40"
      },
      "execution_count": null,
      "outputs": [
        {
          "output_type": "stream",
          "name": "stdout",
          "text": [
            "a es menor que b\n"
          ]
        }
      ]
    },
    {
      "cell_type": "markdown",
      "source": [
        "### 5.1.2. Sentencia `else`\n",
        "La declaración `else` es una estructura de control de flujo que se utiliza junto con la declaración `if` o la declaración `elif`. Si todas las condiciones en las declaraciones `if` y `elif` son falsas, se ejecuta el bloque de código dentro de la declaración else. La declaración else es opcional y sólo se ejecuta si no se cumple ninguna de las condiciones anteriores.\n",
        "\n",
        "**Ejemplo:** Determinar si un número es par o impar"
      ],
      "metadata": {
        "id": "d2YKij5AoIMg"
      }
    },
    {
      "cell_type": "code",
      "source": [
        "n = 83\n",
        "\n",
        "if n%2 == 0:\n",
        "    print(\"El número es par\")\n",
        "else:\n",
        "    print(\"El número es impar\")"
      ],
      "metadata": {
        "colab": {
          "base_uri": "https://localhost:8080/"
        },
        "id": "tq2z-chXvbLt",
        "outputId": "f207b14c-0758-4e8f-e16a-ada3b6820788"
      },
      "execution_count": 16,
      "outputs": [
        {
          "output_type": "stream",
          "name": "stdout",
          "text": [
            "El número es impar\n"
          ]
        }
      ]
    },
    {
      "cell_type": "markdown",
      "source": [
        "\n",
        "### 5.1.3. Sentencia `elif`\n",
        "\n",
        "La declaración `elif` es una extensión de la declaración `if` que permite verificar múltiples condiciones en una sola estructura de control de flujo. Si la condición en la declaración `if` es falsa, se verifica la siguiente condición en la declaración `elif`. Si se cumple la condición, el bloque de código dentro del elif se ejecuta. Si la condición es falsa, se omite el bloque de código y se verifica la siguiente condición en la siguiente declaración `elif` o en la declaración `else`.\n",
        "\n",
        "**Ejemplo:**"
      ],
      "metadata": {
        "id": "RWMKsRcI3bOP"
      }
    },
    {
      "cell_type": "code",
      "source": [
        "edad = 30\n",
        "\n",
        "if edad >= 18:\n",
        "    print(\"Usted es mayor de edad\")\n",
        "else:\n",
        "    print(\"Usted es menor de edad\")"
      ],
      "metadata": {
        "colab": {
          "base_uri": "https://localhost:8080/"
        },
        "id": "r1boPHYp3OBh",
        "outputId": "887cbce6-559e-4fde-9497-6a375bf7b8ad"
      },
      "execution_count": 17,
      "outputs": [
        {
          "output_type": "stream",
          "name": "stdout",
          "text": [
            "Usted es mayor de edad\n"
          ]
        }
      ]
    },
    {
      "cell_type": "markdown",
      "source": [
        "**Ejemplo:**"
      ],
      "metadata": {
        "id": "i9aGIKxhU8du"
      }
    },
    {
      "cell_type": "code",
      "source": [
        "\n",
        "if edad >= 18:\n",
        "    print(\"Usted es mayor de edad\")\n",
        "elif 0<= edad < 18 :\n",
        "    print(\"Usted es menor de edad\")\n",
        "else:\n",
        "    print(\"La edad ingresada es erronea\")"
      ],
      "metadata": {
        "colab": {
          "base_uri": "https://localhost:8080/"
        },
        "id": "j1FuRwH737Xl",
        "outputId": "d0531202-6eb9-4bd1-8da4-4d06b8b119be"
      },
      "execution_count": 7,
      "outputs": [
        {
          "output_type": "stream",
          "name": "stdout",
          "text": [
            "Usted es mayor de edad\n"
          ]
        }
      ]
    },
    {
      "cell_type": "markdown",
      "source": [
        "**Ejemplo:**"
      ],
      "metadata": {
        "id": "K0HzoCrzVKMD"
      }
    },
    {
      "cell_type": "code",
      "source": [
        "a = int(input(\"Ingrese un número: \"))\n",
        "\n",
        "if a >= 2:\n",
        "    print(\"El número es mayor que 2\")\n",
        "if a >= 3:\n",
        "    print(\"El número es mayor que 3\")"
      ],
      "metadata": {
        "colab": {
          "base_uri": "https://localhost:8080/"
        },
        "id": "sHXrZwpP4dGz",
        "outputId": "3bf37e17-abd9-4443-b350-4a4a586ae002"
      },
      "execution_count": null,
      "outputs": [
        {
          "output_type": "stream",
          "name": "stdout",
          "text": [
            "Ingrese un número: 5\n",
            "El número es mayor que 2\n",
            "El número es mayor que 3\n"
          ]
        }
      ]
    },
    {
      "cell_type": "markdown",
      "source": [
        "Si no ponemos el `elif`, se ejecutan ambos condicionales. Con el `elif`, solo entra a la segunda condición si no se cumple la primera. En este ejemplo es claro que $a\\geq2$ y $a\\geq3$, pero solo se imprime que el número es mayor o igual que dos."
      ],
      "metadata": {
        "id": "ZlYvgTt0VWRW"
      }
    },
    {
      "cell_type": "code",
      "source": [
        "a = int(input(\"Ingrese un número: \"))\n",
        "\n",
        "if a >= 2:\n",
        "    print(\"El número es mayor que 2\")\n",
        "elif a >= 3:\n",
        "    print(\"El número es mayor que 3\")"
      ],
      "metadata": {
        "colab": {
          "base_uri": "https://localhost:8080/"
        },
        "id": "YeHnhZMo4m73",
        "outputId": "66eccd6e-b550-418b-afab-aaf31293eb62"
      },
      "execution_count": null,
      "outputs": [
        {
          "output_type": "stream",
          "name": "stdout",
          "text": [
            "Ingrese un número: 5\n",
            "El número es mayor que 2\n"
          ]
        }
      ]
    },
    {
      "cell_type": "markdown",
      "source": [
        "## 5.2. Ciclos\n",
        "\n"
      ],
      "metadata": {
        "id": "WHjrNsVs5w5J"
      }
    },
    {
      "cell_type": "markdown",
      "source": [
        "### 5.2.1. Ciclo `for`\n",
        "\n",
        "El ciclo `for`  es una esctructura de ciclo usada en los casos donde conozco los elementos o la cantidad de elementos a iterar.\n",
        "\n",
        "[Referencia de Python sobre la sentencia for](https://docs.python.org/es/3.12/reference/compound_stmts.html#the-for-statement)\n",
        "\n",
        "La sintaxis para definir un ciclo `for` es:"
      ],
      "metadata": {
        "id": "EmEixUySrFpq"
      }
    },
    {
      "cell_type": "code",
      "source": [
        "# i es la variable que va a cambiar en el ciclo.\n",
        "# La variación será desde a hasta b-1, con un paso igual a c.\n",
        "for i in range(0,10,1):       # a=0, b=10, c=1\n",
        "    print(i)"
      ],
      "metadata": {
        "colab": {
          "base_uri": "https://localhost:8080/"
        },
        "id": "hzMHR_n54txf",
        "outputId": "f28d95e0-4c8c-4ebf-cad8-91b738910fea"
      },
      "execution_count": null,
      "outputs": [
        {
          "output_type": "stream",
          "name": "stdout",
          "text": [
            "0\n",
            "1\n",
            "2\n",
            "3\n",
            "4\n",
            "5\n",
            "6\n",
            "7\n",
            "8\n",
            "9\n"
          ]
        }
      ]
    },
    {
      "cell_type": "markdown",
      "source": [
        "Ahora, un ciclo `for` con un incremento de 2. Este ciclo toma solo los números pares entre 2 y 19."
      ],
      "metadata": {
        "id": "5yOIPLD3WXKT"
      }
    },
    {
      "cell_type": "code",
      "source": [
        "#Otro ejemplo de ciclo\n",
        "for i in range(2,20,2):\n",
        "    print(i)"
      ],
      "metadata": {
        "colab": {
          "base_uri": "https://localhost:8080/"
        },
        "id": "ph4O5hEVp8zd",
        "outputId": "24bd99e8-7d7b-4492-93e6-03e8d906ce13"
      },
      "execution_count": null,
      "outputs": [
        {
          "output_type": "stream",
          "name": "stdout",
          "text": [
            "2\n",
            "4\n",
            "6\n",
            "8\n",
            "10\n",
            "12\n",
            "14\n",
            "16\n",
            "18\n"
          ]
        }
      ]
    },
    {
      "cell_type": "markdown",
      "source": [
        "Para definir el ciclo `for`, no es necesario especificarle el extremo inferior del intervalo ni el incremento. Si estos no se especifican, por defecto se supondrá que el argumento de la función range será (0,19], con un incremento de 1."
      ],
      "metadata": {
        "id": "9jdliW3cWhvv"
      }
    },
    {
      "cell_type": "code",
      "source": [
        "#Otro ejemplo de ciclo\n",
        "for i in range(20):\n",
        "    print(i)"
      ],
      "metadata": {
        "colab": {
          "base_uri": "https://localhost:8080/"
        },
        "id": "Ol3wRFRwx3LF",
        "outputId": "7c87e3e3-5cb0-4d0c-b9f0-3fda590124cd"
      },
      "execution_count": null,
      "outputs": [
        {
          "output_type": "stream",
          "name": "stdout",
          "text": [
            "0\n",
            "1\n",
            "2\n",
            "3\n",
            "4\n",
            "5\n",
            "6\n",
            "7\n",
            "8\n",
            "9\n",
            "10\n",
            "11\n",
            "12\n",
            "13\n",
            "14\n",
            "15\n",
            "16\n",
            "17\n",
            "18\n",
            "19\n"
          ]
        }
      ]
    },
    {
      "cell_type": "markdown",
      "source": [
        "**Nota:** En python los contadores por defecto inician desde 0 y terminan en $n-1$"
      ],
      "metadata": {
        "id": "k2_WPinQ6GJn"
      }
    },
    {
      "cell_type": "code",
      "source": [
        " #Nuevo tipo de variable usada para asignar valores al contador\n",
        "type(range(10))"
      ],
      "metadata": {
        "colab": {
          "base_uri": "https://localhost:8080/"
        },
        "id": "y-1JCY6k6ErR",
        "outputId": "24fadf37-b9d2-491a-af90-d2e7a7da8179"
      },
      "execution_count": null,
      "outputs": [
        {
          "output_type": "execute_result",
          "data": {
            "text/plain": [
              "range"
            ]
          },
          "metadata": {},
          "execution_count": 51
        }
      ]
    },
    {
      "cell_type": "markdown",
      "source": [
        "### 5.2.2. Ciclo `while`\n",
        "\n",
        "El ciclo `while` se basa en repetir un bloque de códigos a partir de una condición establecida. El bloque `while` se ejecutará siempre y cuando el resultado de la condición sea `True`.\n",
        "\n",
        "[Referencia de Python sobre la sentencia While](https://docs.python.org/es/3.12/reference/compound_stmts.html#the-while-statement)\n",
        "\n",
        "**Ejemplo:** ciclo infinito"
      ],
      "metadata": {
        "id": "2rKUmlCx9MTW"
      }
    },
    {
      "cell_type": "code",
      "source": [
        "while True: #Ciclo infinito\n",
        "    print(\"Hola\")\n",
        "    input(\"Cómo te llamas: \")"
      ],
      "metadata": {
        "id": "9Qi2X0V79Ep2"
      },
      "execution_count": null,
      "outputs": []
    },
    {
      "cell_type": "markdown",
      "source": [
        "**Ejemplo** Este ciclo se ejecutará tantas veces como la diferencia entre 0 y el número $n$ que se le pide al usuario que ingrese, aunque es un ciclo `while`. Esto dado que la ciondición establecida fue que $i \\leq n$. $i$ se actualiza aumentando su valor en 1 en cada iteración."
      ],
      "metadata": {
        "id": "BolbQDdj94TA"
      }
    },
    {
      "cell_type": "code",
      "source": [
        "n = int(input(\"Ingrese un número: \"))\n",
        "\n",
        "i = 0\n",
        "while i <= n:\n",
        "    print(i)\n",
        "    i+=1"
      ],
      "metadata": {
        "colab": {
          "base_uri": "https://localhost:8080/"
        },
        "id": "NZJXL8aH9rtY",
        "outputId": "521b69a8-c9ad-4066-d408-15d68eed3e27"
      },
      "execution_count": 4,
      "outputs": [
        {
          "output_type": "stream",
          "name": "stdout",
          "text": [
            "Ingrese un número: 9\n",
            "0\n",
            "1\n",
            "2\n",
            "3\n",
            "4\n",
            "5\n",
            "6\n",
            "7\n",
            "8\n",
            "9\n"
          ]
        }
      ]
    },
    {
      "cell_type": "markdown",
      "source": [
        "**Ejemplo:** Al tener el ciclo `while` una condición para ejecutarse, se puede usar directamente en él una sentencia `else`, que se ejecutará solo cuando se deje de cumplir la condición del ciclo. Esto es: no es necesaria la sentencia `if` en este caso."
      ],
      "metadata": {
        "id": "GI8JQm4qYZNC"
      }
    },
    {
      "cell_type": "code",
      "source": [
        "n = int(input(\"Ingrese un número: \"))\n",
        "\n",
        "i = 0\n",
        "while i <= n:\n",
        "    print(i)\n",
        "    i+=1\n",
        "else:\n",
        "    print(f'El ciclo termino en la iteración {i}')"
      ],
      "metadata": {
        "colab": {
          "base_uri": "https://localhost:8080/"
        },
        "id": "efCXC6bd-FAw",
        "outputId": "321f64de-b532-42a4-8867-80dd65cc1717"
      },
      "execution_count": 5,
      "outputs": [
        {
          "output_type": "stream",
          "name": "stdout",
          "text": [
            "Ingrese un número: 10\n",
            "0\n",
            "1\n",
            "2\n",
            "3\n",
            "4\n",
            "5\n",
            "6\n",
            "7\n",
            "8\n",
            "9\n",
            "10\n",
            "El ciclo termino en la iteración 11\n"
          ]
        }
      ]
    },
    {
      "cell_type": "markdown",
      "source": [
        "**Ejemplo:** Ejecución de un ciclo `while` hasta que el ususario ingrese una clave. La clave es \"Salir\"."
      ],
      "metadata": {
        "id": "7HKpnVrOYxD8"
      }
    },
    {
      "cell_type": "code",
      "source": [
        "comando = ''\n",
        "while comando != 'Salir':\n",
        "    comando = input('Ingrese un comando: ')\n",
        "    print(comando)"
      ],
      "metadata": {
        "colab": {
          "base_uri": "https://localhost:8080/"
        },
        "id": "ztR_QcXJ-fhn",
        "outputId": "ac60ae60-c17f-42c6-f307-2310f0c7e923"
      },
      "execution_count": null,
      "outputs": [
        {
          "output_type": "stream",
          "name": "stdout",
          "text": [
            "Ingrese un comando: Hola\n",
            "Hola\n",
            "Ingrese un comando: Cómo estás?\n",
            "Cómo estás?\n",
            "Ingrese un comando: Salir\n",
            "Salir\n"
          ]
        }
      ]
    },
    {
      "cell_type": "markdown",
      "source": [
        "### 5.2.3. Operadores `break`, `continue` y `pass`\n",
        "\n",
        "Estos operadores son útiles para el contro de flujo de ciclos.\n"
      ],
      "metadata": {
        "id": "aIzwVE6Y-5W6"
      }
    },
    {
      "cell_type": "markdown",
      "source": [
        "\n",
        "\n",
        "\n",
        "\n",
        "La instrucción `break` sirve para \"romper\" el ciclo.\n",
        "\n",
        "![](https://i.imgur.com/JZ8kQIM.png)\n",
        "\n",
        "\n",
        "**Ejemplo:**\n",
        "\n"
      ],
      "metadata": {
        "id": "kJNWnbwgY_V4"
      }
    },
    {
      "cell_type": "code",
      "source": [
        "indice = 0\n",
        "while True:\n",
        "    if indice == 10:\n",
        "        break\n",
        "    indice += 1\n",
        "    print(indice)"
      ],
      "metadata": {
        "colab": {
          "base_uri": "https://localhost:8080/"
        },
        "id": "-IgeHjYu-uNe",
        "outputId": "9ec4dd71-f3bd-47de-d736-f0ece8f98dff"
      },
      "execution_count": null,
      "outputs": [
        {
          "output_type": "stream",
          "name": "stdout",
          "text": [
            "1\n",
            "2\n",
            "3\n",
            "4\n",
            "5\n",
            "6\n",
            "7\n",
            "8\n",
            "9\n",
            "10\n"
          ]
        }
      ]
    },
    {
      "cell_type": "markdown",
      "source": [
        "**Ejemplo:**"
      ],
      "metadata": {
        "id": "6cFyr9U3ZDuA"
      }
    },
    {
      "cell_type": "code",
      "source": [
        "for i in range(0,100):\n",
        "    print(i)\n",
        "    if i == 3:\n",
        "        break"
      ],
      "metadata": {
        "colab": {
          "base_uri": "https://localhost:8080/"
        },
        "id": "PE2qOHGy_OCj",
        "outputId": "daf9d359-b9c3-41e1-bcc2-e34315584691"
      },
      "execution_count": null,
      "outputs": [
        {
          "output_type": "stream",
          "name": "stdout",
          "text": [
            "0\n",
            "1\n",
            "2\n",
            "3\n"
          ]
        }
      ]
    },
    {
      "cell_type": "markdown",
      "source": [
        "**Ejemplo:** Ciclo que se ejecuta hasta que se pase un número primo, en alguna de las iteraciones."
      ],
      "metadata": {
        "id": "iODdIgKyZJHA"
      }
    },
    {
      "cell_type": "code",
      "source": [
        "n = int(input(\"Ingrese un número: \"))\n",
        "\n",
        "primo = True\n",
        "for i in range(2,n):\n",
        "    if n%i == 0:\n",
        "        primo = False\n",
        "        break\n",
        "print(primo)"
      ],
      "metadata": {
        "colab": {
          "base_uri": "https://localhost:8080/"
        },
        "id": "pi4446WD_Xxj",
        "outputId": "691bac71-5ab6-4ea5-dc21-c38c77ce2ad1"
      },
      "execution_count": null,
      "outputs": [
        {
          "output_type": "stream",
          "name": "stdout",
          "text": [
            "Ingrese un número: 2583646455452\n",
            "False\n"
          ]
        }
      ]
    },
    {
      "cell_type": "markdown",
      "source": [
        "La instrucción `continue` sirve para \"saltarse\" la iteracción actual sin romper el ciclo.\n",
        "\n",
        "**Ejemplo:**"
      ],
      "metadata": {
        "id": "BeijuBDPAJ4M"
      }
    },
    {
      "cell_type": "code",
      "source": [
        "for i in range(0,12):\n",
        "    if i==5 or i>10:\n",
        "        print(f\"la iteración {i} se salto\")\n",
        "        continue\n",
        "    print(i)"
      ],
      "metadata": {
        "colab": {
          "base_uri": "https://localhost:8080/"
        },
        "id": "ek2A_7-5_qXh",
        "outputId": "19cd7e02-2e1c-47db-a3bb-006c950162b2"
      },
      "execution_count": null,
      "outputs": [
        {
          "output_type": "stream",
          "name": "stdout",
          "text": [
            "0\n",
            "1\n",
            "2\n",
            "3\n",
            "4\n",
            "la iteración 5 se salto\n",
            "6\n",
            "7\n",
            "8\n",
            "9\n",
            "10\n",
            "la iteración 11 se salto\n"
          ]
        }
      ]
    },
    {
      "cell_type": "markdown",
      "source": [
        "La instrucción `pass` no hace nada cuando se cumple, sin embargo es de gran ayuda en la construcción de programas.\n",
        "\n",
        "**Ejemplos:**"
      ],
      "metadata": {
        "id": "Ic9RrdswAnJ0"
      }
    },
    {
      "cell_type": "code",
      "source": [
        "if i >10:\n",
        "    pass"
      ],
      "metadata": {
        "id": "MhV_Lk1EAxBu"
      },
      "execution_count": null,
      "outputs": []
    },
    {
      "cell_type": "code",
      "source": [
        "if i > 10:\n",
        "    print(\"Hola\")\n",
        "else:\n",
        "    pass"
      ],
      "metadata": {
        "id": "ZkXa3c5ErkRx"
      },
      "execution_count": null,
      "outputs": []
    },
    {
      "cell_type": "code",
      "source": [
        "for i in range(10):\n",
        "    pass"
      ],
      "metadata": {
        "id": "AhZc8Oubrgs_"
      },
      "execution_count": null,
      "outputs": []
    },
    {
      "cell_type": "code",
      "source": [
        "for i in range(10):\n",
        "    if i == 5:\n",
        "        print(\"i = 5\")\n",
        "        pass\n",
        "    print(i)"
      ],
      "metadata": {
        "colab": {
          "base_uri": "https://localhost:8080/"
        },
        "id": "rkLAzynNA0UK",
        "outputId": "543e1317-a76b-4567-d320-1b6528254605"
      },
      "execution_count": null,
      "outputs": [
        {
          "output_type": "stream",
          "name": "stdout",
          "text": [
            "0\n",
            "1\n",
            "2\n",
            "3\n",
            "4\n",
            "i = 5\n",
            "5\n",
            "6\n",
            "7\n",
            "8\n",
            "9\n"
          ]
        }
      ]
    }
  ]
}
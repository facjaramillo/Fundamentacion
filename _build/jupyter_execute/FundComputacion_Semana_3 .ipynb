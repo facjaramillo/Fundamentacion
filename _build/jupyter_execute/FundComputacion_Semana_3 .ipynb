{
 "cells": [
  {
   "cell_type": "markdown",
   "metadata": {
    "id": "pAWj7hXqX-cc"
   },
   "source": [
    "# Semana 3: Diagramas de flujo"
   ]
  },
  {
   "cell_type": "markdown",
   "metadata": {
    "id": "MajwmYdMzzia"
   },
   "source": [
    "\n",
    "\n",
    "## 3.1. Diagramas de control de flujo\n",
    "\n",
    "Los diagramas de control flujo son las descripciones gráficas de los algoritmos. Se construyen a través de símbolos conectados con flechas, indicando la secuencia de instrucciones que debe seguir el algoritmo. Su principal ventaja es que tienen la capacidad de presentar la información con gran claridad, además de que se necesitan relativamente pocos conocimientos previos para entender los procesos y/o el objeto del modelado.\n",
    "\n",
    "**Reglas de creación de diagrama de flujos:**\n",
    "\n",
    "*   Deben escribirse de arriba hacia abajo, y/o de izquierda a derecha.\n",
    "*   Se deben utilizar solamente líneas de flujo horizontales o verticales (nunca diagonales).\n",
    "*   Los símbolos se unen con líneas, las cuales tienen en la punta una flecha que indica la dirección en que fluye la información de los procesos.\n",
    "*   Se debe tener en cuenta que solo se van a utilizar conectores cuando sea estrictamente necesario.\n",
    "*   Se debe evitar el cruce de líneas, si quiera separar el diagrama de flujo a un sitio distinto, se puede realizar utilizando los conectores.\n",
    "\n",
    "**Simbología y funciones:**\n",
    "\n",
    "<img src='Simbolos_diagrama.png' width=500>\n",
    "\n"
   ]
  },
  {
   "cell_type": "markdown",
   "metadata": {
    "id": "OFO72u-QZzpe"
   },
   "source": [
    "**Tipos de estructutas de diagramas de contros de flujo**\n",
    "\n",
    "Los diagramas de control de frujo al igual que los pseudocódigos, presenal los mismos tres tipos de estructuras:\n",
    "\n",
    "\n",
    "\n",
    "*   **Secuencial** Las instrucciones se ejecutan en órden sentencia por sentencia, y presenta la siguiente estructura\n",
    "\n",
    "<img src='diagrama_secuencial.png' width=400>"
   ]
  },
  {
   "cell_type": "markdown",
   "metadata": {
    "id": "gymwClcitvzY"
   },
   "source": [
    "* **Condicional:** Para dar solución a un problema se ejecuta una secuencia de instrucciones si una condición se cumple, y otra secuencia de instrucciones si la condición no se cumple.\n",
    "\n",
    "<img src='diagrama_condicional.png' width=500>"
   ]
  },
  {
   "cell_type": "markdown",
   "metadata": {
    "id": "Q6sPEXwFxDYO"
   },
   "source": [
    "* **Iterativa:** Se ejecutan múltiples veces una secuencia de instrucciones si una condición se cumple, cáda ciclo evalúa nuevamente éstas secuencias de intrucciones hasta que se deje de cumplir la condición establecida.\n",
    "\n",
    "<img src='diagrama_iteracion.png' width=580>"
   ]
  },
  {
   "cell_type": "markdown",
   "metadata": {
    "id": "7mn6RUANTdcT"
   },
   "source": [
    "## 3.2. Valores y tipos de datos.\n",
    "Uno de los elementos fundamentales para la creación de un programa es el **valor**, el cual puede tener distintas formas conocidos cómo tipos de datos: datos de caracteres, numéricos y Booleanos.\n",
    "\n",
    "\n",
    "\n",
    "*   **Datos de caracteres:** Representa aquellos datos que contienen una 'cadena' de texto.\n",
    "\n",
    "*Ejemplo:* **`'Hola mundo'`**\n",
    "\n",
    "*   **Datos numéricos:** Representa aquellos valores numéricos de distintos tipos. EStos pueden ser: enteros o reales. Los enteros son números sin parte decimal. por su parte, los reales son números que tienen parte decimal diferente de cero.\n",
    "\n",
    "*Ejemplos:* **`5`**, **`3.14159265358`**, **`-10000`**,\n",
    "\n",
    "*   **Datos Booleanos:** Dato que representa el **valor de verdad** de una condición lógica, el cual puede tener únicamente dos valores:\n",
    "\n",
    "\n",
    "> **Verdadero** si la condición SÍ se cumple.\n",
    "\n",
    "> **Falso** si la condición NO se cumple.\n",
    "\n",
    "\n",
    "\n"
   ]
  },
  {
   "cell_type": "markdown",
   "metadata": {
    "id": "fK1AAs6losxA"
   },
   "source": [
    "## 3.3. Condicionales y ciclos\n",
    "\n",
    "Ya vimos cómo nuestros algoritmos y sus diagramas de flujo pueden requerir la realización de varias veces la misma tarea o de controlas que el algoritmo continúe o haga algo particular de acuerdo a una condición que necesitamos se cumpla.\n",
    "\n",
    "A contnuación se describe cómo imponer algunas condiciones lógicas y cómo plantear ciclos para las operaciones iterativas.\n"
   ]
  },
  {
   "cell_type": "markdown",
   "metadata": {
    "id": "QQ5e_QzgBBGD"
   },
   "source": [
    "### 3.3.1. Condicionales\n",
    "\n",
    "Los condicionales nos permiten tomar decisiones dentro de los algoritmos. Estos se plantean de forma binaria, es decir, cada decisión tiene solo 2 posibles alternativas. Esto tiene sentido en cuanto el computador funciona con datos binarios.\n",
    "\n",
    "La estructura que nos permite establecer condiciones es la estructura: **Si, Si no**.\n",
    "\n",
    "Esta estructura nos permite establecer una condición, que de cumplirse se ejecuta una acción. Si no se cumple, se puede ejecutar otra acción completamente diferente. El que se cumpla o no la condición, depende de la operación lógica que se plantee y de su resultado: Se cumple si es `VERDADERO` y no se cumple si es `FALSO`.\n",
    "\n",
    "Su funcionamiento es como sigue, por ejemplo: En un algoritmo para calcular la edad y saber si una persona es mayor de edad, se debe cumplir que su edad sea mayor o igual a 18, para el caso del estado colombiano. Para ello:\n",
    "\n",
    "*Ejemplo:* Determinar si una persona puede sacar su credencial o cédula.\n",
    "1.   `Año de nacimiento, entero AÑO`\n",
    "2.   `Año actual, entero AÑO ACTUAL `\n",
    "3.   `Leer AÑO`\n",
    "4.   `Leer AÑO ACTUAL`\n",
    "5.   `Calcular EDAD,` EDAD = AÑO ACTUAL - AÑO\n",
    "6.   `Si` EDAD $\\geq 18$, `Imprimir, \"Credencial autorizada\"`\n",
    "      `Si no, Imprimir \"Credencial no autorizada\"`\n",
    "7.   `Fin`\n",
    "\n",
    "Y su diagrama de flujo podría verse de la siguiente manera:\n",
    "\n",
    "<img src='Condicional_cedula.png' width = 350>"
   ]
  },
  {
   "cell_type": "code",
   "execution_count": 1,
   "metadata": {
    "colab": {
     "base_uri": "https://localhost:8080/",
     "height": 321
    },
    "id": "gjThuDiYbAj1",
    "outputId": "357f518c-9670-44fa-bddf-126307210aa8"
   },
   "outputs": [
    {
     "data": {
      "image/jpeg": "[encoded data removed]",
      "text/html": [
       "\n",
       "        <iframe\n",
       "            width=\"400\"\n",
       "            height=\"300\"\n",
       "            src=\"https://www.youtube.com/embed/ZG0bIfy_C9E\"\n",
       "            frameborder=\"0\"\n",
       "            allowfullscreen\n",
       "            \n",
       "        ></iframe>\n",
       "        "
      ],
      "text/plain": [
       "<IPython.lib.display.YouTubeVideo at 0x7f0a70141910>"
      ]
     },
     "execution_count": 1,
     "metadata": {},
     "output_type": "execute_result"
    }
   ],
   "source": [
    "from IPython.display import YouTubeVideo\n",
    "YouTubeVideo('ZG0bIfy_C9E')"
   ]
  },
  {
   "cell_type": "markdown",
   "metadata": {
    "id": "El4OAYPEOxyc"
   },
   "source": [
    "### 3.3.2. Ciclos\n",
    "\n",
    "Los ciclos o bucles son estructuras que nos permiten realizar operaciones de forma iterativa, es decir, realizar una operación muchas veces sin necesidad de dar la instrucción cada vez que se necesite ejecutar. De esta forma, son dos las principales estructuras de bucles,\n",
    "\n",
    "\n",
    "* Bucle mientras (while)\n",
    "\n",
    "Este tipo de bucle permite que una operación se realice *mientras* se satisface una condición lógica. Si dicha condición no se satisface, el bucle se puede ejecutar \"infinitas\" veces. REalmente se ejecuta hasta que los recursos de memoria y procesamiento del computador se agoten.\n",
    "\n",
    "*Ejemplo:* Calcular el mínimo valor del número entero $k$ para el cual $m>2^k$.\n",
    "\n",
    "La entrada del problema es el número $m$ y la salida es el número entero $k$. La idea es incrementar en  una variable $k$ iniciada con el valor $0$ hasta que la variable $m$ sea más grande qué $2^k$. El pseudocódigo es:\n",
    "\n",
    "1.   `Real m`\n",
    "2.   `Entero positivo k`\n",
    "3.   `Leer m`\n",
    "4.   `k = 0`\n",
    "5.   ` mientras (2^k) < m hacer`\n",
    "6.   `k = k+1`\n",
    "7.   `Fin mientras`\n",
    "8.   `Imprimir k`\n",
    "\n",
    "* Bucle para (for)\n",
    "\n",
    "Los bucles *para* nos permiten realizar una operación una cantidad dada de veces, es decir, se debe indicar cuántas veces se deben realizar las operaciones.\n",
    "\n",
    "*Ejemplo:* Obtener todos los valores de la fucnión trigonométrica $sin(\\pi k)$, donde $k$ es un valor de entrada que va desde $0$. El pseudocódigo es:\n",
    "\n",
    "1.   `Real a, Funcion`\n",
    "2.   `Entero positivo k, i`\n",
    "3.   `Leer a`\n",
    "4.   `Leer k`\n",
    "5.   `Para cada i de 0 hasta k`\n",
    "6.   `Funcion = sin(pi * i )`\n",
    "7.   `Escribir Función`\n",
    "8.   `Fin`\n",
    "\n",
    "<img src='Esquema_bucles.png' width=700>"
   ]
  },
  {
   "cell_type": "code",
   "execution_count": 2,
   "metadata": {
    "colab": {
     "base_uri": "https://localhost:8080/",
     "height": 321
    },
    "id": "YdtktgCDZkLw",
    "outputId": "0b7b235d-858e-4e98-e120-84e63e8aa7dd"
   },
   "outputs": [
    {
     "data": {
      "image/jpeg": "[encoded data removed]",
      "text/html": [
       "\n",
       "        <iframe\n",
       "            width=\"400\"\n",
       "            height=\"300\"\n",
       "            src=\"https://www.youtube.com/embed/ZhH1O6-TxtQ\"\n",
       "            frameborder=\"0\"\n",
       "            allowfullscreen\n",
       "            \n",
       "        ></iframe>\n",
       "        "
      ],
      "text/plain": [
       "<IPython.lib.display.YouTubeVideo at 0x7f0a70148c40>"
      ]
     },
     "execution_count": 2,
     "metadata": {},
     "output_type": "execute_result"
    }
   ],
   "source": [
    "from IPython.display import YouTubeVideo\n",
    "YouTubeVideo('ZhH1O6-TxtQ')"
   ]
  },
  {
   "cell_type": "markdown",
   "metadata": {
    "id": "oqwnsXeMVgGa"
   },
   "source": [
    "## 3.4. Ejercicios\n",
    "\n",
    "\n",
    "  \n",
    "\n",
    "1.   Elabore un algoritmo que dado dos números $n$ y $m$, haga las operaciones suma, resta, multiplicación y división.\n",
    "2.   Elabore un algoritmo que calcule el promedio de $5$ valores ingresados por el usuario.\n",
    "\n",
    "\n",
    "3.   Elabore un algoritmo que calcule el perímetro y el área de un polígono regular de $n$ lados.\n",
    "\n",
    "4.   Elabore un algoritmo que lea una temperatura en grados Fahrenheit y la convierta a grados centígrados y a grados Kelvin.\n",
    "\n",
    "5.   Elabore un algoritmo que lea el valor de un ángulo en radianes y lo convierta a grados.\n",
    "\n",
    "6.   Elabore un algoritmo que lea el nombre y apellido de una persona e imprima su correo institucional en el formato nombre.apellido@udea.edu.co.\n",
    "7.   Escriba un programa que lea el nombre y la edad de una persona, así como el año actual y muestre un mensaje en el que se informe el año en que la persona cumplirá 100 años.\n",
    "\n",
    "\n",
    "8.   Elabore un algoritmo que lea la altura en metros de una persona y su peso en kilogramos y calcule el índice de masa corporal.\n",
    "\n",
    "\n",
    "9.   Elabore un algoritmo que lea un número y un porcentaje y muestre el valor correspondiente al porcentaje solicitado.\n",
    "\n",
    "\n",
    "10.   Elabore un algoritmo que lea el radio de una esfera y calcule el volumen y el área superficial de la misma.\n",
    "\n",
    "\n",
    "\n",
    "\n",
    "\n",
    "11.   Haga un diagrama de flujo para todos los ejercicios anteriores.\n",
    "\n",
    "12. En el taller se trabajará sobre bloques de Blockpy. A continuación encontrará una grabación con la respectiva explicación.\n",
    "\n",
    "\n",
    "\n"
   ]
  },
  {
   "cell_type": "code",
   "execution_count": 3,
   "metadata": {},
   "outputs": [
    {
     "data": {
      "image/jpeg": "[encoded data removed]",
      "text/html": [
       "\n",
       "        <iframe\n",
       "            width=\"400\"\n",
       "            height=\"300\"\n",
       "            src=\"https://www.youtube.com/embed/GKNm4uXH3Mw\"\n",
       "            frameborder=\"0\"\n",
       "            allowfullscreen\n",
       "            \n",
       "        ></iframe>\n",
       "        "
      ],
      "text/plain": [
       "<IPython.lib.display.YouTubeVideo at 0x7f0a70148cd0>"
      ]
     },
     "execution_count": 3,
     "metadata": {},
     "output_type": "execute_result"
    }
   ],
   "source": [
    "YouTubeVideo('GKNm4uXH3Mw')"
   ]
  },
  {
   "cell_type": "code",
   "execution_count": null,
   "metadata": {},
   "outputs": [],
   "source": []
  }
 ],
 "metadata": {
  "colab": {
   "provenance": []
  },
  "kernelspec": {
   "display_name": "Python 3 (ipykernel)",
   "language": "python",
   "name": "python3"
  },
  "language_info": {
   "codemirror_mode": {
    "name": "ipython",
    "version": 3
   },
   "file_extension": ".py",
   "mimetype": "text/x-python",
   "name": "python",
   "nbconvert_exporter": "python",
   "pygments_lexer": "ipython3",
   "version": "3.9.12"
  }
 },
 "nbformat": 4,
 "nbformat_minor": 1
}
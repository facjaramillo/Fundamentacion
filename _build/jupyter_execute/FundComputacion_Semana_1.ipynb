{
 "cells": [
  {
   "cell_type": "markdown",
   "metadata": {
    "id": "SUSDMF7N8bVi"
   },
   "source": [
    "# Semana 1: Historia de los comútadores.\n",
    "\n",
    "##1.1. Historia de los computadores\n",
    "\n",
    "El hombre debido a su condición innata de investigar y resolver problemas, ve la necesidad de hacer cálculos. Desde siglos antes de Cristo el hombre empezó a calcular de forma muy rudimentaria pero eficaz usando los dedos de las manos. Al ver que ésta técnica no era suficiente para resolver problemas de cálculos más complejos, en Egipto y China se ideó el ábaco, con el cual se puede realizar sumas y restas. El **ábaco** es considerado como el primer dispositivo de cómputo que precedió a la computadora. En 1960 el matemático y filósofo francés Blaise Pascal produjo una máquina de cálculo mecánica llamada **Pascalina** que funcionaba con ruedas y engranajes, con el fin de ayudar a su padre en las labores cómo recaudador de impuestos, que le requerían efectuar un gran numero de cálculos aritméticos cotidianamente. La primera computadora análoga utilizada de manera amplia y extensiva fue la **regla de cálculo** inventa en el siglo XVII, la cual es un instrumento de cálculo aritmético que permitía hacer cálculos más complejos cómo potenciación, función trigonométrica, logaritmos, entre otros. Sin embargo, el hombre no solo ha necesitado instrumentos para ayudarse a contar, sino también formas de registrar información. En el siglo *XX* se desarrollaron las primeras computadoras automáticas que hacían posible la aplicación de decisiones lógicas durante el cálculo de los datos; éstas computadoras eran de un tamaño enorme, muy inflexibles, pero con un aumento muy sustancial en la velocidad de procesos de operación."
   ]
  },
  {
   "cell_type": "markdown",
   "metadata": {
    "id": "9jUO7VbDBoAW"
   },
   "source": [
    "\n",
    "### 1.2. Partes y funciones de la computadora\n",
    "\n",
    "\n",
    "1. Pantalla: Visualizador que muestra al usuario los resultados del procedimiento de una operación.\n",
    "2. Tarjeta madre: A ella se conectan todos los componentes del computador para poder interpretar las instrucciones contenidas en los programas\n",
    "3. Procesador / CPU (Unidad central de procesamiento): Contiene todos los circuitos que guardan los datos para controlar, interpretar y ejecutar las instrucciones que envían los usuarios.\n",
    "4. Memoria RAM (Memoria de acceso aleatorio): Almacena las instrucciones de los programas y la información que entra a través de los dispositivos, se le conoce cómo memoria volátil ya que cada vez que se apaga los datos desaparecen, hasta que se vuelve a usar.\n",
    "5. Puertos PCI (Interconexión de componentes periféricos): Conecta distintos dispositivos periféricos directamente a la placa base. Por ejemplo, tarjeta de video, audio, red, entre otros.\n",
    "6. Fuente de alimentación de energía: Convierte la energía suministrada desde la corriente del toma (señal alterna) en corriente directa (señal continua) para cada uno de los dispositivos.\n",
    "7. Unidad óptica de almacenamiento: Es una unidad de discos que usa luz láser como parte del proceso de lectura o escritura de datos.\n",
    "8. Disco duro: Dispositivo de almacenamiento que emplea un sistema de grabación magnética para almacenar datos digitales. Se conoce cómo un dispositivo de almacenamiento permanente.\n",
    "9. Teclado: Dispositivo que permite introducir datos u órdenes, está inspirado en la máquina de escribir\n",
    "10. Ratón: Dispositivo apuntador."
   ]
  },
  {
   "cell_type": "markdown",
   "metadata": {
    "id": "7OlJN2gICZu3"
   },
   "source": [
    "\n",
    "\n",
    "1.3. Almacenamiento de la información\n",
    "*   **La memoria ROM** (Read-Only Memory) guarda información que NO cambia. La memoria contenida en ésta no puede ser modificada. Almacena, por ejemplo, los programas que se deben iniciar al prender el computador.\n",
    "*   **La memoria RAM** (Random Access Memory) almacena temporalmente información que puede ser modificada en cualquier momento. La información en la memoria RAM se pierde cuando se apaga el computador.\n",
    "\n",
    "La información en un computados se mueve a través del bus, el cual es un sistema de interconección del procesador con los dispositivos de entrada/salida y la memoria. Por este bus icirculan datos, señales de control o direcciones de memoria; de acuerdo a éstas funciones ecxisten tres tipos de buses\n",
    "\n",
    "*   **Bus de datos:** Permite transportar datos entre las componentes de la computadora a través de un circuito impreso. El ancho del bus de datos permite saber la cantidad de máxima información que se puede transportar en un segundo.\n",
    "*   **Bus de direcciones:** Permite indicar el origen y destino de los datos.\n",
    "*   **Bus de control:** Proporciona señales para coordinar las diferentes tareas, sin que haya colisión de información."
   ]
  },
  {
   "cell_type": "markdown",
   "metadata": {
    "id": "Ulga118xJr1Z"
   },
   "source": [
    "\n",
    "\n",
    "1.5. Sistemas Numericos y código binario"
   ]
  },
  {
   "cell_type": "markdown",
   "metadata": {
    "id": "ADCWz6KxkoXA"
   },
   "source": [
    "1.5.1. Los números y representación de cantidades\n",
    "\n",
    "Los números nacen como una consecuencia natural de la invensión del lenguage, podríamos decir que las civilizaciones tuvieron su desarrollo tan acelerado después de inventar la manera en que las historias quedaran registradas de forma permanente en un objeto físico, es decir, una tablilla de piedra, una hoja de papiro, un jarro de arcilla, etc. Con la invención de la esritura surgen los símbolos necesario para contar y establecer la relación directa entre cantidad y el símbolo. Inicialmente los números no surgieron para satisfacer la necesidad de escribir axiomas o teorías matematicas complejas sino por algo más banal como saber cuantas cabras o gallinas se tenían. Otra cosa importante es que las civilizaciones antiguas no necesariamente contaban como lo hacemos hoy en día, es decir con diez símbolos para representar cantidades. Muchas contaban con distintas bases, por ejemplo los Babilonios tenían dos bases una de 10 y otra de 60 para contar, los Chinos usaban una base de 10 para contar y una base de 2 para las cábalas. Los Mayas una base de 20 y otra de 5. Pero es cierto que la mayoría de las civilizaiones, Romanos, Griegos, Arabes, han contado con bases de 10; tal vez obedeciendo al hecho de que en las manos tenemos 10 dedos.\n",
    "Ahora veamos como se cuenta en algunas bases distintas.\n",
    "Supongamos que tenemos la siguiente figura que representa un cargamento de piedras preciosas de gran valor, debemos informar cuántas de ellas hay\n",
    "\n"
   ]
  },
  {
   "cell_type": "markdown",
   "metadata": {
    "id": "eFMFPvbH0oNF"
   },
   "source": [
    "Lo primero que haremos será definir un conjunto de simbolos para representar las cantidades básicas, por ejemplo 0,1,2,3; y para componer números más grandes usaremos una notación posicional, o sea unidades, decenas, centenas, etc.\n",
    "Como tenemos 4 símbolos hacemos empaques de 4 esferas y luego hacemos empaques mas grandes de 4 cuatro paquetes cada uno y así sucesivamente."
   ]
  },
  {
   "cell_type": "markdown",
   "metadata": {
    "id": "8eD0Otbp2uc_"
   },
   "source": [
    "Como se puede ver, haciendo primeros empaques de 4 esferas nos quedan dos que no forman un empaque completo. Continuamos haciendo el procesos pero ahora con las cajas azules"
   ]
  },
  {
   "cell_type": "markdown",
   "metadata": {
    "id": "QC4hsmuD3n4F"
   },
   "source": [
    "Y vemos que sólo se pudo completar una caja roja con 4 azules. Por lo tanto estamos listos para decir que tenemos en totalidad la cantidad de esferas que caben en 1 caja roja, 3 cajas azules y 2 esferas sueltas. En este ejemplo el numero de elemnetos tomados para etiquetar es la base, osea 4. Entonces la cantidad de esferas contadas usando la base 4 sera de 132 esferas."
   ]
  },
  {
   "cell_type": "markdown",
   "metadata": {
    "id": "1gICAACXhJiE"
   },
   "source": [
    "\n",
    "El procesamiento de datos dentro de un computador tiene como base las **ALU(Arithmetic Logic Unit)** o unidades aritméticas lógicas. Una ALU debe procesar números usando el mismo formato que el resto del circuito digital.\n",
    "\n",
    "Para los procesadores modernos, este formato casi siempre es la representación del número binario de complemento a dos conocido como **Formato IEEE 754**. Las primeras computadoras usaron una amplia variedad de sistemas de numeración, incluyendo complemento a uno, formato signo-magnitud, e incluso verdaderos sistemas decimales, con diez tubos por dígito [Ver más](https://es.wikipedia.org/wiki/Unidad_aritm%C3%A9tica_l%C3%B3gica#Operaciones_simples)."
   ]
  },
  {
   "cell_type": "markdown",
   "metadata": {
    "id": "vkg211fQh2l9"
   },
   "source": [
    " Entero base 10 a Entero base 2\n",
    "\n",
    "Para hallar los dígitos adecuados tenemos varios métodos: por asignación de potencias usando una tabla, por residuos o por logaritmos."
   ]
  },
  {
   "cell_type": "code",
   "execution_count": 1,
   "metadata": {
    "colab": {
     "base_uri": "https://localhost:8080/",
     "height": 317
    },
    "id": "3ZCOmHnOhJjA",
    "outputId": "56cc3699-c3e6-4bc9-ffc4-4dc85dbca01b"
   },
   "outputs": [
    {
     "name": "stdout",
     "output_type": "stream",
     "text": [
      "El número 149 en base dos es: [1, 0, 0, 1, 0, 1, 0, 1]\n"
     ]
    },
    {
     "data": {
      "text/html": [
       "<div>\n",
       "<style scoped>\n",
       "    .dataframe tbody tr th:only-of-type {\n",
       "        vertical-align: middle;\n",
       "    }\n",
       "\n",
       "    .dataframe tbody tr th {\n",
       "        vertical-align: top;\n",
       "    }\n",
       "\n",
       "    .dataframe thead th {\n",
       "        text-align: right;\n",
       "    }\n",
       "</style>\n",
       "<table border=\"1\" class=\"dataframe\">\n",
       "  <thead>\n",
       "    <tr style=\"text-align: right;\">\n",
       "      <th></th>\n",
       "      <th>Operación</th>\n",
       "      <th>Cociente</th>\n",
       "      <th>Residuo</th>\n",
       "    </tr>\n",
       "  </thead>\n",
       "  <tbody>\n",
       "    <tr>\n",
       "      <th>0</th>\n",
       "      <td>149/2</td>\n",
       "      <td>74</td>\n",
       "      <td>1</td>\n",
       "    </tr>\n",
       "    <tr>\n",
       "      <th>1</th>\n",
       "      <td>74/2</td>\n",
       "      <td>37</td>\n",
       "      <td>0</td>\n",
       "    </tr>\n",
       "    <tr>\n",
       "      <th>2</th>\n",
       "      <td>37/2</td>\n",
       "      <td>18</td>\n",
       "      <td>1</td>\n",
       "    </tr>\n",
       "    <tr>\n",
       "      <th>3</th>\n",
       "      <td>18/2</td>\n",
       "      <td>9</td>\n",
       "      <td>0</td>\n",
       "    </tr>\n",
       "    <tr>\n",
       "      <th>4</th>\n",
       "      <td>9/2</td>\n",
       "      <td>4</td>\n",
       "      <td>1</td>\n",
       "    </tr>\n",
       "    <tr>\n",
       "      <th>5</th>\n",
       "      <td>4/2</td>\n",
       "      <td>2</td>\n",
       "      <td>0</td>\n",
       "    </tr>\n",
       "    <tr>\n",
       "      <th>6</th>\n",
       "      <td>2/2</td>\n",
       "      <td>1</td>\n",
       "      <td>0</td>\n",
       "    </tr>\n",
       "    <tr>\n",
       "      <th>7</th>\n",
       "      <td>1/2</td>\n",
       "      <td>0</td>\n",
       "      <td>1</td>\n",
       "    </tr>\n",
       "  </tbody>\n",
       "</table>\n",
       "</div>"
      ],
      "text/plain": [
       "  Operación Cociente  Residuo\n",
       "0     149/2       74        1\n",
       "1      74/2       37        0\n",
       "2      37/2       18        1\n",
       "3      18/2        9        0\n",
       "4       9/2        4        1\n",
       "5       4/2        2        0\n",
       "6       2/2        1        0\n",
       "7       1/2        0        1"
      ]
     },
     "execution_count": 1,
     "metadata": {},
     "output_type": "execute_result"
    }
   ],
   "source": [
    "import pandas as pd\n",
    "N=149\n",
    "c = [N]\n",
    "r = []\n",
    "i=0\n",
    "while c[-1]>1:\n",
    "    c.append(c[i]//2)\n",
    "    r.append(c[i]%2)\n",
    "    i+=1\n",
    "r.append(c[-1])\n",
    "print(\"El número\",N,\"en base dos es:\",r[::-1])\n",
    "pd.DataFrame({\"Operación\":[\"%d/2\"%(c[i]) for i in range(len(c))],\n",
    "              \"Cociente\":[\"0\" if i==len(c)-1 else c[i+1] for i in range(len(c))],\"Residuo\":r})"
   ]
  },
  {
   "cell_type": "code",
   "execution_count": 2,
   "metadata": {
    "colab": {
     "base_uri": "https://localhost:8080/",
     "height": 192
    },
    "id": "SER-YBLehJjD",
    "outputId": "dd55c667-3dc2-4ca0-de8a-044f42fc50da"
   },
   "outputs": [
    {
     "name": "stdout",
     "output_type": "stream",
     "text": [
      "El número 149 en base dos es: [1, 0, 0, 1, 0, 1, 0]\n"
     ]
    },
    {
     "data": {
      "text/html": [
       "<div>\n",
       "<style scoped>\n",
       "    .dataframe tbody tr th:only-of-type {\n",
       "        vertical-align: middle;\n",
       "    }\n",
       "\n",
       "    .dataframe tbody tr th {\n",
       "        vertical-align: top;\n",
       "    }\n",
       "\n",
       "    .dataframe thead th {\n",
       "        text-align: right;\n",
       "    }\n",
       "</style>\n",
       "<table border=\"1\" class=\"dataframe\">\n",
       "  <thead>\n",
       "    <tr style=\"text-align: right;\">\n",
       "      <th></th>\n",
       "      <th>Operación</th>\n",
       "      <th>k</th>\n",
       "      <th>n</th>\n",
       "      <th>Falta</th>\n",
       "    </tr>\n",
       "  </thead>\n",
       "  <tbody>\n",
       "    <tr>\n",
       "      <th>0</th>\n",
       "      <td>log(149)/log(10)</td>\n",
       "      <td>7.219169</td>\n",
       "      <td>7</td>\n",
       "      <td>21</td>\n",
       "    </tr>\n",
       "    <tr>\n",
       "      <th>1</th>\n",
       "      <td>log(21)/log(10)</td>\n",
       "      <td>4.392317</td>\n",
       "      <td>4</td>\n",
       "      <td>5</td>\n",
       "    </tr>\n",
       "    <tr>\n",
       "      <th>2</th>\n",
       "      <td>log(5)/log(10)</td>\n",
       "      <td>2.321928</td>\n",
       "      <td>2</td>\n",
       "      <td>1</td>\n",
       "    </tr>\n",
       "    <tr>\n",
       "      <th>3</th>\n",
       "      <td>log(1)/log(10)</td>\n",
       "      <td>0.000000</td>\n",
       "      <td>0</td>\n",
       "      <td>0</td>\n",
       "    </tr>\n",
       "  </tbody>\n",
       "</table>\n",
       "</div>"
      ],
      "text/plain": [
       "          Operación         k  n  Falta\n",
       "0  log(149)/log(10)  7.219169  7     21\n",
       "1   log(21)/log(10)  4.392317  4      5\n",
       "2    log(5)/log(10)  2.321928  2      1\n",
       "3    log(1)/log(10)  0.000000  0      0"
      ]
     },
     "execution_count": 2,
     "metadata": {},
     "output_type": "execute_result"
    }
   ],
   "source": [
    "import math\n",
    "\n",
    "n = []\n",
    "k = []\n",
    "resta = [N]\n",
    "i=0\n",
    "while resta[i]>0:\n",
    "    k.append((math.log(resta[i])/math.log(2)))\n",
    "    n.append(math.trunc(k[i]))\n",
    "    resta.append(resta[i] - 2**n[i])\n",
    "    i+=1\n",
    "\n",
    "bin_str=[0]*n[0]\n",
    "for p in n:\n",
    "    bin_str[p-1] = 1\n",
    "print(\"El número\",N,\"en base dos es:\",bin_str[::-1])\n",
    "pd.DataFrame({\"Operación\":[\"log(%d)/log(10)\"%(resta[i]) for i in range(len(resta)-1)],\n",
    "              \"k\":k,\"n\":n,\"Falta\":[resta[i] if i <= len(resta)-1 else 0 for i in range(1,len(resta))]})"
   ]
  },
  {
   "cell_type": "markdown",
   "metadata": {
    "id": "2Zm47-QQhJjE"
   },
   "source": [
    "Enteros base 10 a otras bases"
   ]
  },
  {
   "cell_type": "code",
   "execution_count": 3,
   "metadata": {
    "colab": {
     "base_uri": "https://localhost:8080/",
     "height": 192
    },
    "id": "oCo2w3FUhJjF",
    "outputId": "afd4a07c-bafc-4b21-eadd-0b05cebf6de5"
   },
   "outputs": [
    {
     "name": "stdout",
     "output_type": "stream",
     "text": [
      "El número 149 en base 5 es: [1, 0, 4, 4]\n"
     ]
    },
    {
     "data": {
      "text/html": [
       "<div>\n",
       "<style scoped>\n",
       "    .dataframe tbody tr th:only-of-type {\n",
       "        vertical-align: middle;\n",
       "    }\n",
       "\n",
       "    .dataframe tbody tr th {\n",
       "        vertical-align: top;\n",
       "    }\n",
       "\n",
       "    .dataframe thead th {\n",
       "        text-align: right;\n",
       "    }\n",
       "</style>\n",
       "<table border=\"1\" class=\"dataframe\">\n",
       "  <thead>\n",
       "    <tr style=\"text-align: right;\">\n",
       "      <th></th>\n",
       "      <th>Operación</th>\n",
       "      <th>Cociente</th>\n",
       "      <th>Residuo</th>\n",
       "    </tr>\n",
       "  </thead>\n",
       "  <tbody>\n",
       "    <tr>\n",
       "      <th>0</th>\n",
       "      <td>149/5</td>\n",
       "      <td>29</td>\n",
       "      <td>4</td>\n",
       "    </tr>\n",
       "    <tr>\n",
       "      <th>1</th>\n",
       "      <td>29/5</td>\n",
       "      <td>5</td>\n",
       "      <td>4</td>\n",
       "    </tr>\n",
       "    <tr>\n",
       "      <th>2</th>\n",
       "      <td>5/5</td>\n",
       "      <td>1</td>\n",
       "      <td>0</td>\n",
       "    </tr>\n",
       "    <tr>\n",
       "      <th>3</th>\n",
       "      <td>1/5</td>\n",
       "      <td>No</td>\n",
       "      <td>1</td>\n",
       "    </tr>\n",
       "  </tbody>\n",
       "</table>\n",
       "</div>"
      ],
      "text/plain": [
       "  Operación Cociente  Residuo\n",
       "0     149/5       29        4\n",
       "1      29/5        5        4\n",
       "2       5/5        1        0\n",
       "3       1/5       No        1"
      ]
     },
     "execution_count": 3,
     "metadata": {},
     "output_type": "execute_result"
    }
   ],
   "source": [
    "N=149\n",
    "c = [N]\n",
    "r = []\n",
    "i=0\n",
    "while c[-1]>1:\n",
    "    c.append(c[i]//5)\n",
    "    r.append(c[i]%5)\n",
    "    i+=1\n",
    "r.append(c[-1])\n",
    "print(\"El número\",N,\"en base 5 es:\",r[::-1])\n",
    "pd.DataFrame({\"Operación\":[\"%d/5\"%(c[i]) for i in range(len(c))],\n",
    "              \"Cociente\":[\"No\" if i==len(c)-1 else c[i+1] for i in range(len(c))],\"Residuo\":r})"
   ]
  },
  {
   "cell_type": "code",
   "execution_count": 4,
   "metadata": {
    "colab": {
     "base_uri": "https://localhost:8080/",
     "height": 192
    },
    "id": "njYcZM_ChJjF",
    "outputId": "d480b3b6-aee5-44ba-cbe4-0f8395d652f8"
   },
   "outputs": [
    {
     "name": "stdout",
     "output_type": "stream",
     "text": [
      "El número 149 en base 8 es: [0, 2, 2, 5]\n"
     ]
    },
    {
     "data": {
      "text/html": [
       "<div>\n",
       "<style scoped>\n",
       "    .dataframe tbody tr th:only-of-type {\n",
       "        vertical-align: middle;\n",
       "    }\n",
       "\n",
       "    .dataframe tbody tr th {\n",
       "        vertical-align: top;\n",
       "    }\n",
       "\n",
       "    .dataframe thead th {\n",
       "        text-align: right;\n",
       "    }\n",
       "</style>\n",
       "<table border=\"1\" class=\"dataframe\">\n",
       "  <thead>\n",
       "    <tr style=\"text-align: right;\">\n",
       "      <th></th>\n",
       "      <th>Operación</th>\n",
       "      <th>Cociente</th>\n",
       "      <th>Residuo</th>\n",
       "    </tr>\n",
       "  </thead>\n",
       "  <tbody>\n",
       "    <tr>\n",
       "      <th>0</th>\n",
       "      <td>149/8</td>\n",
       "      <td>18</td>\n",
       "      <td>5</td>\n",
       "    </tr>\n",
       "    <tr>\n",
       "      <th>1</th>\n",
       "      <td>18/8</td>\n",
       "      <td>2</td>\n",
       "      <td>2</td>\n",
       "    </tr>\n",
       "    <tr>\n",
       "      <th>2</th>\n",
       "      <td>2/8</td>\n",
       "      <td>0</td>\n",
       "      <td>2</td>\n",
       "    </tr>\n",
       "    <tr>\n",
       "      <th>3</th>\n",
       "      <td>0/8</td>\n",
       "      <td>No</td>\n",
       "      <td>0</td>\n",
       "    </tr>\n",
       "  </tbody>\n",
       "</table>\n",
       "</div>"
      ],
      "text/plain": [
       "  Operación Cociente  Residuo\n",
       "0     149/8       18        5\n",
       "1      18/8        2        2\n",
       "2       2/8        0        2\n",
       "3       0/8       No        0"
      ]
     },
     "execution_count": 4,
     "metadata": {},
     "output_type": "execute_result"
    }
   ],
   "source": [
    "N=149\n",
    "c = [N]\n",
    "r = []\n",
    "i=0\n",
    "while c[-1]>1:\n",
    "    c.append(c[i]//8)\n",
    "    r.append(c[i]%8)\n",
    "    i+=1\n",
    "r.append(c[-1])\n",
    "print(\"El número\",N,\"en base 8 es:\",r[::-1])\n",
    "pd.DataFrame({\"Operación\":[\"%d/8\"%(c[i]) for i in range(len(c))],\n",
    "              \"Cociente\":[\"No\" if i==len(c)-1 else c[i+1] for i in range(len(c))],\"Residuo\":r})"
   ]
  },
  {
   "cell_type": "markdown",
   "metadata": {
    "id": "ihmsAee2hJjG"
   },
   "source": [
    "Ejercicios enteros base 10 a base 2"
   ]
  },
  {
   "cell_type": "code",
   "execution_count": 5,
   "metadata": {
    "id": "FPyA5TbehJjH"
   },
   "outputs": [
    {
     "data": {
      "image/jpeg": "[encoded data removed]",
      "text/html": [
       "\n",
       "        <iframe\n",
       "            width=\"400\"\n",
       "            height=\"300\"\n",
       "            src=\"https://www.youtube.com/embed/XSF4z7l3Pf0\"\n",
       "            frameborder=\"0\"\n",
       "            allowfullscreen\n",
       "            \n",
       "        ></iframe>\n",
       "        "
      ],
      "text/plain": [
       "<IPython.lib.display.YouTubeVideo at 0x7f33125220d0>"
      ]
     },
     "execution_count": 5,
     "metadata": {},
     "output_type": "execute_result"
    }
   ],
   "source": [
    "from IPython.display import YouTubeVideo\n",
    "YouTubeVideo('XSF4z7l3Pf0')\n"
   ]
  },
  {
   "cell_type": "code",
   "execution_count": 6,
   "metadata": {
    "colab": {
     "base_uri": "https://localhost:8080/",
     "height": 112
    },
    "id": "1p1K3KOahJjI",
    "outputId": "22d9b6ed-973a-4961-f776-e350b2d8dc57"
   },
   "outputs": [
    {
     "name": "stderr",
     "output_type": "stream",
     "text": [
      "/tmp/ipykernel_15123/433885023.py:2: DeprecationWarning: `np.int` is a deprecated alias for the builtin `int`. To silence this warning, use `int` by itself. Doing this will not modify any behavior and is safe. When replacing `np.int`, you may wish to use e.g. `np.int64` or `np.int32` to specify the precision. If you wish to review your current use, check the release note link for additional information.\n",
      "Deprecated in NumPy 1.20; for more details and guidance: https://numpy.org/devdocs/release/1.20.0-notes.html#deprecations\n",
      "  pd.DataFrame({\"2^n\":[2**(-m) for m in range(1,10)],\"Suma 2^n\":[1-2*(0.5)**m for m in range(2,11)]},index=np.arange(-1,-10,-1,dtype=np.int)).T\n"
     ]
    },
    {
     "data": {
      "text/html": [
       "<div>\n",
       "<style scoped>\n",
       "    .dataframe tbody tr th:only-of-type {\n",
       "        vertical-align: middle;\n",
       "    }\n",
       "\n",
       "    .dataframe tbody tr th {\n",
       "        vertical-align: top;\n",
       "    }\n",
       "\n",
       "    .dataframe thead th {\n",
       "        text-align: right;\n",
       "    }\n",
       "</style>\n",
       "<table border=\"1\" class=\"dataframe\">\n",
       "  <thead>\n",
       "    <tr style=\"text-align: right;\">\n",
       "      <th></th>\n",
       "      <th>-1</th>\n",
       "      <th>-2</th>\n",
       "      <th>-3</th>\n",
       "      <th>-4</th>\n",
       "      <th>-5</th>\n",
       "      <th>-6</th>\n",
       "      <th>-7</th>\n",
       "      <th>-8</th>\n",
       "      <th>-9</th>\n",
       "    </tr>\n",
       "  </thead>\n",
       "  <tbody>\n",
       "    <tr>\n",
       "      <th>2^n</th>\n",
       "      <td>0.5</td>\n",
       "      <td>0.25</td>\n",
       "      <td>0.125</td>\n",
       "      <td>0.0625</td>\n",
       "      <td>0.03125</td>\n",
       "      <td>0.015625</td>\n",
       "      <td>0.007812</td>\n",
       "      <td>0.003906</td>\n",
       "      <td>0.001953</td>\n",
       "    </tr>\n",
       "    <tr>\n",
       "      <th>Suma 2^n</th>\n",
       "      <td>0.5</td>\n",
       "      <td>0.75</td>\n",
       "      <td>0.875</td>\n",
       "      <td>0.9375</td>\n",
       "      <td>0.96875</td>\n",
       "      <td>0.984375</td>\n",
       "      <td>0.992188</td>\n",
       "      <td>0.996094</td>\n",
       "      <td>0.998047</td>\n",
       "    </tr>\n",
       "  </tbody>\n",
       "</table>\n",
       "</div>"
      ],
      "text/plain": [
       "           -1    -2     -3      -4       -5        -6        -7        -8  \\\n",
       "2^n       0.5  0.25  0.125  0.0625  0.03125  0.015625  0.007812  0.003906   \n",
       "Suma 2^n  0.5  0.75  0.875  0.9375  0.96875  0.984375  0.992188  0.996094   \n",
       "\n",
       "                -9  \n",
       "2^n       0.001953  \n",
       "Suma 2^n  0.998047  "
      ]
     },
     "execution_count": 6,
     "metadata": {},
     "output_type": "execute_result"
    }
   ],
   "source": [
    "import numpy as np\n",
    "pd.DataFrame({\"2^n\":[2**(-m) for m in range(1,10)],\"Suma 2^n\":[1-2*(0.5)**m for m in range(2,11)]},index=np.arange(-1,-10,-1,dtype=np.int)).T"
   ]
  },
  {
   "cell_type": "markdown",
   "metadata": {
    "id": "oo4Pw7EchJjK"
   },
   "source": [
    "Si partimos la serie en los valores acumulados por secciones, es probable que no podamos representar todos os fraccionarios con pocos números después de la coma, incluso es posible que tengamos que aproximar o redondear pues podríamos caer en un bucle infinito esperando poder hallar la representación exacta. Por ejemplo, el fraccionario 0.51"
   ]
  },
  {
   "cell_type": "code",
   "execution_count": 7,
   "metadata": {
    "colab": {
     "base_uri": "https://localhost:8080/",
     "height": 225
    },
    "id": "CWtgCHpDhJjK",
    "outputId": "bd1bf5a1-a033-4d64-a972-f2e7a9c97897"
   },
   "outputs": [
    {
     "name": "stdout",
     "output_type": "stream",
     "text": [
      "El número 0.5100000000000000089 en base 2 es 0. [1.0, 0.0, 0.0, 0.0, 0.0, 0.0, 1.0, 0.0, 1.0, 0.0, 0.0, 0.0, 1.0, 1.0, 1.0, 1.0, 0.0, 1.0, 0.0, 1.0, 1.0, 1.0, 0.0, 0.0, 0.0, 0.0, 1.0, 0.0, 1.0, 0.0, 0.0, 0.0, 1.0, 1.0, 1.0, 1.0, 0.0, 1.0, 0.0, 1.0, 1.0, 1.0, 0.0, 0.0, 0.0, 0.0, 1.0, 0.0, 1.0, 0.0, 0.0, 1.0]\n"
     ]
    },
    {
     "data": {
      "text/html": [
       "<div>\n",
       "<style scoped>\n",
       "    .dataframe tbody tr th:only-of-type {\n",
       "        vertical-align: middle;\n",
       "    }\n",
       "\n",
       "    .dataframe tbody tr th {\n",
       "        vertical-align: top;\n",
       "    }\n",
       "\n",
       "    .dataframe thead th {\n",
       "        text-align: right;\n",
       "    }\n",
       "</style>\n",
       "<table border=\"1\" class=\"dataframe\">\n",
       "  <thead>\n",
       "    <tr style=\"text-align: right;\">\n",
       "      <th></th>\n",
       "      <th>0</th>\n",
       "      <th>1</th>\n",
       "      <th>2</th>\n",
       "      <th>3</th>\n",
       "      <th>4</th>\n",
       "      <th>5</th>\n",
       "      <th>6</th>\n",
       "      <th>7</th>\n",
       "      <th>8</th>\n",
       "      <th>9</th>\n",
       "      <th>...</th>\n",
       "      <th>42</th>\n",
       "      <th>43</th>\n",
       "      <th>44</th>\n",
       "      <th>45</th>\n",
       "      <th>46</th>\n",
       "      <th>47</th>\n",
       "      <th>48</th>\n",
       "      <th>49</th>\n",
       "      <th>50</th>\n",
       "      <th>51</th>\n",
       "    </tr>\n",
       "  </thead>\n",
       "  <tbody>\n",
       "    <tr>\n",
       "      <th>Operación</th>\n",
       "      <td>0.510000*2</td>\n",
       "      <td>0.020000*2</td>\n",
       "      <td>0.040000*2</td>\n",
       "      <td>0.080000*2</td>\n",
       "      <td>0.160000*2</td>\n",
       "      <td>0.320000*2</td>\n",
       "      <td>0.640000*2</td>\n",
       "      <td>0.280000*2</td>\n",
       "      <td>0.560000*2</td>\n",
       "      <td>0.120000*2</td>\n",
       "      <td>...</td>\n",
       "      <td>0.040039*2</td>\n",
       "      <td>0.080078*2</td>\n",
       "      <td>0.160156*2</td>\n",
       "      <td>0.320312*2</td>\n",
       "      <td>0.640625*2</td>\n",
       "      <td>0.281250*2</td>\n",
       "      <td>0.562500*2</td>\n",
       "      <td>0.125000*2</td>\n",
       "      <td>0.250000*2</td>\n",
       "      <td>0.500000*2</td>\n",
       "    </tr>\n",
       "    <tr>\n",
       "      <th>Resultado</th>\n",
       "      <td>1.02</td>\n",
       "      <td>0.04</td>\n",
       "      <td>0.08</td>\n",
       "      <td>0.16</td>\n",
       "      <td>0.32</td>\n",
       "      <td>0.64</td>\n",
       "      <td>1.28</td>\n",
       "      <td>0.56</td>\n",
       "      <td>1.12</td>\n",
       "      <td>0.24</td>\n",
       "      <td>...</td>\n",
       "      <td>0.080078</td>\n",
       "      <td>0.160156</td>\n",
       "      <td>0.320312</td>\n",
       "      <td>0.640625</td>\n",
       "      <td>1.28125</td>\n",
       "      <td>0.5625</td>\n",
       "      <td>1.125</td>\n",
       "      <td>0.25</td>\n",
       "      <td>0.5</td>\n",
       "      <td>1.0</td>\n",
       "    </tr>\n",
       "    <tr>\n",
       "      <th>Valores</th>\n",
       "      <td>1.0</td>\n",
       "      <td>0.0</td>\n",
       "      <td>0.0</td>\n",
       "      <td>0.0</td>\n",
       "      <td>0.0</td>\n",
       "      <td>0.0</td>\n",
       "      <td>1.0</td>\n",
       "      <td>0.0</td>\n",
       "      <td>1.0</td>\n",
       "      <td>0.0</td>\n",
       "      <td>...</td>\n",
       "      <td>0.0</td>\n",
       "      <td>0.0</td>\n",
       "      <td>0.0</td>\n",
       "      <td>0.0</td>\n",
       "      <td>1.0</td>\n",
       "      <td>0.0</td>\n",
       "      <td>1.0</td>\n",
       "      <td>0.0</td>\n",
       "      <td>0.0</td>\n",
       "      <td>1.0</td>\n",
       "    </tr>\n",
       "  </tbody>\n",
       "</table>\n",
       "<p>3 rows × 52 columns</p>\n",
       "</div>"
      ],
      "text/plain": [
       "                   0           1           2           3           4   \\\n",
       "Operación  0.510000*2  0.020000*2  0.040000*2  0.080000*2  0.160000*2   \n",
       "Resultado        1.02        0.04        0.08        0.16        0.32   \n",
       "Valores           1.0         0.0         0.0         0.0         0.0   \n",
       "\n",
       "                   5           6           7           8           9   ...  \\\n",
       "Operación  0.320000*2  0.640000*2  0.280000*2  0.560000*2  0.120000*2  ...   \n",
       "Resultado        0.64        1.28        0.56        1.12        0.24  ...   \n",
       "Valores           0.0         1.0         0.0         1.0         0.0  ...   \n",
       "\n",
       "                   42          43          44          45          46  \\\n",
       "Operación  0.040039*2  0.080078*2  0.160156*2  0.320312*2  0.640625*2   \n",
       "Resultado    0.080078    0.160156    0.320312    0.640625     1.28125   \n",
       "Valores           0.0         0.0         0.0         0.0         1.0   \n",
       "\n",
       "                   47          48          49          50          51  \n",
       "Operación  0.281250*2  0.562500*2  0.125000*2  0.250000*2  0.500000*2  \n",
       "Resultado      0.5625       1.125        0.25         0.5         1.0  \n",
       "Valores           0.0         1.0         0.0         0.0         1.0  \n",
       "\n",
       "[3 rows x 52 columns]"
      ]
     },
     "execution_count": 7,
     "metadata": {},
     "output_type": "execute_result"
    }
   ],
   "source": [
    "N =np.longdouble(0.51)\n",
    "r = []\n",
    "i=0\n",
    "resta=[N]\n",
    "mul = []\n",
    "while resta[-1]>0 and i<100:\n",
    "    mul.append(resta[i]*np.longdouble(2.0))\n",
    "    r.append(np.trunc(mul[i]))\n",
    "    resta.append(mul[i]-r[i])\n",
    "    i+=1\n",
    "\n",
    "print(\"El número\",N,\"en base 2 es 0.\",r)\n",
    "pd.DataFrame({\"Operación\":[\"%f*2\"%(resta[i]) for i in range(len(resta)-1)],\n",
    "              \"Resultado\":mul,\"Valores\":r}).T\n"
   ]
  },
  {
   "cell_type": "markdown",
   "metadata": {
    "id": "lnJhYTZ7hJjL"
   },
   "source": [
    "Este fraccionario necesita de 51 números (dígitos entre 0 y 1) para poder representar con exactitud computacional el fraccionario, porque por supuesto cuando las operaciones tengan más de 16 dígitos después de la coma, el valor será naturalmente truncado, gracias al formato de representación de los procesadores actuales."
   ]
  }
 ],
 "metadata": {
  "colab": {
   "provenance": []
  },
  "kernelspec": {
   "display_name": "Python 3",
   "name": "python3"
  },
  "language_info": {
   "codemirror_mode": {
    "name": "ipython",
    "version": 3
   },
   "file_extension": ".py",
   "mimetype": "text/x-python",
   "name": "python",
   "nbconvert_exporter": "python",
   "pygments_lexer": "ipython3",
   "version": "3.9.12"
  }
 },
 "nbformat": 4,
 "nbformat_minor": 0
}
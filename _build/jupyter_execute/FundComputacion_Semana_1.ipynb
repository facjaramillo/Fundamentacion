{
 "cells": [
  {
   "cell_type": "markdown",
   "metadata": {
    "id": "SUSDMF7N8bVi"
   },
   "source": [
    "\n",
    "\n",
    "# Semana 1: Los Computadores\n",
    "\n",
    "\n",
    "\n",
    "### 1.1. Historia de los computadores\n",
    "\n",
    "El hombre debido a su condición innata de investigar y resolver problemas, ve la necesidad de hacer cálculos. Desde siglos antes de Cristo el hombre empezó a calcular de forma muy rudimentaria pero eficaz usando los dedos de las manos. Al ver que ésta técnica no era suficiente para resolver problemas de cálculos más complejos, en Egipto y China se ideó el ábaco, con el cual se puede realizar sumas y restas. El **ábaco** es considerado como el primer dispositivo de cómputo que precedió a la computadora. En 1960 el matemático y filósofo francés Blaise Pascal produjo una máquina de cálculo mecánica llamada **Pascalina** que funcionaba con ruedas y engranajes, con el fin de ayudar a su padre en las labores cómo recaudador de impuestos, que le requerían efectuar un gran numero de cálculos aritméticos cotidianamente. La primera computadora análoga utilizada de manera amplia y extensiva fue la **regla de cálculo** inventa en el siglo XVII, la cual es un instrumento de cálculo aritmético que permitía hacer cálculos más complejos cómo potenciación, función trigonométrica, logaritmos, entre otros. Sin embargo, el hombre no solo ha necesitado instrumentos para ayudarse a contar, sino también formas de registrar información. En el siglo *XX* se desarrollaron las primeras computadoras automáticas que hacían posible la aplicación de decisiones lógicas durante el cálculo de los datos; éstas computadoras eran de un tamaño enorme, muy inflexibles, pero con un aumento muy sustancial en la velocidad de procesos de operación."
   ]
  },
  {
   "cell_type": "markdown",
   "metadata": {
    "id": "9jUO7VbDBoAW"
   },
   "source": [
    "\n",
    "\n",
    "### 1.2. Partes y funciones de la computadora\n",
    "\n",
    "\n",
    "1. Pantalla: Visualizador que muestra al usuario los resultados del procedimiento de una operación.\n",
    "2. Tarjeta madre: A ella se conectan todos los componentes del computador para poder interpretar las instrucciones contenidas en los programas\n",
    "3. Procesador / CPU (Unidad central de procesamiento): Contiene todos los circuitos que guardan los datos para controlar, interpretar y ejecutar las instrucciones que envían los usuarios.\n",
    "4. Memoria RAM (Memoria de acceso aleatorio): Almacena las instrucciones de los programas y la información que entra a través de los dispositivos, se le conoce cómo memoria volátil ya que cada vez que se apaga los datos desaparecen, hasta que se vuelve a usar.\n",
    "5. Puertos PCI (Interconexión de componentes periféricos): Conecta distintos dispositivos periféricos directamente a la placa base. Por ejemplo, tarjeta de video, audio, red, entre otros.\n",
    "6. Fuente de alimentación de energía: Convierte la energía suministrada desde la corriente del toma (señal alterna) en corriente directa (señal continua) para cada uno de los dispositivos.\n",
    "7. Unidad óptica de almacenamiento: Es una unidad de discos que usa luz láser como parte del proceso de lectura o escritura de datos.\n",
    "8. Disco duro: Dispositivo de almacenamiento que emplea un sistema de grabación magnética para almacenar datos digitales. Se conoce cómo un dispositivo de almacenamiento permanente.\n",
    "9. Teclado: Dispositivo que permite introducir datos u órdenes, está inspirado en la máquina de escribir\n",
    "10. Ratón: Dispositivo apuntador."
   ]
  },
  {
   "cell_type": "markdown",
   "metadata": {
    "id": "7OlJN2gICZu3"
   },
   "source": [
    "\n",
    "\n",
    "### 1.3. Almacenamiento de la información\n",
    "*   **La memoria ROM** (Read-Only Memory) guarda información que NO cambia. La memoria contenida en ésta no puede ser modificada. Almacena, por ejemplo, los programas que se deben iniciar al prender el computador.\n",
    "*   **La memoria RAM** (Random Access Memory) almacena temporalmente información que puede ser modificada en cualquier momento. La información en la memoria RAM se pierde cuando se apaga el computador.\n",
    "\n",
    "La información en un computados se mueve a través del bus, el cual es un sistema de interconección del procesador con los dispositivos de entrada/salida y la memoria. Por este bus icirculan datos, señales de control o direcciones de memoria; de acuerdo a éstas funciones ecxisten tres tipos de buses\n",
    "\n",
    "*   **Bus de datos:** Permite transportar datos entre las componentes de la computadora a través de un circuito impreso. El ancho del bus de datos permite saber la cantidad de máxima información que se puede transportar en un segundo.\n",
    "*   **Bus de direcciones:** Permite indicar el origen y destino de los datos.\n",
    "*   **Bus de control:** Proporciona señales para coordinar las diferentes tareas, sin que haya colisión de información."
   ]
  },
  {
   "cell_type": "markdown",
   "metadata": {
    "id": "EcBtILMhJjYI"
   },
   "source": [
    "<p><a name=\"Turing\"></a></p>\n",
    "\n",
    "## 1.4. Máquinas de Turing\n",
    "\n",
    "Hemos visto como la interpretación de los problemas como algoritmos fue introducido por el matemático árabe Al'Juarismi (Abu Abdallah Muḥammad ibn Mūsā al-Jwārizmī--780 AC, . 850 AC), sin embargo sus desarrollos matemáticos no habían sido pensados como una implementación para que una máquina resolviera de forma automática el algoritmo. No fue sino hasta 1953 DC, que el matemático Alan Turing describiera una técnica para que un sistema artificial pudiera resolver la mayoría de los problemas lógicos y matemáticos, lo cual formaliza el concepto de algoritmo computacional.\n",
    "\n",
    "Una máquina de Turing es un dispositivo que manipula símbolos sobre una tira de cinta de acuerdo con una tabla de reglas. A pesar de su simplicidad, una máquina de Turing puede ser adaptada para simular la lógica de cualquier algoritmo de computador y es particularmente útil en la explicación de las funciones de una CPU dentro de un computador.\n",
    "La máquina de Turing no está diseñada como una tecnología de computación práctica, sino como un dispositivo hipotético que representa una máquina de computación. Las máquinas de Turing ayudan a los científicos a entender los límites del cálculo mecánico.\n",
    "La importancia de la máquina de Turing en la historia de la computación es doble: primero, la máquina de Turing fue uno de los primeros (si no el primero) modelos teóricos para las computadoras, viendo la luz en 1936. Segundo, estudiando sus propiedades abstractas, la máquina de Turing ha servido de base para mucho desarrollo teórico en las ciencias de la computación y en la teoría de la complejidad. Una razón para esto es que las máquinas de Turing son simples, y por tanto amenas al análisis.\n",
    "\n",
    "De manera formal la máquina de Turing se define como\n",
    "\n",
    "MT=(Q,Σ,Γ,Q0,b,F,δ),\n",
    "\n",
    "En donde:\n",
    "Q es un conjunto finito de estados posibles para la máquina de Turing.\n",
    "\n",
    "Σ es un conjunto finito de símbolos distinto del espacio en blanco, denominado alfabeto de máquina o de entrada.\n",
    "\n",
    "Γ es un conjunto finito de símbolos de cinta, denominado alfabeto de cinta\n",
    "Q0 es el estado inicial.\n",
    "\n",
    "b es un símbolo denominado blanco, y es el único símbolo que se puede repetir un número infinito de veces.\n",
    "\n",
    "F es el conjunto de estados finales de aceptación.\n",
    "\n",
    "δ:Q×Γ→Q×Γ×{L,R,S}  es una función parcial denominada función de transición, donde L es un movimiento a la izquierda, R es el movimiento a la derecha y S es de no movimiento.\n",
    "\n",
    "Existen muchos tipos de Maquinas de Turing como por ejemplo MT unidireccional en donde la cinta avanza en un solo sentido pero no puede retroceder, MT bidireccional en donde la cinta puede avanzar y retoceder (la más común), MT multicinta en donde la máquina posee dos o más cintas para leer y/o escribir los estados, MT multidimensional en donde existe \"una cinta\" de n-dimensiones, un caso sencillo sería un plano. En cada una de ellas hay que establecer las reglas de funcionamiento, a esto le llamaremos codificación de la MT.\n",
    "\n",
    "Codificación de MT bidireccional.\n",
    "\n",
    "Para realizar la codificación debemos hacer explícito cada uno de los elementos de la MT. Entonces asumamos, como ejemplo lo siguiente:\n",
    "\n",
    "Q={pi,qi} los estados de entrada y salida.\n",
    "\n",
    "Σ={0,1,∗} los símbolos de máquina, representando los digitos binarios y * dependiendo si ocupa valor o proximo estado puede signifiar cualquier valor, dejar inalterado el valor o no mover (movimiento S).\n",
    "\n",
    "Γ={0,1,∗} los símbolos en la cinta, representando los digitos binarios y * dependiendo si ocupa valor o proximo estado puede signifiar cualquier valor, dejar inalterado el valor o no mover (movimiento S).\n",
    "\n",
    "\n",
    "Q0={0} es el estado inicial.\n",
    "\n",
    "b={_} es el símbolo de espacio en blanco.\n",
    "\n",
    "F={Halt} es el estado de parada.\n",
    "\n",
    "δ=EstadoActual, ValorActual, NuevoValor, MovimientoCinta, PróximoEstado. Es la función de transición.\n",
    "Con esto en mente codifiquemos  una MT que calcule el complemento a 1 (C1) de cualquier número binario.\n",
    "*Solución*. Usando la definición de MT anterior se tiene que:\n",
    "\n",
    "0 0 1 R 0\n",
    "\n",
    "0 1 0 R 0\n",
    "\n",
    "0 _ * L Halt\n",
    "\n",
    "Vemos que sólo se rerequiere del estado inicial para resolver este problema. Comprobemos nuestra máquina de turing (MT) con algún valor particular, por ejemplo, 1010. Entonces la MT realizará una secuencia de pasos determinados por la función de trancisión así:\n",
    "\n",
    "Paso 1: **1**010. Este es el primer paso, el valor actual es 1, por lo que se cambiará por el valor de 0, de acuerdo a la función de transición, luego de cambiar el valor se mueve un espacio a la derecha quedando en el estado 0 nuevamente\n",
    "\n",
    "Paso 2: 0**0**10. En este paso, el valor actual es 0, por lo que se cambiará por 1. Luego de cambiar el valor se mueve un espacio a la derecha y queda en el estado 0.\n",
    "\n",
    "Paso 3: 01**1**0. Aquí, nuevamente el valor actual es 1, por lo que se cambiará por 0, se moverá a la derecha y quedará en estado 0.\n",
    "\n",
    "Paso 4: 010**0**. Aquí, el valor actual es 0, se cambiará por 1 y se moverá a la derecha, quedando en el estado 0.\n",
    "\n",
    "Paso 5: 0101**_**. En este lugar el valor atual es el espacio, se deja inalterado, se mueve a la izquierda y se detiene la MT.\n",
    "\n",
    "De acuerdo a esto, a la MT ingresa 1010 y esta devuelve 0101."
   ]
  },
  {
   "cell_type": "markdown",
   "metadata": {
    "id": "Ulga118xJr1Z"
   },
   "source": [
    "\n",
    "\n",
    "### 1.5. Sistemas Numericos y código binario"
   ]
  },
  {
   "cell_type": "code",
   "execution_count": null,
   "metadata": {
    "id": "XopE4rkSkmRc"
   },
   "outputs": [],
   "source": []
  },
  {
   "cell_type": "markdown",
   "metadata": {
    "id": "ADCWz6KxkoXA"
   },
   "source": [
    "### 1.5.1. Los números y representación de cantidades\n",
    "\n",
    "Los números nacen como una consecuencia natural de la invensión del lenguage, podríamos decir que las civilizaciones tuvieron su desarrollo tan acelerado después de inventar la manera en que las historias quedaran registradas de forma permanente en un objeto físico, es decir, una tablilla de piedra, una hoja de papiro, un jarro de arcilla, etc. Con la invención de la esritura surgen los símbolos necesario para contar y establecer la relación directa entre cantidad y el símbolo. Inicialmente los números no surgieron para satisfacer la necesidad de escribir axiomas o teorías matematicas complejas sino por algo más banal como saber cuantas cabras o gallinas se tenían. Otra cosa importante es que las civilizaciones antiguas no necesariamente contaban como lo hacemos hoy en día, es decir con diez símbolos para representar cantidades. Muchas contaban con distintas bases, por ejemplo los Babilonios tenían dos bases una de 10 y otra de 60 para contar, los Chinos usaban una base de 10 para contar y una base de 2 para las cábalas. Los Mayas una base de 20 y otra de 5. Pero es cierto que la mayoría de las civilizaiones, Romanos, Griegos, Arabes, han contado con bases de 10; tal vez obedeciendo al hecho de que en las manos tenemos 10 dedos.\n",
    "Ahora veamos como se cuenta en algunas bases distintas.\n",
    "Supongamos que tenemos la siguiente figura que representa un cargamento de piedras preciosas de gran valor, debemos informar cuántas de ellas hay\n"
   ]
  },
  {
   "cell_type": "markdown",
   "metadata": {
    "id": "eFMFPvbH0oNF"
   },
   "source": [
    "Lo primero que haremos será definir un conjunto de simbolos para representar las cantidades básicas, por ejemplo 0,1,2,3; y para componer números más grandes usaremos una notación posicional, o sea unidades, decenas, centenas, etc.\n",
    "Como tenemos 4 símbolos hacemos empaques de 4 esferas y luego hacemos empaques mas grandes de 4 cuatro paquetes cada uno y así sucesivamente."
   ]
  },
  {
   "cell_type": "markdown",
   "metadata": {
    "id": "8eD0Otbp2uc_"
   },
   "source": [
    "Como se puede ver, haciendo primeros empaques de 4 esferas nos quedan dos que no forman un empaque completo. Continuamos haciendo el procesos pero ahora con las cajas azules"
   ]
  },
  {
   "cell_type": "markdown",
   "metadata": {
    "id": "QC4hsmuD3n4F"
   },
   "source": [
    "Y vemos que sólo se pudo completar una caja roja con 4 azules. Por lo tanto estamos listos para decir que tenemos en totalidad la cantidad de esferas que caben en 1 caja roja, 3 cajas azules y 2 esferas sueltas. En este ejemplo el numero de elemnetos tomados para etiquetar es la base, osea 4. Entonces la cantidad de esferas contadas usando la base 4 sera de 132 esferas."
   ]
  },
  {
   "cell_type": "markdown",
   "metadata": {
    "id": "1gICAACXhJiE"
   },
   "source": [
    "#### <center> Hablando en Binario\n",
    "_________________________________________________________\n",
    "\n",
    "El procesamiento de datos dentro de un computador tiene como base las **ALU(Arithmetic Logic Unit)** o unidades aritméticas lógicas. Una ALU debe procesar números usando el mismo formato que el resto del circuito digital.\n",
    "\n",
    "Para los procesadores modernos, este formato casi siempre es la representación del número binario de complemento a dos conocido como **Formato IEEE 754**. Las primeras computadoras usaron una amplia variedad de sistemas de numeración, incluyendo complemento a uno, formato signo-magnitud, e incluso verdaderos sistemas decimales, con diez tubos por dígito [Ver más](https://es.wikipedia.org/wiki/Unidad_aritm%C3%A9tica_l%C3%B3gica#Operaciones_simples)."
   ]
  },
  {
   "cell_type": "markdown",
   "metadata": {
    "id": "JYUaqKMAhJiP"
   },
   "source": [
    "### 1.5.2 Sistemas de numeración\n",
    "\n",
    "Un sistema de numeración es un conjunto de reglas y símbolos (por ejemplo los dígitos) que permiten construir un conjunto numérico, por ejemplo nuestro sistema decimal, el más usado en la actualidad, que nos permite organizar los números como la suma de los dígitos por potencias de 10:\n",
    "\n",
    "$$\n",
    "N_{b10} = \\sum_{n=Q}^{n=P} a_n 10^n\n",
    "$$\n",
    "\n",
    "donde $\\sum$ es el símbolo matemático que representa la suma de la secuencia en n desde un valor Q hasta P, donde $n \\in Z$, tal que n puede ser positivo o negativo y $a_n \\in \\{0,1,2,3,4,5,6,7,8,9\\}$, es decir $a_n$ es un dígito.\n",
    "\n",
    "Ejemplo:\n",
    "\n",
    "$$340.78 = 3*10^2 + 4*10^1 + 0*10^0 +7*10^{-1} + 8*10^{-2} \\text{.}$$\n",
    "\n",
    "En este caso vemos que P=2 y Q=-2"
   ]
  },
  {
   "cell_type": "markdown",
   "metadata": {
    "id": "0JCEp76uhJiS"
   },
   "source": [
    "### 1.5.3. Sistema binario\n",
    "\n",
    "El sistema binario sigue unas reglas parecidas al sistema decimal descrita en Eq. 1, pero sus dígitos sólo pueden ser 0 o 1 por lo tanto: $$N_{b2} = \\sum_{n=Q}^{n=P}  a_n 2^n $$\n",
    "\n",
    "donde $n \\in Z$, enteros desde un valor Q hasta P $a_n \\in \\{0,1\\}\\text{.}$\n",
    "\n",
    "Ejemplo:\n",
    "\n",
    "$$100.01 = 1*2^2 + 0*2^1 + 0*2^0 +0*2^{-1} + 1*2^{-2} \\text{.}$$\n",
    "\n",
    "En este caso vemos que P=2 y Q=-2"
   ]
  },
  {
   "cell_type": "markdown",
   "metadata": {
    "id": "vkg211fQh2l9"
   },
   "source": [
    "### Entero base 10 a Entero base 2\n",
    "\n",
    "Para hallar los dígitos adecuados tenemos varios métodos: por asignación de potencias usando una tabla, por residuos o por logaritmos."
   ]
  },
  {
   "cell_type": "markdown",
   "metadata": {
    "id": "KfpDv0pjhJi_"
   },
   "source": [
    "### Residuo\n",
    "\n",
    "El método de residuo nos sugiere que tomemos nuestro número Z=149, y dividamos de forma entera por la base 2. Ya que los dígitos siempre son menores que su base (Ej, $0...9 <10$) y aprovechando la regla:\n",
    "\n",
    "> Una división entre dos enteros N y M puede representarse como $\\frac{N}{M} = C + \\frac{R}{M}$, donde C es el cociente (número entero) y R el residuo(número entero)\n",
    "\n",
    "Tendríamos\n",
    "\n",
    "$$\\dfrac{Z_{b10}}{2} = \\sum_{0}^{P} \\dfrac{a_n}{2} 2^n $$\n",
    "\n",
    "Dado a que $a_n$ es un dígito menor que la base esta fracción será menor que 1 para la potencia $n=0$.  tenemos que:  \n",
    "\n",
    "$$\\dfrac{Z_{b10}}{2}= C_{b10} + \\dfrac{R_{b10}}{2} = \\dfrac{a_0}{2} + \\sum_{n=1} \\dfrac{a_n}{2} 2^n $$\n",
    "\n",
    "Entonces, tendríamos un entero más un número racional menor que uno, dado que sólo $a_0/2$ puede ser racional, entonces el residuo sería el último dígito. Ahora volvemos a tener la misma situación:\n",
    "\n",
    "$$\\dfrac{C_{b10}}{2}= \\sum_{n=1} \\dfrac{a_n}{2} 2^n $$\n",
    "\n",
    "Por lo cuál un método simple para pasar un entero de una base a otra es dividir por la base cada cociente resultante hasta que sea posible y guardando los residuos para ser organizados del último al cociente final."
   ]
  },
  {
   "cell_type": "code",
   "execution_count": 1,
   "metadata": {
    "colab": {
     "base_uri": "https://localhost:8080/",
     "height": 317
    },
    "id": "3ZCOmHnOhJjA",
    "outputId": "56cc3699-c3e6-4bc9-ffc4-4dc85dbca01b"
   },
   "outputs": [
    {
     "name": "stdout",
     "output_type": "stream",
     "text": [
      "El número 149 en base dos es: [1, 0, 0, 1, 0, 1, 0, 1]\n"
     ]
    },
    {
     "data": {
      "text/html": [
       "<div>\n",
       "<style scoped>\n",
       "    .dataframe tbody tr th:only-of-type {\n",
       "        vertical-align: middle;\n",
       "    }\n",
       "\n",
       "    .dataframe tbody tr th {\n",
       "        vertical-align: top;\n",
       "    }\n",
       "\n",
       "    .dataframe thead th {\n",
       "        text-align: right;\n",
       "    }\n",
       "</style>\n",
       "<table border=\"1\" class=\"dataframe\">\n",
       "  <thead>\n",
       "    <tr style=\"text-align: right;\">\n",
       "      <th></th>\n",
       "      <th>Operación</th>\n",
       "      <th>Cociente</th>\n",
       "      <th>Residuo</th>\n",
       "    </tr>\n",
       "  </thead>\n",
       "  <tbody>\n",
       "    <tr>\n",
       "      <th>0</th>\n",
       "      <td>149/2</td>\n",
       "      <td>74</td>\n",
       "      <td>1</td>\n",
       "    </tr>\n",
       "    <tr>\n",
       "      <th>1</th>\n",
       "      <td>74/2</td>\n",
       "      <td>37</td>\n",
       "      <td>0</td>\n",
       "    </tr>\n",
       "    <tr>\n",
       "      <th>2</th>\n",
       "      <td>37/2</td>\n",
       "      <td>18</td>\n",
       "      <td>1</td>\n",
       "    </tr>\n",
       "    <tr>\n",
       "      <th>3</th>\n",
       "      <td>18/2</td>\n",
       "      <td>9</td>\n",
       "      <td>0</td>\n",
       "    </tr>\n",
       "    <tr>\n",
       "      <th>4</th>\n",
       "      <td>9/2</td>\n",
       "      <td>4</td>\n",
       "      <td>1</td>\n",
       "    </tr>\n",
       "    <tr>\n",
       "      <th>5</th>\n",
       "      <td>4/2</td>\n",
       "      <td>2</td>\n",
       "      <td>0</td>\n",
       "    </tr>\n",
       "    <tr>\n",
       "      <th>6</th>\n",
       "      <td>2/2</td>\n",
       "      <td>1</td>\n",
       "      <td>0</td>\n",
       "    </tr>\n",
       "    <tr>\n",
       "      <th>7</th>\n",
       "      <td>1/2</td>\n",
       "      <td>0</td>\n",
       "      <td>1</td>\n",
       "    </tr>\n",
       "  </tbody>\n",
       "</table>\n",
       "</div>"
      ],
      "text/plain": [
       "  Operación Cociente  Residuo\n",
       "0     149/2       74        1\n",
       "1      74/2       37        0\n",
       "2      37/2       18        1\n",
       "3      18/2        9        0\n",
       "4       9/2        4        1\n",
       "5       4/2        2        0\n",
       "6       2/2        1        0\n",
       "7       1/2        0        1"
      ]
     },
     "execution_count": 1,
     "metadata": {},
     "output_type": "execute_result"
    }
   ],
   "source": [
    "import pandas as pd\n",
    "N=149\n",
    "c = [N]\n",
    "r = []\n",
    "i=0\n",
    "while c[-1]>1:\n",
    "    c.append(c[i]//2)\n",
    "    r.append(c[i]%2)\n",
    "    i+=1\n",
    "r.append(c[-1])\n",
    "print(\"El número\",N,\"en base dos es:\",r[::-1])\n",
    "pd.DataFrame({\"Operación\":[\"%d/2\"%(c[i]) for i in range(len(c))],\n",
    "              \"Cociente\":[\"0\" if i==len(c)-1 else c[i+1] for i in range(len(c))],\"Residuo\":r})"
   ]
  },
  {
   "cell_type": "markdown",
   "metadata": {
    "id": "weRaI3vPhJjD"
   },
   "source": [
    "### Logaritmo\n",
    "\n",
    "A pesar que el anterior método es bastante simple y fácil de programar, para números muy grades o pequeños puede ser demasiado complicado. Combinando el primer método y el segundo podemos hallar la representación binaria con mayor facilidad, sólo necesitamos saber cuál es la máxima potencia posible y desde allí restar y volver a encontrar la potencia, es un proceso en donde nos interesan los números fuera del 0, que no aporta a la suma, en el caso del sistema binario es muy bastante útil y práctico.\n",
    "\n",
    "Es posible saber la potencia máxima posible con la que puede restarse nuestro número si este puede escribirse como $N=2^k$, siendo k un número real positivo, dado a que buscamos $N \\geq 2^n$ entonces $2^k \\geq 2^n$ lo que significa que $k \\geq n$, si encontramos k y lo redondeamos al entero menor podremos hallar la representación más rápido.\n",
    "\n",
    "$$k = \\log_{2} N = \\dfrac{\\ln N}{\\ln 2} = \\dfrac{\\log N}{\\log 2}$$"
   ]
  },
  {
   "cell_type": "code",
   "execution_count": 2,
   "metadata": {
    "colab": {
     "base_uri": "https://localhost:8080/",
     "height": 192
    },
    "id": "SER-YBLehJjD",
    "outputId": "dd55c667-3dc2-4ca0-de8a-044f42fc50da"
   },
   "outputs": [
    {
     "name": "stdout",
     "output_type": "stream",
     "text": [
      "El número 149 en base dos es: [1, 0, 0, 1, 0, 1, 0]\n"
     ]
    },
    {
     "data": {
      "text/html": [
       "<div>\n",
       "<style scoped>\n",
       "    .dataframe tbody tr th:only-of-type {\n",
       "        vertical-align: middle;\n",
       "    }\n",
       "\n",
       "    .dataframe tbody tr th {\n",
       "        vertical-align: top;\n",
       "    }\n",
       "\n",
       "    .dataframe thead th {\n",
       "        text-align: right;\n",
       "    }\n",
       "</style>\n",
       "<table border=\"1\" class=\"dataframe\">\n",
       "  <thead>\n",
       "    <tr style=\"text-align: right;\">\n",
       "      <th></th>\n",
       "      <th>Operación</th>\n",
       "      <th>k</th>\n",
       "      <th>n</th>\n",
       "      <th>Falta</th>\n",
       "    </tr>\n",
       "  </thead>\n",
       "  <tbody>\n",
       "    <tr>\n",
       "      <th>0</th>\n",
       "      <td>log(149)/log(10)</td>\n",
       "      <td>7.219169</td>\n",
       "      <td>7</td>\n",
       "      <td>21</td>\n",
       "    </tr>\n",
       "    <tr>\n",
       "      <th>1</th>\n",
       "      <td>log(21)/log(10)</td>\n",
       "      <td>4.392317</td>\n",
       "      <td>4</td>\n",
       "      <td>5</td>\n",
       "    </tr>\n",
       "    <tr>\n",
       "      <th>2</th>\n",
       "      <td>log(5)/log(10)</td>\n",
       "      <td>2.321928</td>\n",
       "      <td>2</td>\n",
       "      <td>1</td>\n",
       "    </tr>\n",
       "    <tr>\n",
       "      <th>3</th>\n",
       "      <td>log(1)/log(10)</td>\n",
       "      <td>0.000000</td>\n",
       "      <td>0</td>\n",
       "      <td>0</td>\n",
       "    </tr>\n",
       "  </tbody>\n",
       "</table>\n",
       "</div>"
      ],
      "text/plain": [
       "          Operación         k  n  Falta\n",
       "0  log(149)/log(10)  7.219169  7     21\n",
       "1   log(21)/log(10)  4.392317  4      5\n",
       "2    log(5)/log(10)  2.321928  2      1\n",
       "3    log(1)/log(10)  0.000000  0      0"
      ]
     },
     "execution_count": 2,
     "metadata": {},
     "output_type": "execute_result"
    }
   ],
   "source": [
    "import math\n",
    "\n",
    "n = []\n",
    "k = []\n",
    "resta = [N]\n",
    "i=0\n",
    "while resta[i]>0:\n",
    "    k.append((math.log(resta[i])/math.log(2)))\n",
    "    n.append(math.trunc(k[i]))\n",
    "    resta.append(resta[i] - 2**n[i])\n",
    "    i+=1\n",
    "\n",
    "bin_str=[0]*n[0]\n",
    "for p in n:\n",
    "    bin_str[p-1] = 1\n",
    "print(\"El número\",N,\"en base dos es:\",bin_str[::-1])\n",
    "pd.DataFrame({\"Operación\":[\"log(%d)/log(10)\"%(resta[i]) for i in range(len(resta)-1)],\n",
    "              \"k\":k,\"n\":n,\"Falta\":[resta[i] if i <= len(resta)-1 else 0 for i in range(1,len(resta))]})"
   ]
  },
  {
   "cell_type": "markdown",
   "metadata": {
    "id": "2Zm47-QQhJjE"
   },
   "source": [
    "### Enteros base 10 a otras bases"
   ]
  },
  {
   "cell_type": "code",
   "execution_count": 3,
   "metadata": {
    "colab": {
     "base_uri": "https://localhost:8080/",
     "height": 192
    },
    "id": "oCo2w3FUhJjF",
    "outputId": "afd4a07c-bafc-4b21-eadd-0b05cebf6de5"
   },
   "outputs": [
    {
     "name": "stdout",
     "output_type": "stream",
     "text": [
      "El número 149 en base 5 es: [1, 0, 4, 4]\n"
     ]
    },
    {
     "data": {
      "text/html": [
       "<div>\n",
       "<style scoped>\n",
       "    .dataframe tbody tr th:only-of-type {\n",
       "        vertical-align: middle;\n",
       "    }\n",
       "\n",
       "    .dataframe tbody tr th {\n",
       "        vertical-align: top;\n",
       "    }\n",
       "\n",
       "    .dataframe thead th {\n",
       "        text-align: right;\n",
       "    }\n",
       "</style>\n",
       "<table border=\"1\" class=\"dataframe\">\n",
       "  <thead>\n",
       "    <tr style=\"text-align: right;\">\n",
       "      <th></th>\n",
       "      <th>Operación</th>\n",
       "      <th>Cociente</th>\n",
       "      <th>Residuo</th>\n",
       "    </tr>\n",
       "  </thead>\n",
       "  <tbody>\n",
       "    <tr>\n",
       "      <th>0</th>\n",
       "      <td>149/5</td>\n",
       "      <td>29</td>\n",
       "      <td>4</td>\n",
       "    </tr>\n",
       "    <tr>\n",
       "      <th>1</th>\n",
       "      <td>29/5</td>\n",
       "      <td>5</td>\n",
       "      <td>4</td>\n",
       "    </tr>\n",
       "    <tr>\n",
       "      <th>2</th>\n",
       "      <td>5/5</td>\n",
       "      <td>1</td>\n",
       "      <td>0</td>\n",
       "    </tr>\n",
       "    <tr>\n",
       "      <th>3</th>\n",
       "      <td>1/5</td>\n",
       "      <td>No</td>\n",
       "      <td>1</td>\n",
       "    </tr>\n",
       "  </tbody>\n",
       "</table>\n",
       "</div>"
      ],
      "text/plain": [
       "  Operación Cociente  Residuo\n",
       "0     149/5       29        4\n",
       "1      29/5        5        4\n",
       "2       5/5        1        0\n",
       "3       1/5       No        1"
      ]
     },
     "execution_count": 3,
     "metadata": {},
     "output_type": "execute_result"
    }
   ],
   "source": [
    "N=149\n",
    "c = [N]\n",
    "r = []\n",
    "i=0\n",
    "while c[-1]>1:\n",
    "    c.append(c[i]//5)\n",
    "    r.append(c[i]%5)\n",
    "    i+=1\n",
    "r.append(c[-1])\n",
    "print(\"El número\",N,\"en base 5 es:\",r[::-1])\n",
    "pd.DataFrame({\"Operación\":[\"%d/5\"%(c[i]) for i in range(len(c))],\n",
    "              \"Cociente\":[\"No\" if i==len(c)-1 else c[i+1] for i in range(len(c))],\"Residuo\":r})"
   ]
  },
  {
   "cell_type": "code",
   "execution_count": 4,
   "metadata": {
    "colab": {
     "base_uri": "https://localhost:8080/",
     "height": 192
    },
    "id": "njYcZM_ChJjF",
    "outputId": "d480b3b6-aee5-44ba-cbe4-0f8395d652f8"
   },
   "outputs": [
    {
     "name": "stdout",
     "output_type": "stream",
     "text": [
      "El número 149 en base 8 es: [0, 2, 2, 5]\n"
     ]
    },
    {
     "data": {
      "text/html": [
       "<div>\n",
       "<style scoped>\n",
       "    .dataframe tbody tr th:only-of-type {\n",
       "        vertical-align: middle;\n",
       "    }\n",
       "\n",
       "    .dataframe tbody tr th {\n",
       "        vertical-align: top;\n",
       "    }\n",
       "\n",
       "    .dataframe thead th {\n",
       "        text-align: right;\n",
       "    }\n",
       "</style>\n",
       "<table border=\"1\" class=\"dataframe\">\n",
       "  <thead>\n",
       "    <tr style=\"text-align: right;\">\n",
       "      <th></th>\n",
       "      <th>Operación</th>\n",
       "      <th>Cociente</th>\n",
       "      <th>Residuo</th>\n",
       "    </tr>\n",
       "  </thead>\n",
       "  <tbody>\n",
       "    <tr>\n",
       "      <th>0</th>\n",
       "      <td>149/8</td>\n",
       "      <td>18</td>\n",
       "      <td>5</td>\n",
       "    </tr>\n",
       "    <tr>\n",
       "      <th>1</th>\n",
       "      <td>18/8</td>\n",
       "      <td>2</td>\n",
       "      <td>2</td>\n",
       "    </tr>\n",
       "    <tr>\n",
       "      <th>2</th>\n",
       "      <td>2/8</td>\n",
       "      <td>0</td>\n",
       "      <td>2</td>\n",
       "    </tr>\n",
       "    <tr>\n",
       "      <th>3</th>\n",
       "      <td>0/8</td>\n",
       "      <td>No</td>\n",
       "      <td>0</td>\n",
       "    </tr>\n",
       "  </tbody>\n",
       "</table>\n",
       "</div>"
      ],
      "text/plain": [
       "  Operación Cociente  Residuo\n",
       "0     149/8       18        5\n",
       "1      18/8        2        2\n",
       "2       2/8        0        2\n",
       "3       0/8       No        0"
      ]
     },
     "execution_count": 4,
     "metadata": {},
     "output_type": "execute_result"
    }
   ],
   "source": [
    "N=149\n",
    "c = [N]\n",
    "r = []\n",
    "i=0\n",
    "while c[-1]>1:\n",
    "    c.append(c[i]//8)\n",
    "    r.append(c[i]%8)\n",
    "    i+=1\n",
    "r.append(c[-1])\n",
    "print(\"El número\",N,\"en base 8 es:\",r[::-1])\n",
    "pd.DataFrame({\"Operación\":[\"%d/8\"%(c[i]) for i in range(len(c))],\n",
    "              \"Cociente\":[\"No\" if i==len(c)-1 else c[i+1] for i in range(len(c))],\"Residuo\":r})"
   ]
  },
  {
   "cell_type": "markdown",
   "metadata": {
    "id": "ihmsAee2hJjG"
   },
   "source": [
    "### Ejercicios enteros base 10 a base 2"
   ]
  },
  {
   "cell_type": "code",
   "execution_count": 5,
   "metadata": {
    "id": "FPyA5TbehJjH"
   },
   "outputs": [
    {
     "data": {
      "image/jpeg": "[encoded data removed]",
      "text/html": [
       "\n",
       "        <iframe\n",
       "            width=\"400\"\n",
       "            height=\"300\"\n",
       "            src=\"https://www.youtube.com/embed/XSF4z7l3Pf0\"\n",
       "            frameborder=\"0\"\n",
       "            allowfullscreen\n",
       "            \n",
       "        ></iframe>\n",
       "        "
      ],
      "text/plain": [
       "<IPython.lib.display.YouTubeVideo at 0x7fcc82493a60>"
      ]
     },
     "execution_count": 5,
     "metadata": {},
     "output_type": "execute_result"
    }
   ],
   "source": [
    "from IPython.display import YouTubeVideo\n",
    "YouTubeVideo('XSF4z7l3Pf0')\n"
   ]
  },
  {
   "cell_type": "markdown",
   "metadata": {
    "id": "oz4za_J1hJjI"
   },
   "source": [
    "### Fraccionarios base 10 a fraccionarios base 2\n",
    "\n",
    "Para los números menores de 1 podemos aplicar más o menos los mismos métodos, tan sólo cambia el segundo método, **donde no dividimos sino que multiplicamos**, pero hay una diferencia principal y es que no podemos conocer la potencia mínima para representar un número real menor de 1 e incluso es posible que no podamos hacerlo con exactitud.\n",
    "\n",
    "Los número enteros tiene la regla del cociente y residuo, cada vez que dividimos un número entero en la base a la que vamos a transformar se genera un par (C,R), ambos enteros, el residuo siempre es menor que la base y es un dígito en un orden especifico y el cociente puede volver a dividirse hasta que la división no pueda darnos un entero, entonce el último cociente (que obviamente es menor que la base) es tomado con los residuos y nos da la representación que queremos.\n",
    "\n",
    "Pero con los racionales menores que 1, tenemos la serie\n",
    "\n",
    "$$\\sum_{n=-1} a_n 2^n \\text{,} $$\n",
    "que es una serie geométrica, tal que si todos los $a_n=1$ converge\n",
    "\n",
    "$$\\sum_{1}^M (1/2)^{k-1} = 1-2*(0.5)^M \\text{,} $$\n",
    "\n",
    "Entonces tenemos que la suma hasta cada potencia sería:"
   ]
  },
  {
   "cell_type": "code",
   "execution_count": 6,
   "metadata": {
    "colab": {
     "base_uri": "https://localhost:8080/",
     "height": 112
    },
    "id": "1p1K3KOahJjI",
    "outputId": "22d9b6ed-973a-4961-f776-e350b2d8dc57"
   },
   "outputs": [
    {
     "name": "stderr",
     "output_type": "stream",
     "text": [
      "/tmp/ipykernel_15441/433885023.py:2: DeprecationWarning: `np.int` is a deprecated alias for the builtin `int`. To silence this warning, use `int` by itself. Doing this will not modify any behavior and is safe. When replacing `np.int`, you may wish to use e.g. `np.int64` or `np.int32` to specify the precision. If you wish to review your current use, check the release note link for additional information.\n",
      "Deprecated in NumPy 1.20; for more details and guidance: https://numpy.org/devdocs/release/1.20.0-notes.html#deprecations\n",
      "  pd.DataFrame({\"2^n\":[2**(-m) for m in range(1,10)],\"Suma 2^n\":[1-2*(0.5)**m for m in range(2,11)]},index=np.arange(-1,-10,-1,dtype=np.int)).T\n"
     ]
    },
    {
     "data": {
      "text/html": [
       "<div>\n",
       "<style scoped>\n",
       "    .dataframe tbody tr th:only-of-type {\n",
       "        vertical-align: middle;\n",
       "    }\n",
       "\n",
       "    .dataframe tbody tr th {\n",
       "        vertical-align: top;\n",
       "    }\n",
       "\n",
       "    .dataframe thead th {\n",
       "        text-align: right;\n",
       "    }\n",
       "</style>\n",
       "<table border=\"1\" class=\"dataframe\">\n",
       "  <thead>\n",
       "    <tr style=\"text-align: right;\">\n",
       "      <th></th>\n",
       "      <th>-1</th>\n",
       "      <th>-2</th>\n",
       "      <th>-3</th>\n",
       "      <th>-4</th>\n",
       "      <th>-5</th>\n",
       "      <th>-6</th>\n",
       "      <th>-7</th>\n",
       "      <th>-8</th>\n",
       "      <th>-9</th>\n",
       "    </tr>\n",
       "  </thead>\n",
       "  <tbody>\n",
       "    <tr>\n",
       "      <th>2^n</th>\n",
       "      <td>0.5</td>\n",
       "      <td>0.25</td>\n",
       "      <td>0.125</td>\n",
       "      <td>0.0625</td>\n",
       "      <td>0.03125</td>\n",
       "      <td>0.015625</td>\n",
       "      <td>0.007812</td>\n",
       "      <td>0.003906</td>\n",
       "      <td>0.001953</td>\n",
       "    </tr>\n",
       "    <tr>\n",
       "      <th>Suma 2^n</th>\n",
       "      <td>0.5</td>\n",
       "      <td>0.75</td>\n",
       "      <td>0.875</td>\n",
       "      <td>0.9375</td>\n",
       "      <td>0.96875</td>\n",
       "      <td>0.984375</td>\n",
       "      <td>0.992188</td>\n",
       "      <td>0.996094</td>\n",
       "      <td>0.998047</td>\n",
       "    </tr>\n",
       "  </tbody>\n",
       "</table>\n",
       "</div>"
      ],
      "text/plain": [
       "           -1    -2     -3      -4       -5        -6        -7        -8  \\\n",
       "2^n       0.5  0.25  0.125  0.0625  0.03125  0.015625  0.007812  0.003906   \n",
       "Suma 2^n  0.5  0.75  0.875  0.9375  0.96875  0.984375  0.992188  0.996094   \n",
       "\n",
       "                -9  \n",
       "2^n       0.001953  \n",
       "Suma 2^n  0.998047  "
      ]
     },
     "execution_count": 6,
     "metadata": {},
     "output_type": "execute_result"
    }
   ],
   "source": [
    "import numpy as np\n",
    "pd.DataFrame({\"2^n\":[2**(-m) for m in range(1,10)],\"Suma 2^n\":[1-2*(0.5)**m for m in range(2,11)]},index=np.arange(-1,-10,-1,dtype=np.int)).T"
   ]
  },
  {
   "cell_type": "markdown",
   "metadata": {
    "id": "oo4Pw7EchJjK"
   },
   "source": [
    "Si partimos la serie en los valores acumulados por secciones, es probable que no podamos representar todos os fraccionarios con pocos números después de la coma, incluso es posible que tengamos que aproximar o redondear pues podríamos caer en un bucle infinito esperando poder hallar la representación exacta. Por ejemplo, el fraccionario 0.51"
   ]
  },
  {
   "cell_type": "code",
   "execution_count": 7,
   "metadata": {
    "colab": {
     "base_uri": "https://localhost:8080/",
     "height": 225
    },
    "id": "CWtgCHpDhJjK",
    "outputId": "bd1bf5a1-a033-4d64-a972-f2e7a9c97897"
   },
   "outputs": [
    {
     "name": "stdout",
     "output_type": "stream",
     "text": [
      "El número 0.5100000000000000089 en base 2 es 0. [1.0, 0.0, 0.0, 0.0, 0.0, 0.0, 1.0, 0.0, 1.0, 0.0, 0.0, 0.0, 1.0, 1.0, 1.0, 1.0, 0.0, 1.0, 0.0, 1.0, 1.0, 1.0, 0.0, 0.0, 0.0, 0.0, 1.0, 0.0, 1.0, 0.0, 0.0, 0.0, 1.0, 1.0, 1.0, 1.0, 0.0, 1.0, 0.0, 1.0, 1.0, 1.0, 0.0, 0.0, 0.0, 0.0, 1.0, 0.0, 1.0, 0.0, 0.0, 1.0]\n"
     ]
    },
    {
     "data": {
      "text/html": [
       "<div>\n",
       "<style scoped>\n",
       "    .dataframe tbody tr th:only-of-type {\n",
       "        vertical-align: middle;\n",
       "    }\n",
       "\n",
       "    .dataframe tbody tr th {\n",
       "        vertical-align: top;\n",
       "    }\n",
       "\n",
       "    .dataframe thead th {\n",
       "        text-align: right;\n",
       "    }\n",
       "</style>\n",
       "<table border=\"1\" class=\"dataframe\">\n",
       "  <thead>\n",
       "    <tr style=\"text-align: right;\">\n",
       "      <th></th>\n",
       "      <th>0</th>\n",
       "      <th>1</th>\n",
       "      <th>2</th>\n",
       "      <th>3</th>\n",
       "      <th>4</th>\n",
       "      <th>5</th>\n",
       "      <th>6</th>\n",
       "      <th>7</th>\n",
       "      <th>8</th>\n",
       "      <th>9</th>\n",
       "      <th>...</th>\n",
       "      <th>42</th>\n",
       "      <th>43</th>\n",
       "      <th>44</th>\n",
       "      <th>45</th>\n",
       "      <th>46</th>\n",
       "      <th>47</th>\n",
       "      <th>48</th>\n",
       "      <th>49</th>\n",
       "      <th>50</th>\n",
       "      <th>51</th>\n",
       "    </tr>\n",
       "  </thead>\n",
       "  <tbody>\n",
       "    <tr>\n",
       "      <th>Operación</th>\n",
       "      <td>0.510000*2</td>\n",
       "      <td>0.020000*2</td>\n",
       "      <td>0.040000*2</td>\n",
       "      <td>0.080000*2</td>\n",
       "      <td>0.160000*2</td>\n",
       "      <td>0.320000*2</td>\n",
       "      <td>0.640000*2</td>\n",
       "      <td>0.280000*2</td>\n",
       "      <td>0.560000*2</td>\n",
       "      <td>0.120000*2</td>\n",
       "      <td>...</td>\n",
       "      <td>0.040039*2</td>\n",
       "      <td>0.080078*2</td>\n",
       "      <td>0.160156*2</td>\n",
       "      <td>0.320312*2</td>\n",
       "      <td>0.640625*2</td>\n",
       "      <td>0.281250*2</td>\n",
       "      <td>0.562500*2</td>\n",
       "      <td>0.125000*2</td>\n",
       "      <td>0.250000*2</td>\n",
       "      <td>0.500000*2</td>\n",
       "    </tr>\n",
       "    <tr>\n",
       "      <th>Resultado</th>\n",
       "      <td>1.02</td>\n",
       "      <td>0.04</td>\n",
       "      <td>0.08</td>\n",
       "      <td>0.16</td>\n",
       "      <td>0.32</td>\n",
       "      <td>0.64</td>\n",
       "      <td>1.28</td>\n",
       "      <td>0.56</td>\n",
       "      <td>1.12</td>\n",
       "      <td>0.24</td>\n",
       "      <td>...</td>\n",
       "      <td>0.080078</td>\n",
       "      <td>0.160156</td>\n",
       "      <td>0.320312</td>\n",
       "      <td>0.640625</td>\n",
       "      <td>1.28125</td>\n",
       "      <td>0.5625</td>\n",
       "      <td>1.125</td>\n",
       "      <td>0.25</td>\n",
       "      <td>0.5</td>\n",
       "      <td>1.0</td>\n",
       "    </tr>\n",
       "    <tr>\n",
       "      <th>Valores</th>\n",
       "      <td>1.0</td>\n",
       "      <td>0.0</td>\n",
       "      <td>0.0</td>\n",
       "      <td>0.0</td>\n",
       "      <td>0.0</td>\n",
       "      <td>0.0</td>\n",
       "      <td>1.0</td>\n",
       "      <td>0.0</td>\n",
       "      <td>1.0</td>\n",
       "      <td>0.0</td>\n",
       "      <td>...</td>\n",
       "      <td>0.0</td>\n",
       "      <td>0.0</td>\n",
       "      <td>0.0</td>\n",
       "      <td>0.0</td>\n",
       "      <td>1.0</td>\n",
       "      <td>0.0</td>\n",
       "      <td>1.0</td>\n",
       "      <td>0.0</td>\n",
       "      <td>0.0</td>\n",
       "      <td>1.0</td>\n",
       "    </tr>\n",
       "  </tbody>\n",
       "</table>\n",
       "<p>3 rows × 52 columns</p>\n",
       "</div>"
      ],
      "text/plain": [
       "                   0           1           2           3           4   \\\n",
       "Operación  0.510000*2  0.020000*2  0.040000*2  0.080000*2  0.160000*2   \n",
       "Resultado        1.02        0.04        0.08        0.16        0.32   \n",
       "Valores           1.0         0.0         0.0         0.0         0.0   \n",
       "\n",
       "                   5           6           7           8           9   ...  \\\n",
       "Operación  0.320000*2  0.640000*2  0.280000*2  0.560000*2  0.120000*2  ...   \n",
       "Resultado        0.64        1.28        0.56        1.12        0.24  ...   \n",
       "Valores           0.0         1.0         0.0         1.0         0.0  ...   \n",
       "\n",
       "                   42          43          44          45          46  \\\n",
       "Operación  0.040039*2  0.080078*2  0.160156*2  0.320312*2  0.640625*2   \n",
       "Resultado    0.080078    0.160156    0.320312    0.640625     1.28125   \n",
       "Valores           0.0         0.0         0.0         0.0         1.0   \n",
       "\n",
       "                   47          48          49          50          51  \n",
       "Operación  0.281250*2  0.562500*2  0.125000*2  0.250000*2  0.500000*2  \n",
       "Resultado      0.5625       1.125        0.25         0.5         1.0  \n",
       "Valores           0.0         1.0         0.0         0.0         1.0  \n",
       "\n",
       "[3 rows x 52 columns]"
      ]
     },
     "execution_count": 7,
     "metadata": {},
     "output_type": "execute_result"
    }
   ],
   "source": [
    "N =np.longdouble(0.51)\n",
    "r = []\n",
    "i=0\n",
    "resta=[N]\n",
    "mul = []\n",
    "while resta[-1]>0 and i<100:\n",
    "    mul.append(resta[i]*np.longdouble(2.0))\n",
    "    r.append(np.trunc(mul[i]))\n",
    "    resta.append(mul[i]-r[i])\n",
    "    i+=1\n",
    "\n",
    "print(\"El número\",N,\"en base 2 es 0.\",r)\n",
    "pd.DataFrame({\"Operación\":[\"%f*2\"%(resta[i]) for i in range(len(resta)-1)],\n",
    "              \"Resultado\":mul,\"Valores\":r}).T\n"
   ]
  },
  {
   "cell_type": "markdown",
   "metadata": {
    "id": "lnJhYTZ7hJjL"
   },
   "source": [
    "Este fraccionario necesita de 51 números (dígitos entre 0 y 1) para poder representar con exactitud computacional el fraccionario, porque por supuesto cuando las operaciones tengan más de 16 dígitos después de la coma, el valor será naturalmente truncado, gracias al formato de representación de los procesadores actuales."
   ]
  },
  {
   "cell_type": "markdown",
   "metadata": {
    "id": "t6s_jy8ZhJjM"
   },
   "source": [
    "### Ejercicios con fraccionarios en base 10 a base 2"
   ]
  },
  {
   "cell_type": "code",
   "execution_count": 8,
   "metadata": {
    "id": "b8lBw7CIhJjM"
   },
   "outputs": [
    {
     "data": {
      "image/jpeg": "[encoded data removed]",
      "text/html": [
       "\n",
       "        <iframe\n",
       "            width=\"400\"\n",
       "            height=\"300\"\n",
       "            src=\"https://www.youtube.com/embed/_YBhRnFOLpI\"\n",
       "            frameborder=\"0\"\n",
       "            allowfullscreen\n",
       "            \n",
       "        ></iframe>\n",
       "        "
      ],
      "text/plain": [
       "<IPython.lib.display.YouTubeVideo at 0x7fccb85fa940>"
      ]
     },
     "execution_count": 8,
     "metadata": {},
     "output_type": "execute_result"
    }
   ],
   "source": [
    "from IPython.display import YouTubeVideo\n",
    "YouTubeVideo('_YBhRnFOLpI')"
   ]
  },
  {
   "cell_type": "markdown",
   "metadata": {
    "id": "2uxGUQOshJjN"
   },
   "source": [
    "### Números grandes y pequeños\n",
    "\n",
    "Para los números grandes y pequeños lo más adecuado es usar el método logarítmico, siendo el número representado en su notación científica.\n",
    "\n",
    "$$ A \\times 10^P =2^k   \\text{ primero calcule k como,  } \\ k=\\dfrac{\\log(A)+P}{\\log(2)} $$\n",
    "$$  \\text{ luego calcule , } n=[k] ,\\text{ significa: } A \\times 10^P = M \\times 2^n $$\n",
    "$$\\text{  Donde  } M = \\dfrac{A \\times 10^P}{2^n}$$\n",
    "\n",
    "\n",
    "\n",
    "Por ejemplo vamos a pasar a binario la masa de un electrón y la masa de la tierra."
   ]
  },
  {
   "cell_type": "code",
   "execution_count": 9,
   "metadata": {
    "id": "237gSgamhJjR"
   },
   "outputs": [
    {
     "data": {
      "image/jpeg": "[encoded data removed]",
      "text/html": [
       "\n",
       "        <iframe\n",
       "            width=\"400\"\n",
       "            height=\"300\"\n",
       "            src=\"https://www.youtube.com/embed/557cNM3Ea8g\"\n",
       "            frameborder=\"0\"\n",
       "            allowfullscreen\n",
       "            \n",
       "        ></iframe>\n",
       "        "
      ],
      "text/plain": [
       "<IPython.lib.display.YouTubeVideo at 0x7fccb85fa2e0>"
      ]
     },
     "execution_count": 9,
     "metadata": {},
     "output_type": "execute_result"
    }
   ],
   "source": [
    "from IPython.display import YouTubeVideo\n",
    "YouTubeVideo('557cNM3Ea8g')"
   ]
  },
  {
   "cell_type": "code",
   "execution_count": 10,
   "metadata": {
    "id": "j8I53qhVhJjR"
   },
   "outputs": [
    {
     "name": "stdout",
     "output_type": "stream",
     "text": [
      "La masa de un electrón es: 9.1e-31\n",
      "La mayor potencia es: -100\n",
      "El número en notación binaria es 1.153562x2^(-100)\n"
     ]
    }
   ],
   "source": [
    "N=9.1e-31\n",
    "k=math.log(N)/math.log(2)\n",
    "n=math.floor(k)\n",
    "M=N/2**n\n",
    "print(\"La masa de un electrón es:\",N)\n",
    "print(\"La mayor potencia es:\",n)\n",
    "print(\"El número en notación binaria es %fx2^(%d)\"%(M,n))"
   ]
  },
  {
   "cell_type": "code",
   "execution_count": 11,
   "metadata": {
    "id": "iiSx_DEehJjS"
   },
   "outputs": [
    {
     "name": "stdout",
     "output_type": "stream",
     "text": [
      "La masa de la Tierra es: 5.972e+24\n",
      "La mayor potencia es: 82\n",
      "El número en notación binaria es 1.234981x2^(82)\n"
     ]
    }
   ],
   "source": [
    "N=5.972e24\n",
    "k=math.log(N)/math.log(2)\n",
    "n=math.trunc(k)\n",
    "M=N/2**n\n",
    "print(\"La masa de la Tierra es:\",N)\n",
    "print(\"La mayor potencia es:\",n)\n",
    "print(\"El número en notación binaria es %fx2^(%d)\"%(M,n))"
   ]
  },
  {
   "cell_type": "markdown",
   "metadata": {
    "id": "Ko47obIrhJjS"
   },
   "source": [
    "### 1.5.4 Operaciones  aritmeticas con binarios\n",
    "\n",
    "El sistema binario o también llamada diádico, es un sistema numérico que consta de dos cifras numéricas, normalmente el cero (0) y el uno (1). Por conveniencia se utiliza en los sistemas informáticos ya que la mayoría de estados físicos clásicos están muy bien definidos en dos estados posibles como por ejemplo encendido y apagado, una perforación o no, un voltaje alto o uno bajo, un estado magnetizado o desmagnetizado.\n",
    "\n",
    "Los primeros en mencionar el sistema binario fueron los indios, lo que les permitió introducir el concepto del cero. Luego los chinos los cuales lo usaban como a manera de cábala. Pero fue el matemático  Leibniz, en el siglo XVII, en su artículo \"Explication de l'Arithmétique Binaire\" en el que  mencionan los símbolos binarios usados por matemáticos chinos. Leibniz utilizó el 0 y el 1, al igual que el sistema de numeración binario actual.\n",
    "\n",
    "### Suma y Resta de binarios\n",
    "\n",
    "La suma es una operación básica en donde se adicionan dos o más cantidades, que pueden ser de distintos conjuntos numéricos, para formar un total. Por ejemplo $5 + (-19) = -14$, donde es sistema es base 10 y es la suma de un natural y un entero negativo.\n",
    "\n",
    "En los binarios también tenemos esta operación donde:\n",
    "\n",
    "| + | 0  | 1  |  \n",
    "|:-:|:-: |:-: |\n",
    "| 0  |  0 | 1 |\n",
    "| 1  |  1 | 10|\n",
    "\n",
    "Al igual que en el sistema decimal cunado sumamos dos dígitos y debemos movernos en las potencias de 10, hacemos lo mismo en el binario sabemos que $1+1=2$ pero en el sistema binario esto se representa como $10$ por lo tanto el proceso es similar, donde ese 1 se guarda para la operación hacia la izquierda.\n",
    "\n",
    "En contraposición la resta tiene la relación:\n",
    "\n",
    "| - | 0  | 1  |  \n",
    "|:-:|:-: |:-: |\n",
    "| 0  |  0 | 1 |\n",
    "| 1  |  -1 | 0|\n",
    "\n",
    "Ese -1 muchas veces crea problemas, en el sistema decimal cuando se restaba $23 - 9$ donde 9 es mayor a 3, se decía que 2 le prestaba $1*10^1$ tal que se operaba $13 - 9 = 4$ y el $2$ se transformaba en 1. Es lo mismo en el mundo binario pero puede ser más complicado de ejecutar.\n",
    "Una manera de lidiar con los dígitos que se \"prestan\" cuando la resta es positiva, dado que hacer el proceso de \"prestar\" cuando se resta un número \"mayor\" de uno \"menor\" es un poco confuso, se utiliza el concepto de complemento a dos, que básicamente es negar cada dígito del sustraendo  (C1) y luego sumar 1, para luego sumar el C2 al minuendo. Teniendo en cuenta que se quita al final el bit mas significativo.\n",
    "\n",
    "Ejemplo: calcular el complemento a 2 (C2) de 11000\n",
    "\n",
    "Solución:\n",
    "\n",
    "|Número|1|1|0|0|0|\n",
    "|:-:   |:-:|:-:|:-:|:-:|:-:|\n",
    "|C1    |0|0|1|1|1|\n",
    "|suma 1|0|0|0|0|1|  \n",
    "|C2    |0|1|0|0|0|  \n",
    "\n",
    "\n",
    "Ejemplo: restar 11001 de 10000000\n",
    "Solución: Lo primero es calcular el C2 de 11001 usando el mismo número de dígitos que el minuendo, así C2:  11100111, ahora sumarlo al minuendo\n",
    "\n",
    "| se lleva |1  |   |   |   |   |   |   |   |   |\n",
    "|:-:       |:-:|:-:|:-:|:-:|:-:|:-:|:-:|:-:|:-:|\n",
    "| Minuendo |   | 1 | 0 | 0 | 0 | 0 | 0 | 0 | 0 |\n",
    "|    C2    |   | 1 | 1 | 1 | 0 | 0 | 1 | 1 | 1 |\n",
    "| Resultado|   | 0 | 1 | 1 | 0 | 0 | 1 | 1 | 1 |\n",
    "\n",
    "\n",
    "\n",
    "### Multiplicación de binarios\n",
    "\n",
    "La multiplicación en binario es más fácil que en cualquier otro sistema de numeración. Como los factores de la multiplicación sólo pueden ser CEROS o UNOS, el producto sólo puede ser CERO o UNO. En otras palabras, las tablas de multiplicar del cero y del uno son muy fáciles de aprender:\n",
    "\n",
    "| * | 0  | 1  |  \n",
    "|:-:|:-: |:-: |\n",
    "| 0  |  0 | 0 |\n",
    "| 1  |  0 | 1|\n",
    "\n",
    "### División entera de binarios\n",
    "\n",
    "La división se realiza de la misma manera, pero se puede ayudar del complemento a 2 para realizar las restas. Estas se hacen sucesivamente hasta que ya no se pueda restar más el divisor. Por ejemplo dividir 11011 entre 101:\n"
   ]
  },
  {
   "cell_type": "code",
   "execution_count": 12,
   "metadata": {
    "id": "Uro8LN1JhJjT"
   },
   "outputs": [
    {
     "data": {
      "image/jpeg": "[encoded data removed]",
      "text/html": [
       "\n",
       "        <iframe\n",
       "            width=\"400\"\n",
       "            height=\"300\"\n",
       "            src=\"https://www.youtube.com/embed/S84ai9mPzGk\"\n",
       "            frameborder=\"0\"\n",
       "            allowfullscreen\n",
       "            \n",
       "        ></iframe>\n",
       "        "
      ],
      "text/plain": [
       "<IPython.lib.display.YouTubeVideo at 0x7fccb85fa9a0>"
      ]
     },
     "execution_count": 12,
     "metadata": {},
     "output_type": "execute_result"
    }
   ],
   "source": [
    "from IPython.display import YouTubeVideo\n",
    "YouTubeVideo('S84ai9mPzGk')"
   ]
  },
  {
   "cell_type": "markdown",
   "metadata": {
    "id": "js9PiDaCmedu"
   },
   "source": [
    "### 1.5.5. Formato IEEE 754\n",
    "\n",
    "> El estándar del IEEE para aritmética en coma flotante (IEEE 754) es la norma o estándar técnico para computación en coma flotante, establecida en 1985 por el Instituto de Ingenieros Eléctricos y Electrónicos (IEEE). La norma abordó muchos problemas encontrados en las diversas implementaciones de coma flotante que las hacían difíciles de usar de forma fiable y portátil. Muchas unidades de coma flotante de hardware utilizan ahora el estándar IEEE 754. [Ver más](https://es.wikipedia.org/wiki/IEEE_coma_flotante)\n",
    "\n",
    "Si bien el formato IEEE 754 incluye varias normas para la asignación de números, números especiales, limites y demás. Es tan sólo un paso más para tener una representación adecuada según el bus de datos que se conecta al procesador y mueve las entradas y salidas. Básicamente la idea es representar por un número fijo de bits el signo, el exponente (en notación científica binaria, generalmente con un sesgo) y la mantisa (los decimales después de la coma). [Ver tabla](https://es.wikipedia.org/wiki/IEEE_coma_flotante)\n",
    "\n",
    "<table class=\"wikitable\">\n",
    "<tbody><tr>\n",
    "<th>Nombre\n",
    "</th>\n",
    "<th>Nombre común\n",
    "</th>\n",
    "<th>Base\n",
    "</th>\n",
    "<th>Dígitos (1 signo)\n",
    "</th>\n",
    "<th>Dígitos\n",
    "<p>decimales\n",
    "</p>\n",
    "</th>\n",
    "<th>Bits del Exponente\n",
    "</th>\n",
    "<th>E<sub>max</sub>\n",
    "<p>Decimal\n",
    "</p>\n",
    "</th>\n",
    "<th>Sesgo del\n",
    "<p>Exponente\n",
    "</p>\n",
    "</th>\n",
    "<th>E<sub>min</sub>\n",
    "</th>\n",
    "<th>E<sub>max</sub>\n",
    "</th>\n",
    "<th>Notas\n",
    "</th></tr>\n",
    "<tr>\n",
    "<td>binary16\n",
    "</td>\n",
    "<td>Media precisión\n",
    "</td>\n",
    "<td align=\"right\">2\n",
    "</td>\n",
    "<td align=\"right\">11\n",
    "</td>\n",
    "<td align=\"right\">~3\n",
    "</td>\n",
    "<td align=\"right\">5\n",
    "</td>\n",
    "<td align=\"right\">4,51\n",
    "</td>\n",
    "<td>2<sup>4</sup>−1 = 15\n",
    "</td>\n",
    "<td align=\"right\">−14\n",
    "</td>\n",
    "<td align=\"right\">+15\n",
    "</td>\n",
    "<td>No básico\n",
    "</td></tr>\n",
    "<tr>\n",
    "<td>binary32\n",
    "</td>\n",
    "<td>Simple precisión\n",
    "</td>\n",
    "<td align=\"right\">2\n",
    "</td>\n",
    "<td align=\"right\">24\n",
    "</td>\n",
    "<td align=\"right\">~7\n",
    "</td>\n",
    "<td align=\"right\">8\n",
    "</td>\n",
    "<td align=\"right\">38,23\n",
    "</td>\n",
    "<td>2<sup>7</sup>−1 = 127\n",
    "</td>\n",
    "<td align=\"right\">−126\n",
    "</td>\n",
    "<td align=\"right\">+127\n",
    "</td>\n",
    "<td>\n",
    "</td></tr>\n",
    "<tr>\n",
    "<td> binary64\n",
    "</td>\n",
    "<td>Doble precisión\n",
    "</td>\n",
    "<td align=\"right\">2\n",
    "</td>\n",
    "<td align=\"right\">53\n",
    "</td>\n",
    "<td align=\"right\">~16\n",
    "</td>\n",
    "<td align=\"right\">11\n",
    "</td>\n",
    "<td align=\"right\">307,95\n",
    "</td>\n",
    "<td>2<sup>10</sup>−1 = 1023\n",
    "</td>\n",
    "<td align=\"right\">−1022\n",
    "</td>\n",
    "<td align=\"right\">+1023\n",
    "</td>\n",
    "<td>\n",
    "</td></tr>\n",
    "<tr>\n",
    "<td>binary128\n",
    "</td>\n",
    "<td>Cuádruple precisión\n",
    "</td>\n",
    "<td align=\"right\">2\n",
    "</td>\n",
    "<td align=\"right\">113\n",
    "</td>\n",
    "<td align=\"right\">34,02\n",
    "</td>\n",
    "<td align=\"right\">15\n",
    "</td>\n",
    "<td align=\"right\">4931,77\n",
    "</td>\n",
    "<td>2<sup>14</sup>−1 = 16383\n",
    "</td>\n",
    "<td align=\"right\">−16382\n",
    "</td>\n",
    "<td align=\"right\">+16383\n",
    "</td>\n",
    "<td>\n",
    "</td></tr>\n",
    "<tr>\n",
    "<td>binary256\n",
    "</td>\n",
    "<td>Óctuple precisión\n",
    "</td>\n",
    "<td align=\"right\">2\n",
    "</td>\n",
    "<td align=\"right\">237\n",
    "</td>\n",
    "<td align=\"right\">71,34\n",
    "</td>\n",
    "<td align=\"right\">19\n",
    "</td>\n",
    "<td align=\"right\">78913,20\n",
    "</td>\n",
    "<td>2<sup>18</sup>−1 = 262143\n",
    "</td>\n",
    "<td align=\"right\">−262142\n",
    "</td>\n",
    "<td align=\"right\">+262143\n",
    "</td>\n",
    "<td>No básico\n",
    "</td></tr>\n",
    "<tr>\n",
    "<td>\n",
    "</td></tr></tbody></table>\n"
   ]
  },
  {
   "cell_type": "markdown",
   "metadata": {
    "id": "qj64hUzUtJbL"
   },
   "source": [
    "Para mayor referencia puede ver ejemplos aqui: [Conversion de decimal a binary32 en Wikipedia](https://https://es.wikipedia.org/wiki/Formato_en_coma_flotante_de_simple_precisi%C3%B3n#Ejemplos_de_conversi%C3%B3n_de_n%C3%BAmeros_decimales_a_formato_binary32)"
   ]
  }
 ],
 "metadata": {
  "colab": {
   "provenance": []
  },
  "kernelspec": {
   "display_name": "Python 3",
   "name": "python3"
  },
  "language_info": {
   "codemirror_mode": {
    "name": "ipython",
    "version": 3
   },
   "file_extension": ".py",
   "mimetype": "text/x-python",
   "name": "python",
   "nbconvert_exporter": "python",
   "pygments_lexer": "ipython3",
   "version": "3.9.12"
  }
 },
 "nbformat": 4,
 "nbformat_minor": 0
}
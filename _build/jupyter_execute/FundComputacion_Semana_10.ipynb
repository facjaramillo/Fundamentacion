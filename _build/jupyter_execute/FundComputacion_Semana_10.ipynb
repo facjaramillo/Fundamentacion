{
 "cells": [
  {
   "cell_type": "markdown",
   "metadata": {
    "id": "n_x1aqGyE3NV"
   },
   "source": [
    "# Semana 10: Arreglos de NumPy"
   ]
  },
  {
   "cell_type": "markdown",
   "metadata": {
    "id": "o7QKtpNSJYp5"
   },
   "source": [
    "\n",
    "Numpy (Numerical Python)\n",
    "\n",
    "\n",
    "\n",
    "Numpy es la librería fundamental para la computación científica de alto rendimiento y el análisis de datos. Es una libreria que proporciona herramientas para la generación de arreglos y una variedad de funcionalidades para realizar operaciones sobre estos. Numpy se utiliza como bloque básico para una gran cantidad de librerías científicas y de análisis de datos. Dentro de sus utilidades y ventajas, sobresale porque:\n",
    "\n",
    "* Contiene Funciones, módulos, clases que permiten el manejo de arreglos multidimensionales.\n",
    "* Contiene Funciones sofisticadas y optimizadas de math: trigonometicas, random o aleatorias.\n",
    "* Permite incorporar códigos en C/C++ o Fortran.\n",
    "* Por compatibilidad: contiene un paquete de álgebra lineal y permite hacer algo de cálculos estadísticos, ajustes de curvas e interpolación entre otros.\n",
    "\n",
    "![](https://media.springernature.com/full/springer-static/image/art%3A10.1038%2Fs41586-020-2649-2/MediaObjects/41586_2020_2649_Fig2_HTML.png?as=webp)\n",
    "\n",
    "\n"
   ]
  },
  {
   "cell_type": "markdown",
   "metadata": {
    "id": "-wxz0BK9J3Bk"
   },
   "source": [
    "## 10.1. Definición\n",
    "\n",
    "En el núcleo de Numpy, está el objeto `ndarray` (n-dimensional array). Este encapsula **arreglos n-dimensionales** de tipos de datos homogéneos, con muchas **operaciones que se realizan en código compilado**, con lo cual se mejora el rendimiento significativamente.\n",
    "\n",
    "Por convención, la librería Numpy se import con el alias `np`:\n",
    "\n",
    "\n",
    "\n",
    "\n",
    "\n"
   ]
  },
  {
   "cell_type": "code",
   "execution_count": 1,
   "metadata": {
    "id": "stPR-gJaKIcL"
   },
   "outputs": [],
   "source": [
    "#Es necesario ejecutar esta celda para llamar a numpy y sus funciones\n",
    "import numpy as np"
   ]
  },
  {
   "cell_type": "markdown",
   "metadata": {
    "id": "A6O6h8edKJ73"
   },
   "source": [
    "Podemos construir un arreglo, por ejemplo, a partir de una lista de Python, mediante el constructor `np.array()`:\n"
   ]
  },
  {
   "cell_type": "code",
   "execution_count": 2,
   "metadata": {
    "colab": {
     "base_uri": "https://localhost:8080/"
    },
    "id": "rUj1o0WuKLWf",
    "outputId": "da878599-a084-43f6-a607-f81010982c4b"
   },
   "outputs": [
    {
     "data": {
      "text/plain": [
       "array([1, 2, 3, 4])"
      ]
     },
     "execution_count": 2,
     "metadata": {},
     "output_type": "execute_result"
    }
   ],
   "source": [
    "# arreglo unidimensional a partir de una lista preexistente\n",
    "lista = [1, 2, 3, 4]\n",
    "\n",
    "arreglo = np.array(lista)\n",
    "arreglo"
   ]
  },
  {
   "cell_type": "code",
   "execution_count": 3,
   "metadata": {
    "colab": {
     "base_uri": "https://localhost:8080/"
    },
    "id": "7Qw7WmP1LIGX",
    "outputId": "444b6d95-16ae-4f39-9087-f7baffa221a6"
   },
   "outputs": [
    {
     "name": "stdout",
     "output_type": "stream",
     "text": [
      "<class 'numpy.ndarray'> <class 'list'>\n"
     ]
    }
   ],
   "source": [
    "# Verificamos el tipo de las estructuras\n",
    "print(type(arreglo), type(lista))"
   ]
  },
  {
   "cell_type": "code",
   "execution_count": 4,
   "metadata": {
    "colab": {
     "base_uri": "https://localhost:8080/"
    },
    "id": "Gp6sRl2k1qhl",
    "outputId": "8efcca9b-f6c2-4ca0-e723-3f023116e4fe"
   },
   "outputs": [
    {
     "data": {
      "text/plain": [
       "array([[ 1,  2,  3],\n",
       "       [ 4,  5,  6],\n",
       "       [ 7,  8,  9],\n",
       "       [10, 11, 12]])"
      ]
     },
     "execution_count": 4,
     "metadata": {},
     "output_type": "execute_result"
    }
   ],
   "source": [
    "# arreglo bidimensional\n",
    "lista = [[1, 2,3],[4, 5],['a','b']]\n",
    "\n",
    "\n",
    "x = np.array([  [1,2,3],[4,5,6],[7,8,9],[10,11,12]   ])\n",
    "x\n",
    "#, [[1,2,3],[4,5,6],[7,8,9],[10,11,12]]"
   ]
  },
  {
   "cell_type": "markdown",
   "metadata": {
    "id": "EFAyS3Un06YI"
   },
   "source": [
    "La siguiente imagen ilustra los arreglos de Numpy de una, dos y tres dimensiones. Note que cada dimensión se asocia a un eje (*axis*). El arreglo unidimensional se asocia a un único eje (`axis 0`). En el arreglo bidimensional la primera dimensión (filas) se asocia al eje 0 (`axis 0`), mientras que la segunda dimensión (columnas) se asocia al eje 1 (`axis 1`).\n",
    "\n",
    "![](https://i.imgur.com/gqeCxo2.png)"
   ]
  },
  {
   "cell_type": "markdown",
   "metadata": {
    "id": "cPex7IXJKP-w"
   },
   "source": [
    "El arreglo de Numpy contiene una serie de atributos y métodos que definen su estructura. Veamos algunos de los atributos más importantes de este objeto:\n",
    "\n"
   ]
  },
  {
   "cell_type": "markdown",
   "metadata": {
    "id": "fscZEmXxV6wR"
   },
   "source": [
    "### 10.1.1. `dtype`\n",
    "\n",
    "Este determina el tipo de dato de cada elemento del arreglo. El sistema predeterminado de `dtypes` que proporciona Numpy es más preciso y más amplio para los tipos básicos que el sistema de tipos que implementa Python"
   ]
  },
  {
   "cell_type": "markdown",
   "metadata": {
    "id": "6355VBYaKUjO"
   },
   "source": [
    "![](https://i.imgur.com/2RpU9w1.png\")"
   ]
  },
  {
   "cell_type": "code",
   "execution_count": 5,
   "metadata": {
    "colab": {
     "base_uri": "https://localhost:8080/"
    },
    "id": "oj04p9PZKN9-",
    "outputId": "49f00d4f-7915-41b8-c6b7-3fdf1687eda9"
   },
   "outputs": [
    {
     "data": {
      "text/plain": [
       "dtype('int64')"
      ]
     },
     "execution_count": 5,
     "metadata": {},
     "output_type": "execute_result"
    }
   ],
   "source": [
    "# tipo de dato contenido en el arreglo\n",
    "x.dtype"
   ]
  },
  {
   "cell_type": "code",
   "execution_count": 6,
   "metadata": {
    "colab": {
     "base_uri": "https://localhost:8080/"
    },
    "id": "Y9MHl_686pM8",
    "outputId": "36fcee6b-8798-4f87-b992-d61607665a22"
   },
   "outputs": [
    {
     "data": {
      "text/plain": [
       "numpy.ndarray"
      ]
     },
     "execution_count": 6,
     "metadata": {},
     "output_type": "execute_result"
    }
   ],
   "source": [
    "# Tipo de estructura\n",
    "type(x)"
   ]
  },
  {
   "cell_type": "markdown",
   "metadata": {
    "id": "mhnvs_-nYZP2"
   },
   "source": [
    "Podemos definir el tipo de dato a la hora de la creación del arreglo utilizando el kwarg (argumento de teclado) `dtype`"
   ]
  },
  {
   "cell_type": "code",
   "execution_count": 7,
   "metadata": {
    "id": "lcrbAcNGYLmH"
   },
   "outputs": [],
   "source": [
    "x1 = np.array([1, 2, 3, 4], dtype='int16')  #Crea el arreglo pero yo le especifico\n",
    "                                           #el tipo de dato que va a almacenar."
   ]
  },
  {
   "cell_type": "code",
   "execution_count": 8,
   "metadata": {
    "colab": {
     "base_uri": "https://localhost:8080/"
    },
    "id": "cb9MZRGBMgVK",
    "outputId": "dfc01af6-371d-42f3-8b92-763cc8f2ba28"
   },
   "outputs": [
    {
     "data": {
      "text/plain": [
       "dtype('int16')"
      ]
     },
     "execution_count": 8,
     "metadata": {},
     "output_type": "execute_result"
    }
   ],
   "source": [
    "x1.dtype"
   ]
  },
  {
   "cell_type": "markdown",
   "metadata": {
    "id": "nDHFRRy2cHzv"
   },
   "source": [
    "o modificarlo posteriormente con el método `astype`"
   ]
  },
  {
   "cell_type": "code",
   "execution_count": 9,
   "metadata": {
    "id": "JUMfcXnycLna"
   },
   "outputs": [],
   "source": [
    "x1 = x1.astype(\"int32\")"
   ]
  },
  {
   "cell_type": "code",
   "execution_count": 10,
   "metadata": {
    "colab": {
     "base_uri": "https://localhost:8080/"
    },
    "id": "e_Z66tAEMqKx",
    "outputId": "35694a13-4c70-4e35-b302-5e792964276e"
   },
   "outputs": [
    {
     "data": {
      "text/plain": [
       "array([1, 2, 3, 4], dtype=int32)"
      ]
     },
     "execution_count": 10,
     "metadata": {},
     "output_type": "execute_result"
    }
   ],
   "source": [
    "x1"
   ]
  },
  {
   "cell_type": "markdown",
   "metadata": {
    "id": "Utqw-o1e5NGC"
   },
   "source": [
    "### 10.1.2. `ndim` y `size`:\n",
    "\n",
    "La dimensión y el número de elementos del arreglo se pueden obtener mediante los atributos `ndim` y `size`, respectivamente"
   ]
  },
  {
   "cell_type": "code",
   "execution_count": 11,
   "metadata": {
    "colab": {
     "base_uri": "https://localhost:8080/"
    },
    "id": "73eupSzBKcXo",
    "outputId": "f5483b0b-3113-469d-f4df-84751d33d0a9"
   },
   "outputs": [
    {
     "data": {
      "text/plain": [
       "1"
      ]
     },
     "execution_count": 11,
     "metadata": {},
     "output_type": "execute_result"
    }
   ],
   "source": [
    "# dimension del arreglo\n",
    "x1.ndim"
   ]
  },
  {
   "cell_type": "code",
   "execution_count": 12,
   "metadata": {
    "colab": {
     "base_uri": "https://localhost:8080/"
    },
    "id": "I7RohlQl78fU",
    "outputId": "bcd562fb-de48-49d5-cadc-181d5873b68a"
   },
   "outputs": [
    {
     "data": {
      "text/plain": [
       "2"
      ]
     },
     "execution_count": 12,
     "metadata": {},
     "output_type": "execute_result"
    }
   ],
   "source": [
    "x2 = np.array([[1,2,3,4],[1,2,3,4]])\n",
    "x2.ndim"
   ]
  },
  {
   "cell_type": "code",
   "execution_count": 13,
   "metadata": {
    "colab": {
     "base_uri": "https://localhost:8080/"
    },
    "id": "k8wt1nfyNCBK",
    "outputId": "67fac02d-619f-4a50-acd5-2bdddbfbc511"
   },
   "outputs": [
    {
     "data": {
      "text/plain": [
       "array([[1, 2, 3, 4],\n",
       "       [1, 2, 3, 4]])"
      ]
     },
     "execution_count": 13,
     "metadata": {},
     "output_type": "execute_result"
    }
   ],
   "source": [
    "x2"
   ]
  },
  {
   "cell_type": "code",
   "execution_count": 14,
   "metadata": {
    "colab": {
     "base_uri": "https://localhost:8080/"
    },
    "id": "vYNv-2KFKgjr",
    "outputId": "71b2afd5-8bd3-4c75-9643-badcace398af"
   },
   "outputs": [
    {
     "data": {
      "text/plain": [
       "4"
      ]
     },
     "execution_count": 14,
     "metadata": {},
     "output_type": "execute_result"
    }
   ],
   "source": [
    "# numero de elementos del arreglo\n",
    "x1.size"
   ]
  },
  {
   "cell_type": "code",
   "execution_count": 15,
   "metadata": {
    "colab": {
     "base_uri": "https://localhost:8080/"
    },
    "id": "Aiylfc9eNDYw",
    "outputId": "5d5f3f54-bf03-47bb-ff28-b38cda24a37b"
   },
   "outputs": [
    {
     "data": {
      "text/plain": [
       "8"
      ]
     },
     "execution_count": 15,
     "metadata": {},
     "output_type": "execute_result"
    }
   ],
   "source": [
    "x2.size"
   ]
  },
  {
   "cell_type": "markdown",
   "metadata": {
    "id": "ikDXPQ18KXAW"
   },
   "source": [
    "### 10.1.3. `shape`\n",
    "\n",
    "Tupla de enteros que representa el rango a lo largo de cada dimensión de los arreglos $n$-dimensionales."
   ]
  },
  {
   "cell_type": "code",
   "execution_count": 16,
   "metadata": {
    "colab": {
     "base_uri": "https://localhost:8080/"
    },
    "id": "jcdb2F1KKTJn",
    "outputId": "d2afdf04-aa3c-450d-cc09-2928c3bff7e9"
   },
   "outputs": [
    {
     "data": {
      "text/plain": [
       "(2, 4)"
      ]
     },
     "execution_count": 16,
     "metadata": {},
     "output_type": "execute_result"
    }
   ],
   "source": [
    "# forma del arreglo\n",
    "x2.shape"
   ]
  },
  {
   "cell_type": "code",
   "execution_count": 17,
   "metadata": {
    "colab": {
     "base_uri": "https://localhost:8080/"
    },
    "id": "wL-gIV7RNR18",
    "outputId": "94afaa47-99a3-425d-8405-9bc9d6049894"
   },
   "outputs": [
    {
     "data": {
      "text/plain": [
       "array([[1, 2, 3, 4],\n",
       "       [1, 2, 3, 4]])"
      ]
     },
     "execution_count": 17,
     "metadata": {},
     "output_type": "execute_result"
    }
   ],
   "source": [
    "x2"
   ]
  },
  {
   "cell_type": "markdown",
   "metadata": {
    "id": "TWCN3cPxKh9V"
   },
   "source": [
    "Podemos modificar la forma del arreglo modificando el atributo `shape` directamente"
   ]
  },
  {
   "cell_type": "code",
   "execution_count": 18,
   "metadata": {
    "colab": {
     "base_uri": "https://localhost:8080/"
    },
    "id": "5kR6vxNBKjeI",
    "outputId": "cecbddfc-01d2-466e-8e6a-f1d74533f345"
   },
   "outputs": [
    {
     "name": "stdout",
     "output_type": "stream",
     "text": [
      "8\n"
     ]
    },
    {
     "data": {
      "text/plain": [
       "array([[1, 2],\n",
       "       [3, 4],\n",
       "       [1, 2],\n",
       "       [3, 4]])"
      ]
     },
     "execution_count": 18,
     "metadata": {},
     "output_type": "execute_result"
    }
   ],
   "source": [
    "# modificar la forma del arreglo\n",
    "x1 = np.array([[1,2,3,4],[1,2,3,4]])\n",
    "print(x1.size)\n",
    "x1.shape = (4,2)\n",
    "x1"
   ]
  },
  {
   "cell_type": "markdown",
   "metadata": {
    "id": "SGzvET-hN_L6"
   },
   "source": [
    "### 10.1.4. Traspuesta"
   ]
  },
  {
   "cell_type": "code",
   "execution_count": 19,
   "metadata": {
    "colab": {
     "base_uri": "https://localhost:8080/"
    },
    "id": "GjtGsPubN4sM",
    "outputId": "f6fb3910-93eb-4d00-f453-e6f1b074c1cb"
   },
   "outputs": [
    {
     "data": {
      "text/plain": [
       "array([[1, 3, 1, 3],\n",
       "       [2, 4, 2, 4]])"
      ]
     },
     "execution_count": 19,
     "metadata": {},
     "output_type": "execute_result"
    }
   ],
   "source": [
    "x1.T"
   ]
  },
  {
   "cell_type": "markdown",
   "metadata": {
    "id": "2P89d9Cm5rwq"
   },
   "source": [
    "### 10.1.5. `reshape`"
   ]
  },
  {
   "cell_type": "markdown",
   "metadata": {
    "id": "twZZLu9SKlJc"
   },
   "source": [
    "Alternativamente, Numpy proporciona el método `reshape`, con el cual podemos cambiar la forma de un arreglo. Este toma como argumento el arreglo a modificar y un entero o tupla que represente la nueva forma. Esta nueva forma debe ser compatible con el número de elementos que tenga el arreglo."
   ]
  },
  {
   "cell_type": "code",
   "execution_count": 20,
   "metadata": {
    "colab": {
     "base_uri": "https://localhost:8080/"
    },
    "id": "fD7fEV8qjp_V",
    "outputId": "53916773-7b0d-479a-edec-2cea831b2c75"
   },
   "outputs": [
    {
     "data": {
      "text/plain": [
       "array([[1, 2, 3, 4],\n",
       "       [1, 2, 3, 4]])"
      ]
     },
     "execution_count": 20,
     "metadata": {},
     "output_type": "execute_result"
    }
   ],
   "source": [
    "# modificar la forma del arreglo\n",
    "x2 = x2.reshape(2, 4)\n",
    "x2"
   ]
  },
  {
   "cell_type": "code",
   "execution_count": 21,
   "metadata": {
    "id": "ATXFp58iOL5F"
   },
   "outputs": [
    {
     "ename": "ValueError",
     "evalue": "cannot reshape array of size 8 into shape (2,2)",
     "output_type": "error",
     "traceback": [
      "\u001b[0;31m---------------------------------------------------------------------------\u001b[0m",
      "\u001b[0;31mValueError\u001b[0m                                Traceback (most recent call last)",
      "Input \u001b[0;32mIn [21]\u001b[0m, in \u001b[0;36m<cell line: 1>\u001b[0;34m()\u001b[0m\n\u001b[0;32m----> 1\u001b[0m \u001b[43mx2\u001b[49m\u001b[38;5;241;43m.\u001b[39;49m\u001b[43mreshape\u001b[49m\u001b[43m(\u001b[49m\u001b[38;5;241;43m2\u001b[39;49m\u001b[43m,\u001b[49m\u001b[43m \u001b[49m\u001b[38;5;241;43m2\u001b[39;49m\u001b[43m)\u001b[49m\n",
      "\u001b[0;31mValueError\u001b[0m: cannot reshape array of size 8 into shape (2,2)"
     ]
    }
   ],
   "source": [
    "x2.reshape(2, 2)"
   ]
  },
  {
   "cell_type": "markdown",
   "metadata": {
    "id": "viIWWx6LKoJ3"
   },
   "source": [
    "Podemos pasar una de las dimensiones como `-1`. De esta manera, Numpy se encargará de que el rango en esa dimensión sea compatible con el arreglo original y con el rango de la dimensión que se fijó:"
   ]
  },
  {
   "cell_type": "code",
   "execution_count": null,
   "metadata": {
    "colab": {
     "base_uri": "https://localhost:8080/"
    },
    "id": "B1H-sluGKqZs",
    "outputId": "ec3285f2-404f-44b7-bb78-fde816a78641"
   },
   "outputs": [
    {
     "data": {
      "text/plain": [
       "array([[1, 2, 3, 4, 1, 2, 3, 4]])"
      ]
     },
     "execution_count": 33,
     "metadata": {},
     "output_type": "execute_result"
    }
   ],
   "source": [
    "# modificar la forma del arreglo fijando el numero de filas\n",
    "x2.reshape(-1,8)"
   ]
  },
  {
   "cell_type": "code",
   "execution_count": null,
   "metadata": {
    "id": "Rii32_mZKsg-"
   },
   "outputs": [],
   "source": [
    "# modificar la forma del arreglo fijando el numero de columnas"
   ]
  },
  {
   "cell_type": "code",
   "execution_count": null,
   "metadata": {
    "colab": {
     "base_uri": "https://localhost:8080/"
    },
    "id": "S5OQ3HObOz_Z",
    "outputId": "28c6bdd3-5298-46c2-9cf7-a67197e94e08"
   },
   "outputs": [
    {
     "data": {
      "text/plain": [
       "array([[1, 2],\n",
       "       [3, 4],\n",
       "       [1, 2],\n",
       "       [3, 4]])"
      ]
     },
     "execution_count": 35,
     "metadata": {},
     "output_type": "execute_result"
    }
   ],
   "source": [
    "x2.reshape(-1, 2)"
   ]
  },
  {
   "cell_type": "markdown",
   "metadata": {
    "id": "AQbDItkGKv2u"
   },
   "source": [
    "## 10.2. Formas alternativas de construir arreglos\n",
    "\n",
    "Numpy proporciona formas alternativas de crear arreglos"
   ]
  },
  {
   "cell_type": "markdown",
   "metadata": {
    "id": "tFo35ROIKywU"
   },
   "source": [
    "### 10.2.1. `np.arange`\n",
    "\n",
    "`np.arange()` toma un inicio, final y un paso como la función `range()` de Python, excepto que devuelve un `ndarray` y que el paso puede ser un número real. Su sintáxis es de la forma:\n",
    "\n",
    "```\n",
    "np.arange(inicio, final, paso)\n",
    "```\n",
    "\n"
   ]
  },
  {
   "cell_type": "code",
   "execution_count": null,
   "metadata": {
    "colab": {
     "base_uri": "https://localhost:8080/"
    },
    "id": "5mMDomAkPPf_",
    "outputId": "28b78448-bb9b-412a-8cfc-a4ab23bc7d04"
   },
   "outputs": [
    {
     "data": {
      "text/plain": [
       "[1, 3, 5, 7, 9]"
      ]
     },
     "execution_count": 37,
     "metadata": {},
     "output_type": "execute_result"
    }
   ],
   "source": [
    "list(range(1, 10, 2))"
   ]
  },
  {
   "cell_type": "code",
   "execution_count": null,
   "metadata": {
    "colab": {
     "base_uri": "https://localhost:8080/"
    },
    "id": "HvcMl4-DKtxY",
    "outputId": "8b636ac5-acca-4939-e4ad-cd5e63c50fea"
   },
   "outputs": [
    {
     "data": {
      "text/plain": [
       "array([1, 3, 5, 7, 9])"
      ]
     },
     "execution_count": 19,
     "metadata": {},
     "output_type": "execute_result"
    }
   ],
   "source": [
    "# arreglo de 1 a 9 con paso 2\n",
    "x = np.arange(1,10, 2)\n",
    "x"
   ]
  },
  {
   "cell_type": "code",
   "execution_count": null,
   "metadata": {
    "colab": {
     "base_uri": "https://localhost:8080/"
    },
    "id": "4aYB8HwTZRFm",
    "outputId": "0763f09f-65a3-4b41-e820-8aebb5c55353"
   },
   "outputs": [
    {
     "data": {
      "text/plain": [
       "array([1. , 1.5, 2. , 2.5, 3. , 3.5, 4. , 4.5, 5. , 5.5, 6. , 6.5, 7. ,\n",
       "       7.5, 8. , 8.5, 9. , 9.5])"
      ]
     },
     "execution_count": 22,
     "metadata": {},
     "output_type": "execute_result"
    }
   ],
   "source": [
    "# arreglo de 1 a 9 con paso 1.5\n",
    "np.arange(1, 10, 0.5)"
   ]
  },
  {
   "cell_type": "markdown",
   "metadata": {
    "id": "Q9catUZpK2OM"
   },
   "source": [
    "### 10.2.2. `np.linspace`\n",
    "\n",
    "`np.linspace()` crea una serie de puntos uniformemente entre un límite inferior y superior que **incluye ambos extremos**. Su sintáxis es de la forma:\n",
    "\n",
    "```\n",
    "np.linspace(inicio, final, numero de puntos)\n",
    "```"
   ]
  },
  {
   "cell_type": "code",
   "execution_count": null,
   "metadata": {
    "colab": {
     "base_uri": "https://localhost:8080/"
    },
    "id": "RcVBBuzrK03C",
    "outputId": "88230dde-8bd0-4048-97c9-98907c9a3a1d"
   },
   "outputs": [
    {
     "data": {
      "text/plain": [
       "array([ 5., 10., 15., 20., 25., 30., 35., 40., 45., 50.])"
      ]
     },
     "execution_count": 25,
     "metadata": {},
     "output_type": "execute_result"
    }
   ],
   "source": [
    "# arreglo de -1 a 1 con 10 puntos\n",
    "x = np.linspace(-1, 1, 10)\n",
    "x"
   ]
  },
  {
   "cell_type": "markdown",
   "metadata": {
    "id": "oaukJL4qQqK2"
   },
   "source": [
    "Por defecto se utilizan 50 puntos:"
   ]
  },
  {
   "cell_type": "code",
   "execution_count": null,
   "metadata": {
    "colab": {
     "base_uri": "https://localhost:8080/"
    },
    "id": "CGG8_9utQIDn",
    "outputId": "3c62e9cb-f263-44de-c8ab-8ed79493caad"
   },
   "outputs": [
    {
     "data": {
      "text/plain": [
       "array([-1.        , -0.95918367, -0.91836735, -0.87755102, -0.83673469,\n",
       "       -0.79591837, -0.75510204, -0.71428571, -0.67346939, -0.63265306,\n",
       "       -0.59183673, -0.55102041, -0.51020408, -0.46938776, -0.42857143,\n",
       "       -0.3877551 , -0.34693878, -0.30612245, -0.26530612, -0.2244898 ,\n",
       "       -0.18367347, -0.14285714, -0.10204082, -0.06122449, -0.02040816,\n",
       "        0.02040816,  0.06122449,  0.10204082,  0.14285714,  0.18367347,\n",
       "        0.2244898 ,  0.26530612,  0.30612245,  0.34693878,  0.3877551 ,\n",
       "        0.42857143,  0.46938776,  0.51020408,  0.55102041,  0.59183673,\n",
       "        0.63265306,  0.67346939,  0.71428571,  0.75510204,  0.79591837,\n",
       "        0.83673469,  0.87755102,  0.91836735,  0.95918367,  1.        ])"
      ]
     },
     "execution_count": 20,
     "metadata": {},
     "output_type": "execute_result"
    }
   ],
   "source": [
    "np.linspace(-1, 1)"
   ]
  },
  {
   "cell_type": "markdown",
   "metadata": {
    "id": "9ZNqqCx9K5lH"
   },
   "source": [
    "### 10.2.3. `np.zeros` y `np.ones`\n",
    "\n",
    "Las funciones `np.zeros()` y `np.ones()` toman un entero o una tupla de enteros como argumento y devuelven un `ndarray` cuya forma coincide con la de la tupla y cuyos elementos son cero o uno:"
   ]
  },
  {
   "cell_type": "code",
   "execution_count": null,
   "metadata": {
    "colab": {
     "base_uri": "https://localhost:8080/"
    },
    "id": "rtX6sTrvK4NK",
    "outputId": "a0a40892-1614-4706-9d69-85052195d995"
   },
   "outputs": [
    {
     "data": {
      "text/plain": [
       "array([[0., 0.],\n",
       "       [0., 0.]])"
      ]
     },
     "execution_count": 27,
     "metadata": {},
     "output_type": "execute_result"
    }
   ],
   "source": [
    "# arreglo de forma (2, 2) llenado con ceros\n",
    "np.zeros((2,2))"
   ]
  },
  {
   "cell_type": "code",
   "execution_count": null,
   "metadata": {
    "colab": {
     "base_uri": "https://localhost:8080/"
    },
    "id": "rwvmiQ41K74q",
    "outputId": "51940f6b-23a7-4ec2-f221-5ab51c7c84af"
   },
   "outputs": [
    {
     "data": {
      "text/plain": [
       "array([1., 1., 1., 1., 1.])"
      ]
     },
     "execution_count": 28,
     "metadata": {},
     "output_type": "execute_result"
    }
   ],
   "source": [
    "# arreglo de forma (5,) llenado con unos\n",
    "np.ones((5,))"
   ]
  },
  {
   "cell_type": "markdown",
   "metadata": {
    "id": "4vtA_-cnK-Ob"
   },
   "source": [
    "### 10.2.4. `np.full`\n",
    "\n",
    "`np.full()` funciona de manera similar a `zeros()` y `ones()`, solo que podemos llenar el arreglo con cualquier valor:"
   ]
  },
  {
   "cell_type": "code",
   "execution_count": null,
   "metadata": {
    "colab": {
     "base_uri": "https://localhost:8080/"
    },
    "id": "cmIBmfozK_xY",
    "outputId": "4315b0df-2452-41a6-cad8-e8d8e9a1d63c"
   },
   "outputs": [
    {
     "data": {
      "text/plain": [
       "array([[3.14159265, 3.14159265],\n",
       "       [3.14159265, 3.14159265]])"
      ]
     },
     "execution_count": 30,
     "metadata": {},
     "output_type": "execute_result"
    }
   ],
   "source": [
    "# arreglo de forma (2, 2) llenado con pi\n",
    "np.full(shape=(2, 2),fill_value=np.pi)"
   ]
  },
  {
   "cell_type": "markdown",
   "metadata": {
    "id": "_72gYVahla-p"
   },
   "source": [
    "### 10.2.5. Arreglos aleatorios\n",
    "\n",
    "\n",
    "En muchas ocaciones vamos a necesitar construir arreglos cuyos elementos se generen de forma aleatoria. En estos casos podemos utilizar el submódulo `random` de la librería.\n",
    "\n",
    "La función `np.random.rand()` genera un arreglo cuyos elementos se muestrean de una distribución uniforme en el intervalo (0, 1).\n",
    "\n",
    "```\n",
    "np.random.rand(shape)\n",
    "```\n"
   ]
  },
  {
   "cell_type": "code",
   "execution_count": null,
   "metadata": {
    "colab": {
     "base_uri": "https://localhost:8080/"
    },
    "id": "niypx27qmD8I",
    "outputId": "ff122dd4-569a-4a0c-d2f7-b1e5f20c993d"
   },
   "outputs": [
    {
     "data": {
      "text/plain": [
       "array([[0.89141192, 0.02420299, 0.50321879],\n",
       "       [0.40018415, 0.68042353, 0.56103391],\n",
       "       [0.66104633, 0.02304592, 0.89206359]])"
      ]
     },
     "execution_count": 30,
     "metadata": {},
     "output_type": "execute_result"
    }
   ],
   "source": [
    "# arreglo \"aleatorio\" de forma (3, 3) con numeros de punto flotante en el intervalo (0, 1)\n",
    "np.random.rand(3, 3)"
   ]
  },
  {
   "cell_type": "code",
   "execution_count": null,
   "metadata": {
    "colab": {
     "base_uri": "https://localhost:8080/"
    },
    "id": "aZS9_RwW8OOi",
    "outputId": "79531e5f-2182-4432-df56-f48f957254a3"
   },
   "outputs": [
    {
     "data": {
      "text/plain": [
       "array([[0.28467079, 0.90458932, 0.16517301, 0.20994743, 0.23846211],\n",
       "       [0.97429477, 0.12278936, 0.33781405, 0.98439667, 0.1499058 ],\n",
       "       [0.873485  , 0.6591112 , 0.10817036, 0.57867571, 0.30477634]])"
      ]
     },
     "execution_count": 31,
     "metadata": {},
     "output_type": "execute_result"
    }
   ],
   "source": [
    "np.random.rand(3, 5)"
   ]
  },
  {
   "cell_type": "markdown",
   "metadata": {
    "id": "PnMwX_ZqnBkN"
   },
   "source": [
    "La función `np.random.randint()` genera un arreglo aleatorio de números enteros en un rango especifico con una forma dada:\n",
    "```\n",
    "np.random.randint(limite_inferior, limite_superior, shape)\n",
    "```"
   ]
  },
  {
   "cell_type": "code",
   "execution_count": null,
   "metadata": {
    "colab": {
     "base_uri": "https://localhost:8080/"
    },
    "id": "dupJ1mIymcaZ",
    "outputId": "a81cda6a-956a-435b-b28f-2b4684899cbb"
   },
   "outputs": [
    {
     "data": {
      "text/plain": [
       "array([[18, 19],\n",
       "       [11, 17]])"
      ]
     },
     "execution_count": 32,
     "metadata": {},
     "output_type": "execute_result"
    }
   ],
   "source": [
    "# arreglo aleatorio de forma (2, 2) con numeros enteros en el intervalo (10, 20)\n",
    "np.random.randint(10, 20, (2, 2))"
   ]
  },
  {
   "cell_type": "code",
   "execution_count": null,
   "metadata": {
    "colab": {
     "base_uri": "https://localhost:8080/"
    },
    "id": "YyHofTqTSlL2",
    "outputId": "b45aa530-5bde-47c5-cd26-39230869d5fe"
   },
   "outputs": [
    {
     "data": {
      "text/plain": [
       "array([[13, 19],\n",
       "       [14, 16]])"
      ]
     },
     "execution_count": 33,
     "metadata": {},
     "output_type": "execute_result"
    }
   ],
   "source": [
    "# definicion de la semilla para la generacion\n",
    "# de los numeros pseudoaleatorios\n",
    "np.random.seed(20)\n",
    "\n",
    "\n",
    "np.random.randint(10, 20, (2, 2))"
   ]
  },
  {
   "cell_type": "markdown",
   "metadata": {
    "id": "5fyKapSIhhhs"
   },
   "source": [
    "**Ejercicio 1:** Crear un arreglo 3x3 con valores comprendidos entre 2 y 10 (secuencialmente)\n"
   ]
  },
  {
   "cell_type": "code",
   "execution_count": null,
   "metadata": {
    "colab": {
     "base_uri": "https://localhost:8080/"
    },
    "id": "vVoeCK0ahgn5",
    "outputId": "520245d7-f0a5-4a90-d3de-97ef3bd26d77"
   },
   "outputs": [
    {
     "data": {
      "text/plain": [
       "array([[5, 5, 9],\n",
       "       [8, 7, 7],\n",
       "       [8, 7, 4]])"
      ]
     },
     "execution_count": 115,
     "metadata": {},
     "output_type": "execute_result"
    }
   ],
   "source": [
    "np.random.randint(2, 10, (3,3))"
   ]
  },
  {
   "cell_type": "code",
   "execution_count": null,
   "metadata": {
    "colab": {
     "base_uri": "https://localhost:8080/"
    },
    "id": "Ou9jCS2rUBj-",
    "outputId": "a1705bed-4e56-4e04-8be4-7697f86881df"
   },
   "outputs": [
    {
     "data": {
      "text/plain": [
       "array([[ 2,  3,  4],\n",
       "       [ 5,  6,  7],\n",
       "       [ 8,  9, 10]])"
      ]
     },
     "execution_count": 118,
     "metadata": {},
     "output_type": "execute_result"
    }
   ],
   "source": [
    "np.arange(2, 11).reshape(3, 3)"
   ]
  },
  {
   "cell_type": "markdown",
   "metadata": {
    "id": "B1SP2vQXmYol"
   },
   "source": [
    "**Ejercicio 2:** Crear un arreglo aleatorio de 3x3 y luego conviertalo a un arreglo unidimensional (utilice los métodos `reshape()` o `flatten()`)\n"
   ]
  },
  {
   "cell_type": "code",
   "execution_count": null,
   "metadata": {
    "colab": {
     "base_uri": "https://localhost:8080/"
    },
    "id": "7oqSNsuKUvsq",
    "outputId": "5a9aeaf0-d3ed-4118-f8ae-7b24e2145d8f"
   },
   "outputs": [
    {
     "data": {
      "text/plain": [
       "array([[3, 9, 5],\n",
       "       [3, 7, 7],\n",
       "       [7, 3, 5]])"
      ]
     },
     "execution_count": 123,
     "metadata": {},
     "output_type": "execute_result"
    }
   ],
   "source": [
    "x = np.random.randint(2, 10, (3, 3))\n",
    "x"
   ]
  },
  {
   "cell_type": "code",
   "execution_count": null,
   "metadata": {
    "colab": {
     "base_uri": "https://localhost:8080/"
    },
    "id": "foyKO0yWUTxk",
    "outputId": "aa738068-06ab-46b1-e697-8abf294f1066"
   },
   "outputs": [
    {
     "data": {
      "text/plain": [
       "array([3, 9, 5, 3, 7, 7, 7, 3, 5])"
      ]
     },
     "execution_count": 124,
     "metadata": {},
     "output_type": "execute_result"
    }
   ],
   "source": [
    "x.reshape(x.size,)"
   ]
  },
  {
   "cell_type": "code",
   "execution_count": null,
   "metadata": {
    "colab": {
     "base_uri": "https://localhost:8080/"
    },
    "id": "7xNosqkDmZVV",
    "outputId": "0cc6b53f-9232-410b-9c10-32f72388fd8d"
   },
   "outputs": [
    {
     "data": {
      "text/plain": [
       "array([3, 9, 5, 3, 7, 7, 7, 3, 5])"
      ]
     },
     "execution_count": 125,
     "metadata": {},
     "output_type": "execute_result"
    }
   ],
   "source": [
    "# con reshape\n",
    "x.reshape(-1)"
   ]
  },
  {
   "cell_type": "code",
   "execution_count": null,
   "metadata": {
    "colab": {
     "base_uri": "https://localhost:8080/"
    },
    "id": "2WgQW8GkmeG1",
    "outputId": "7cb67e8f-7dcd-4ac8-a1fc-81255b7daf2f"
   },
   "outputs": [
    {
     "data": {
      "text/plain": [
       "array([3, 9, 5, 3, 7, 7, 7, 3, 5])"
      ]
     },
     "execution_count": 126,
     "metadata": {},
     "output_type": "execute_result"
    }
   ],
   "source": [
    "# con flatten\n",
    "x.flatten()"
   ]
  },
  {
   "cell_type": "markdown",
   "metadata": {
    "id": "rlo-LZvDQbwY"
   },
   "source": [
    "## 10.3. Funciones universales\n",
    "\n",
    "De los ejemplos anteriores vemos que cuando los arreglos son de Numpy, se está realizando lo que se conoce como una operación **vectorizada**, la cual es una operación sobre los arreglos que se realiza **elemento a elemento**, mediante lo que conocemos como funciones universales (ufuncs) de Numpy. La siguiente tabla nos muestra algunas de las funciones universales disponibles en Numpy (ver [documentación](https://Numpy.org/doc/stable/reference/ufuncs.html#ufunc))\n"
   ]
  },
  {
   "cell_type": "markdown",
   "metadata": {
    "id": "qSVreIOwQg5s"
   },
   "source": [
    "![picture](https://i.imgur.com/8HaZzxg.png)"
   ]
  },
  {
   "cell_type": "code",
   "execution_count": null,
   "metadata": {
    "colab": {
     "base_uri": "https://localhost:8080/"
    },
    "id": "jMgTWOQJRD8g",
    "outputId": "c4930f66-9467-4f9e-8085-5795aaa1011b"
   },
   "outputs": [
    {
     "data": {
      "text/plain": [
       "array([[  0.        ,  12.07016187,  79.43235917, 239.14600544,\n",
       "        522.73529967]])"
      ]
     },
     "execution_count": 45,
     "metadata": {},
     "output_type": "execute_result"
    }
   ],
   "source": [
    "x = np.linspace(0,10,5)\n",
    "y = np.full(shape=(1,5), fill_value = np.e)\n",
    "z = x+y\n",
    "z = np.power(x,y)\n",
    "z"
   ]
  },
  {
   "cell_type": "markdown",
   "metadata": {
    "id": "7rb1IEniRBGC"
   },
   "source": [
    "También podemos utilizar ufuncs como las funciones trigonométricas, exponencial y logaritmo"
   ]
  },
  {
   "cell_type": "code",
   "execution_count": null,
   "metadata": {
    "colab": {
     "base_uri": "https://localhost:8080/"
    },
    "id": "-CrG7YgbRJWd",
    "outputId": "003fe3d7-f0c8-4567-932c-4beb86ec988d"
   },
   "outputs": [
    {
     "data": {
      "text/plain": [
       "array([-0.95892427, -0.54402111,  0.65028784,  0.91294525, -0.13235175,\n",
       "       -0.98803162, -0.42818267,  0.74511316,  0.85090352, -0.26237485])"
      ]
     },
     "execution_count": 34,
     "metadata": {},
     "output_type": "execute_result"
    }
   ],
   "source": [
    "np.sin(x)"
   ]
  },
  {
   "cell_type": "code",
   "execution_count": null,
   "metadata": {
    "colab": {
     "base_uri": "https://localhost:8080/"
    },
    "id": "4iDl4dG0mmpo",
    "outputId": "a0246605-35b8-4aae-a1e2-55453a475f19"
   },
   "outputs": [
    {
     "data": {
      "text/plain": [
       "array([ 0.28366219, -0.83907153, -0.75968791,  0.40808206,  0.99120281,\n",
       "        0.15425145, -0.90369221, -0.66693806,  0.52532199,  0.96496603])"
      ]
     },
     "execution_count": 37,
     "metadata": {},
     "output_type": "execute_result"
    }
   ],
   "source": [
    "coseno = np.cos(x)\n",
    "coseno"
   ]
  },
  {
   "cell_type": "code",
   "execution_count": null,
   "metadata": {
    "id": "xUS6SsXsmsS-"
   },
   "outputs": [],
   "source": [
    "np.tan(x)\n",
    "np.tanh()\n",
    "np.sec()\n",
    "np.csc()"
   ]
  },
  {
   "cell_type": "markdown",
   "metadata": {
    "id": "lWIrrvw5o-uA"
   },
   "source": [
    "## 10.4. Indexación\n",
    "\n",
    "Los arreglos de Numpy tienen el mismo esquema de indexación de las listas de Python. La diferencia es que, al ser objetos n-dimensionales, podemos indexar cada dimensión de forma independiente. Podemos pasar una tupla donde el primer elemento corresponde a la indexación que queremos implementar sobre las filas, mientras que el segundo corresponde a la selección de las columnas:"
   ]
  },
  {
   "cell_type": "markdown",
   "metadata": {
    "id": "7QFl4giYl5T8"
   },
   "source": [
    "**Ejemplo:** Dada la lista\n",
    "\n",
    "```\n",
    "[[0, 1, 2],\n",
    " [3, 4, 5],\n",
    " [6, 7, 8]]\n",
    "```\n",
    "\n",
    "\n"
   ]
  },
  {
   "cell_type": "code",
   "execution_count": null,
   "metadata": {
    "id": "OyXHeAQ7sGBB"
   },
   "outputs": [],
   "source": [
    "lista = [[0, 1, 2],\n",
    "         [3, 4, 5],\n",
    "         [6, 7, 8]]\n",
    "\n",
    "arreglo = np.array(lista)"
   ]
  },
  {
   "cell_type": "markdown",
   "metadata": {
    "id": "1KG0jjFN7jEU"
   },
   "source": [
    "* seleccionar la primera fila"
   ]
  },
  {
   "cell_type": "code",
   "execution_count": null,
   "metadata": {
    "colab": {
     "base_uri": "https://localhost:8080/"
    },
    "id": "pSTjvC1Z7ZJE",
    "outputId": "99d42b9b-06ff-40a7-dd5d-221790e5cb05"
   },
   "outputs": [
    {
     "data": {
      "text/plain": [
       "1"
      ]
     },
     "execution_count": 54,
     "metadata": {},
     "output_type": "execute_result"
    }
   ],
   "source": [
    "# lista\n",
    "lista[0][1]"
   ]
  },
  {
   "cell_type": "code",
   "execution_count": null,
   "metadata": {
    "colab": {
     "base_uri": "https://localhost:8080/"
    },
    "id": "VePVuLeg7cqt",
    "outputId": "a8454094-f842-441f-8333-210ce38969f8"
   },
   "outputs": [
    {
     "data": {
      "text/plain": [
       "array([0, 1, 2])"
      ]
     },
     "execution_count": 56,
     "metadata": {},
     "output_type": "execute_result"
    }
   ],
   "source": [
    "# arreglo\n",
    "arreglo[:,2]"
   ]
  },
  {
   "cell_type": "markdown",
   "metadata": {
    "id": "ZLgkBG0O7nbS"
   },
   "source": [
    "* seleccionar la primera columna"
   ]
  },
  {
   "cell_type": "code",
   "execution_count": null,
   "metadata": {
    "colab": {
     "base_uri": "https://localhost:8080/"
    },
    "id": "KcjC_L7x6-eF",
    "outputId": "6b29b670-5457-4bd8-c406-3dba384020b4"
   },
   "outputs": [
    {
     "data": {
      "text/plain": [
       "array([0, 3, 6])"
      ]
     },
     "execution_count": 140,
     "metadata": {},
     "output_type": "execute_result"
    }
   ],
   "source": [
    "arreglo[:, 0]"
   ]
  },
  {
   "cell_type": "markdown",
   "metadata": {
    "id": "gNcRGUdI8E0U"
   },
   "source": [
    "* seleccionar el elemento de la ultima fila y ultima columna"
   ]
  },
  {
   "cell_type": "code",
   "execution_count": null,
   "metadata": {
    "colab": {
     "base_uri": "https://localhost:8080/"
    },
    "id": "s7DCL3I_8GhV",
    "outputId": "cbf4053e-dd36-4fdc-ed83-9847a6197d9e"
   },
   "outputs": [
    {
     "data": {
      "text/plain": [
       "8"
      ]
     },
     "execution_count": 143,
     "metadata": {},
     "output_type": "execute_result"
    }
   ],
   "source": [
    "# arreglo\n",
    "arreglo[-1, -1]"
   ]
  },
  {
   "cell_type": "markdown",
   "metadata": {
    "id": "Lv2ZJ1Dp71Au"
   },
   "source": [
    "* seleccionar desde la segunda fila y todas las columnas"
   ]
  },
  {
   "cell_type": "code",
   "execution_count": null,
   "metadata": {
    "colab": {
     "base_uri": "https://localhost:8080/"
    },
    "id": "udBZ0CJO_9Rq",
    "outputId": "a0e64bfc-b089-4892-e471-e3a342f50cd2"
   },
   "outputs": [
    {
     "data": {
      "text/plain": [
       "array([[0, 1, 2],\n",
       "       [3, 4, 5],\n",
       "       [6, 7, 8]])"
      ]
     },
     "execution_count": 61,
     "metadata": {},
     "output_type": "execute_result"
    }
   ],
   "source": [
    "arreglo"
   ]
  },
  {
   "cell_type": "code",
   "execution_count": null,
   "metadata": {
    "colab": {
     "base_uri": "https://localhost:8080/"
    },
    "id": "-2rEBTXn72CQ",
    "outputId": "23c0c31d-4b3a-4f82-e886-4dbb2b2c01a4"
   },
   "outputs": [
    {
     "data": {
      "text/plain": [
       "array([3, 6])"
      ]
     },
     "execution_count": 63,
     "metadata": {},
     "output_type": "execute_result"
    }
   ],
   "source": [
    "# arreglo\n",
    "arreglo[1:,0]"
   ]
  },
  {
   "cell_type": "markdown",
   "metadata": {
    "id": "rx1stASe90BN"
   },
   "source": [
    "**Ejemplo:** Crear un arreglo 4x4 con unos en el borde y ceros en el centro\n",
    "\n",
    "\n"
   ]
  },
  {
   "cell_type": "code",
   "execution_count": null,
   "metadata": {
    "colab": {
     "base_uri": "https://localhost:8080/"
    },
    "id": "yfiQr_yT-Qa8",
    "outputId": "955509a1-9daa-4684-a1ef-a6e828454027"
   },
   "outputs": [
    {
     "data": {
      "text/plain": [
       "array([[1., 1., 1., 1.],\n",
       "       [1., 1., 1., 1.],\n",
       "       [1., 1., 1., 1.],\n",
       "       [1., 1., 1., 1.]])"
      ]
     },
     "execution_count": 38,
     "metadata": {},
     "output_type": "execute_result"
    }
   ],
   "source": [
    "ones = np.ones((4,4))\n",
    "ones"
   ]
  },
  {
   "cell_type": "code",
   "execution_count": null,
   "metadata": {
    "id": "xau7RKT2YaAW"
   },
   "outputs": [],
   "source": [
    "ones[1:3, 1:3] = 0 # [[0, 0],[0, 0]]"
   ]
  },
  {
   "cell_type": "code",
   "execution_count": null,
   "metadata": {
    "colab": {
     "base_uri": "https://localhost:8080/"
    },
    "id": "iXGhK1ayYsbe",
    "outputId": "577fc9b0-7ad9-44cf-932f-a7e0081c7241"
   },
   "outputs": [
    {
     "data": {
      "text/plain": [
       "array([[1., 1., 1., 1.],\n",
       "       [1., 0., 0., 1.],\n",
       "       [1., 0., 0., 1.],\n",
       "       [1., 1., 1., 1.]])"
      ]
     },
     "execution_count": 164,
     "metadata": {},
     "output_type": "execute_result"
    }
   ],
   "source": [
    "ones"
   ]
  },
  {
   "cell_type": "markdown",
   "metadata": {
    "id": "8jy8Jgqh-k3H"
   },
   "source": [
    "**Ejemplo 4:** Crear un arreglo 8x8 que tenga el patrón de un tablero de ajedrez con unos y ceros\n",
    "\n",
    "\n"
   ]
  },
  {
   "cell_type": "code",
   "execution_count": null,
   "metadata": {
    "colab": {
     "base_uri": "https://localhost:8080/"
    },
    "id": "PJSQvxcc-6xF",
    "outputId": "f66fbe78-5523-4b7b-f6d7-3a7d1408c4f7"
   },
   "outputs": [
    {
     "data": {
      "text/plain": [
       "array([[1., 1., 1., 1., 1., 1., 1., 1.],\n",
       "       [1., 1., 1., 1., 1., 1., 1., 1.],\n",
       "       [1., 1., 1., 1., 1., 1., 1., 1.],\n",
       "       [1., 1., 1., 1., 1., 1., 1., 1.],\n",
       "       [1., 1., 1., 1., 1., 1., 1., 1.],\n",
       "       [1., 1., 1., 1., 1., 1., 1., 1.],\n",
       "       [1., 1., 1., 1., 1., 1., 1., 1.],\n",
       "       [1., 1., 1., 1., 1., 1., 1., 1.]])"
      ]
     },
     "execution_count": 1,
     "metadata": {},
     "output_type": "execute_result"
    }
   ],
   "source": [
    "import numpy as np\n",
    "ones = np.ones((8, 8))\n",
    "ones"
   ]
  },
  {
   "cell_type": "code",
   "execution_count": null,
   "metadata": {
    "id": "Q41ilwfsZrAQ"
   },
   "outputs": [],
   "source": [
    "ones[::2, ::2] = 0\n",
    "ones[1::2, 1::2] = 0"
   ]
  },
  {
   "cell_type": "code",
   "execution_count": null,
   "metadata": {
    "colab": {
     "base_uri": "https://localhost:8080/"
    },
    "id": "jDsE79sGaJKJ",
    "outputId": "c516c468-2cd9-4611-950f-e54fd67e5b55"
   },
   "outputs": [
    {
     "data": {
      "text/plain": [
       "array([[0., 1., 0., 1., 0., 1., 0., 1.],\n",
       "       [1., 0., 1., 0., 1., 0., 1., 0.],\n",
       "       [0., 1., 0., 1., 0., 1., 0., 1.],\n",
       "       [1., 0., 1., 0., 1., 0., 1., 0.],\n",
       "       [0., 1., 0., 1., 0., 1., 0., 1.],\n",
       "       [1., 0., 1., 0., 1., 0., 1., 0.],\n",
       "       [0., 1., 0., 1., 0., 1., 0., 1.],\n",
       "       [1., 0., 1., 0., 1., 0., 1., 0.]])"
      ]
     },
     "execution_count": 5,
     "metadata": {},
     "output_type": "execute_result"
    }
   ],
   "source": [
    "ones"
   ]
  },
  {
   "cell_type": "markdown",
   "metadata": {
    "id": "HkRK695CpT6T"
   },
   "source": [
    "Numpy contiene funciones y métodos para una gran variedad de tareas"
   ]
  },
  {
   "cell_type": "markdown",
   "metadata": {
    "id": "ZnlI1cjH7ru6"
   },
   "source": [
    "**Ejemplo:** Dada la lista\n",
    "\n",
    "```\n",
    "[[0, 1, 2],\n",
    " [3, 4, 5],\n",
    " [6, 7, 8]]\n",
    "```\n",
    "\n",
    "Seleccione los elementos de la diagonal"
   ]
  },
  {
   "cell_type": "code",
   "execution_count": null,
   "metadata": {
    "colab": {
     "base_uri": "https://localhost:8080/"
    },
    "id": "CfGaDoiSbD8W",
    "outputId": "d5a93f0e-fa67-4053-b301-b2119b56f9cf"
   },
   "outputs": [
    {
     "data": {
      "text/plain": [
       "(0, 4, 8)"
      ]
     },
     "execution_count": 176,
     "metadata": {},
     "output_type": "execute_result"
    }
   ],
   "source": [
    "lista = [[0, 1, 2],\n",
    "         [3, 4, 5],\n",
    "         [6, 7, 8]]\n",
    "\n",
    "lista[0][0], lista[1][1], lista[2][2]"
   ]
  },
  {
   "cell_type": "code",
   "execution_count": null,
   "metadata": {
    "colab": {
     "base_uri": "https://localhost:8080/"
    },
    "id": "3ENgwR3f6Mqh",
    "outputId": "0a55a922-33f4-4700-c419-c5d307d841e1"
   },
   "outputs": [
    {
     "data": {
      "text/plain": [
       "array([0, 4, 8])"
      ]
     },
     "execution_count": 180,
     "metadata": {},
     "output_type": "execute_result"
    }
   ],
   "source": [
    "# np.diag\n",
    "np.diag(lista)"
   ]
  },
  {
   "cell_type": "markdown",
   "metadata": {
    "id": "SMY5iLtVpLLs"
   },
   "source": [
    "**Ejemplo:** Escriba un programa para encontrar los valores comunes entre las listas\n",
    "\n",
    "```\n",
    "[0, 10, 20, 40, 60]\n",
    "[10, 30, 40]\n",
    "```"
   ]
  },
  {
   "cell_type": "code",
   "execution_count": null,
   "metadata": {
    "colab": {
     "base_uri": "https://localhost:8080/"
    },
    "id": "hl9LVzSwpMts",
    "outputId": "f1d4008f-043d-49b8-9390-42ca2a731f0c"
   },
   "outputs": [
    {
     "data": {
      "text/plain": [
       "array([10, 40])"
      ]
     },
     "execution_count": 203,
     "metadata": {},
     "output_type": "execute_result"
    }
   ],
   "source": [
    "# intersect1d\n",
    "a = [0, 10, 20, 40, 60]\n",
    "b = [10, 30, 40]\n",
    "\n",
    "np.intersect1d(a, b)"
   ]
  },
  {
   "cell_type": "markdown",
   "metadata": {
    "id": "5vKYCmUJBKKM"
   },
   "source": [
    "**Ejemplo:** Escriba un programa para encontrar los valores de un arreglo `a` que no estén presentes en otro arreglo `b`\n",
    "\n",
    "\n",
    "\n",
    "```\n",
    "a = [0, 10, 20, 40, 60, 80]\n",
    "b = [10, 30, 40, 50, 70]\n",
    "```\n",
    "\n"
   ]
  },
  {
   "cell_type": "code",
   "execution_count": null,
   "metadata": {
    "colab": {
     "base_uri": "https://localhost:8080/"
    },
    "id": "cwZPctyIBJiA",
    "outputId": "667ccd83-8ec6-4603-a18f-0e01c124c5b5"
   },
   "outputs": [
    {
     "data": {
      "text/plain": [
       "array([ 0, 20, 60, 80])"
      ]
     },
     "execution_count": 200,
     "metadata": {},
     "output_type": "execute_result"
    }
   ],
   "source": [
    "# np.setdiff1d\n",
    "a = [0, 10, 20, 40, 60, 80]\n",
    "b = [10, 30, 40, 50, 70]\n",
    "\n",
    "np.setdiff1d(a, b)"
   ]
  },
  {
   "cell_type": "markdown",
   "metadata": {
    "id": "t22liQsao9hm"
   },
   "source": [
    "**Ejemplo:** Escriba un programa para comprobar si cada elemento de un arreglo unidimensional `a` está presente en un segundo arreglo `b`\n",
    "\n",
    "\n",
    "\n",
    "```\n",
    "a = np.array([0, 10, 20, 40, 60])\n",
    "b = np.array([0, 40])\n",
    "```\n",
    "\n"
   ]
  },
  {
   "cell_type": "code",
   "execution_count": null,
   "metadata": {
    "colab": {
     "base_uri": "https://localhost:8080/"
    },
    "id": "xX1HAaVSpDzU",
    "outputId": "9316dcd8-d7ff-4aba-dba5-7de62e150bd1"
   },
   "outputs": [
    {
     "data": {
      "text/plain": [
       "array([ True, False, False,  True, False])"
      ]
     },
     "execution_count": 14,
     "metadata": {},
     "output_type": "execute_result"
    }
   ],
   "source": [
    "# np.in1d\n",
    "a = np.array([0, 10, 20, 40, 60])\n",
    "b = np.array([0, 40])\n",
    "\n",
    "# valores de a que estan en b\n",
    "np.in1d(a, b)"
   ]
  },
  {
   "cell_type": "code",
   "execution_count": null,
   "metadata": {
    "colab": {
     "base_uri": "https://localhost:8080/"
    },
    "id": "S0Pe7Vjid4u6",
    "outputId": "87b1436a-79dc-42bf-87f2-60bb515dcb87"
   },
   "outputs": [
    {
     "data": {
      "text/plain": [
       "array([ True,  True])"
      ]
     },
     "execution_count": 15,
     "metadata": {},
     "output_type": "execute_result"
    }
   ],
   "source": [
    "# valores de b que estan en a\n",
    "np.in1d(b,a)"
   ]
  },
  {
   "cell_type": "markdown",
   "metadata": {
    "id": "qVEVvb8aJOMo"
   },
   "source": [
    "Acá puede encontrar [ejercicios adicionales](https://www.w3resource.com/python-exercises/numpy/index.php) relacionados con el objeto `np.ndarray`"
   ]
  }
 ],
 "metadata": {
  "colab": {
   "collapsed_sections": [
    "fscZEmXxV6wR",
    "Utqw-o1e5NGC",
    "ikDXPQ18KXAW",
    "2P89d9Cm5rwq",
    "AQbDItkGKv2u",
    "tFo35ROIKywU",
    "Q9catUZpK2OM",
    "9ZNqqCx9K5lH",
    "4vtA_-cnK-Ob",
    "_72gYVahla-p",
    "rlo-LZvDQbwY",
    "lWIrrvw5o-uA"
   ],
   "provenance": []
  },
  "kernelspec": {
   "display_name": "Python 3",
   "name": "python3"
  },
  "language_info": {
   "codemirror_mode": {
    "name": "ipython",
    "version": 3
   },
   "file_extension": ".py",
   "mimetype": "text/x-python",
   "name": "python",
   "nbconvert_exporter": "python",
   "pygments_lexer": "ipython3",
   "version": "3.9.12"
  }
 },
 "nbformat": 4,
 "nbformat_minor": 0
}
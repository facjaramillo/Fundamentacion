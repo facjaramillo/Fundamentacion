{
 "cells": [
  {
   "cell_type": "markdown",
   "metadata": {
    "id": "zMKmPUWlNHJW"
   },
   "source": [
    "# Semana 9: Funciones"
   ]
  },
  {
   "cell_type": "markdown",
   "metadata": {
    "id": "lXNMudRkJK7-"
   },
   "source": [
    "## Funciones en Python\n",
    "\n",
    "Las funciones pueden ser creadas con la sentencia def:"
   ]
  },
  {
   "cell_type": "code",
   "execution_count": 1,
   "metadata": {
    "id": "1az4eoV8JNnj"
   },
   "outputs": [],
   "source": [
    "def mi_funcion(params):\n",
    "   #tareas-procedimimentos\n",
    "   return print('¡Esto es una función!')"
   ]
  },
  {
   "cell_type": "markdown",
   "metadata": {
    "id": "w-OdZ585J4Ys"
   },
   "source": [
    "Las funciones tienen tres partes importantes:\n",
    "\n",
    "*   Entradas: Lo que se le conoce como parámetros. La entrada puede no ser necesaria, puede ser un valor que viene desde el principal o puede ser un valor predeterminado.\n",
    "*   Salidas: Lo que regresa la función, en algunos casos la función no regresa nada y modifica sus entradas (lo que se llama in situ).\n",
    "*   Procedimiento: Las funciones son códigos más pequeños que encapsulan algo que va ser repetitivo y que usaremos dentro de nuestro código principal.\n",
    "\n",
    "\n",
    "\n",
    "\n",
    "\n",
    "\n",
    "\n",
    "\n",
    "\n",
    "\n"
   ]
  },
  {
   "cell_type": "code",
   "execution_count": 2,
   "metadata": {
    "id": "O4zTFun1J0My"
   },
   "outputs": [],
   "source": [
    "def cuadrados(a):   #Uso de la sentencia def para definir la funcion de nombre 'cuadrados'.\n",
    "  a2 = a**2\n",
    "  return a2    #Con el return se sentencia que la funcion entregará una salida.\n",
    "\n"
   ]
  },
  {
   "cell_type": "code",
   "execution_count": 3,
   "metadata": {
    "colab": {
     "base_uri": "https://localhost:8080/"
    },
    "id": "yo7u9hPhN_dc",
    "outputId": "097c8b5d-6bba-479f-9342-1026413caa3e"
   },
   "outputs": [
    {
     "data": {
      "text/plain": [
       "25"
      ]
     },
     "execution_count": 3,
     "metadata": {},
     "output_type": "execute_result"
    }
   ],
   "source": [
    "cuadrados(-5)"
   ]
  },
  {
   "cell_type": "code",
   "execution_count": 4,
   "metadata": {
    "id": "dwFUeF7KOBVb"
   },
   "outputs": [],
   "source": [
    "def cuadrados(lista:list):\n",
    "  lista_cuadrados = []              #Crea una lista vacía\n",
    "  for i in lista:            #Define un ciclo for ingresando a los elementos de lista\n",
    "    lista_cuadrados.append(i ** 2)      #Llena la lista vacía con el cuadrado de los elementos en lista.\n",
    "  return lista_cuadrados            #Devuelve la lista con los elementos elevados al cuadrado."
   ]
  },
  {
   "cell_type": "code",
   "execution_count": 5,
   "metadata": {
    "id": "tQP48Qnp68XD"
   },
   "outputs": [],
   "source": [
    "lista = [123, 2218, 3, 4]"
   ]
  },
  {
   "cell_type": "code",
   "execution_count": 6,
   "metadata": {
    "colab": {
     "base_uri": "https://localhost:8080/"
    },
    "id": "PCb53YGFOQBu",
    "outputId": "697bfd92-52d9-4404-d215-5b0701dd5bcc"
   },
   "outputs": [
    {
     "data": {
      "text/plain": [
       "[15129, 4919524, 9, 16]"
      ]
     },
     "execution_count": 6,
     "metadata": {},
     "output_type": "execute_result"
    }
   ],
   "source": [
    "cuadrados(lista)"
   ]
  },
  {
   "cell_type": "markdown",
   "metadata": {
    "id": "ZX-EV2lIUpUT"
   },
   "source": [
    "## Funciones recursivas\n",
    "\n",
    "La recursividad o recursión es un concepto que proviene de las matemáticas, y que aplicado al mundo de la programación nos permite resolver problemas o tareas donde las mismas pueden ser divididas en subtareas cuya funcionalidad es la misma. Dado que los subproblemas a resolver son de la misma naturaleza, se puede usar la misma función para resolverlos. Dicho de otra manera, una función recursiva es aquella que está definida en función de sí misma, por lo que se llama repetidamente a sí misma hasta llegar a un punto de salida.\n",
    "\n",
    "\n",
    "Cualquier función recursiva tiene dos secciones de código claramente divididas:\n",
    "\n",
    "1. Por un lado tenemos la sección en la que la función se llama a sí misma.\n",
    "\n",
    "2. Por otro lado, tiene que existir siempre una condición en la que la función retorna sin volver a llamarse. Es muy importante porque de lo contrario, la función se llamaría de manera indefinida."
   ]
  },
  {
   "cell_type": "markdown",
   "metadata": {
    "id": "2Oq7ieICVy0B"
   },
   "source": [
    "Una función que calcule el factorial de un número $n$, podría ser:"
   ]
  },
  {
   "cell_type": "code",
   "execution_count": 7,
   "metadata": {
    "colab": {
     "base_uri": "https://localhost:8080/"
    },
    "id": "9v9BH-qIVvAe",
    "outputId": "dca771fd-d6e9-437b-cb35-b440e639efa2"
   },
   "outputs": [
    {
     "data": {
      "text/plain": [
       "120"
      ]
     },
     "execution_count": 7,
     "metadata": {},
     "output_type": "execute_result"
    }
   ],
   "source": [
    "def factorial_normal(n):\n",
    "    r = 1\n",
    "    i = 2\n",
    "    while i <= n:\n",
    "        r *= i\n",
    "        i += 1\n",
    "    return r\n",
    "\n",
    "factorial_normal(5) # 120"
   ]
  },
  {
   "cell_type": "markdown",
   "metadata": {
    "id": "0IBmvZf3WCL1"
   },
   "source": [
    "Dado que el factorial es una tarea que puede ser dividida en subtareas del mismo tipo (multiplicaciones), podemos darle un enfoque recursivo y escribir la función de otra manera."
   ]
  },
  {
   "cell_type": "code",
   "execution_count": 8,
   "metadata": {
    "colab": {
     "base_uri": "https://localhost:8080/"
    },
    "id": "ZVQKn_UfWDc6",
    "outputId": "a6792050-026d-43be-8fd8-3b7db16c3030"
   },
   "outputs": [
    {
     "data": {
      "text/plain": [
       "120"
      ]
     },
     "execution_count": 8,
     "metadata": {},
     "output_type": "execute_result"
    }
   ],
   "source": [
    "def factorial_recursivo(n):\n",
    "    if n == 1:\n",
    "        return 1\n",
    "    else:\n",
    "        return n * factorial_recursivo(n-1)\n",
    "\n",
    "factorial_recursivo(5) # 120"
   ]
  },
  {
   "cell_type": "markdown",
   "metadata": {
    "id": "r94Bcs5JWPIX"
   },
   "source": [
    "Otro ejemplo muy usado para ilustrar las posibilidades de la recursividad, es calcular la serie de fibonacci. Dicha serie calcula el elemento $n$ sumando los dos anteriores `n-1` + `n-2`. Se supone que los dos primeros elementos son 0 y 1."
   ]
  },
  {
   "cell_type": "code",
   "execution_count": 9,
   "metadata": {
    "colab": {
     "base_uri": "https://localhost:8080/"
    },
    "id": "ub-ZvxnoWcnW",
    "outputId": "e1647051-fa76-4191-e9b4-9e576c4d286a"
   },
   "outputs": [
    {
     "data": {
      "text/plain": [
       "13"
      ]
     },
     "execution_count": 9,
     "metadata": {},
     "output_type": "execute_result"
    }
   ],
   "source": [
    "def fibonacci_recursivo(n):\n",
    "    if n == 0:\n",
    "        return 0\n",
    "    elif n == 1:\n",
    "        return 1\n",
    "    else:\n",
    "        return fibonacci_recursivo(n-1) + fibonacci_recursivo(n-2)\n",
    "\n",
    "fibonacci_recursivo(7)"
   ]
  },
  {
   "cell_type": "markdown",
   "metadata": {
    "id": "phupAUx7IBFW"
   },
   "source": [
    "## Funciones anónimas\n",
    "\n",
    "Las funciones lambda o anónimas son un tipo de funciones en Python que típicamente se definen en una línea y cuyo código a ejecutar suele ser pequeño. Resulta complicado explicar las diferencias, y para que te hagas una idea de ello te dejamos con la siguiente cita sacada de la documentación oficial.\n",
    "\n",
    "“Python lambdas are only a shorthand notation if you’re too lazy to define a function.”\n",
    "\n",
    "Lo que significa algo así como, “las funciones lambda son simplemente una versión acortada, que puedes usar si te da pereza escribir una función”"
   ]
  },
  {
   "cell_type": "code",
   "execution_count": 10,
   "metadata": {
    "id": "5kdr-dy7roYx"
   },
   "outputs": [],
   "source": [
    "def cuadrados(a):   #Uso de la sentencia def para definir la funcion de nombre 'cuadrados'.\n",
    "  a2 = a**2\n",
    "  return a2"
   ]
  },
  {
   "cell_type": "code",
   "execution_count": 11,
   "metadata": {
    "colab": {
     "base_uri": "https://localhost:8080/"
    },
    "id": "kI8CGlGQOa-X",
    "outputId": "f7fe813d-9b07-4e5a-a733-651f0d448962"
   },
   "outputs": [
    {
     "data": {
      "text/plain": [
       "9"
      ]
     },
     "execution_count": 11,
     "metadata": {},
     "output_type": "execute_result"
    }
   ],
   "source": [
    "# funcion anonima\n",
    "cuadrado = lambda a: a**2    #Permite definir una función de forma rápida.\n",
    "\n",
    "cuadrado(3)"
   ]
  },
  {
   "cell_type": "code",
   "execution_count": null,
   "metadata": {
    "id": "YtLZdvmcsW66"
   },
   "outputs": [],
   "source": []
  },
  {
   "cell_type": "markdown",
   "metadata": {
    "id": "SBT-jKWXIDrP"
   },
   "source": [
    "## Ejemplos\n"
   ]
  },
  {
   "cell_type": "code",
   "execution_count": 12,
   "metadata": {
    "id": "txkesk8EQZab"
   },
   "outputs": [],
   "source": [
    "#Función para determinar si un número es primo o no.\n",
    "\n",
    "def primos(n:int):    #Se define para numeros enteros mayores a 2.\n",
    "\n",
    "  if n==1:\n",
    "    return print(f'{n} sale de la definicion')\n",
    "  if n==2:\n",
    "    return print(f'{n} es primo')\n",
    "\n",
    "  for i in range(2,n):\n",
    "    a = 0\n",
    "\n",
    "    if n%i == 0:\n",
    "      a = 1\n",
    "      return print(f'{n} no es primo, es divisible por {i}')\n",
    "      break\n",
    "\n",
    "  if a==0:\n",
    "    return print(f'{n} es primo')\n"
   ]
  },
  {
   "cell_type": "code",
   "execution_count": 13,
   "metadata": {
    "colab": {
     "base_uri": "https://localhost:8080/"
    },
    "id": "IoXbdywSvFk3",
    "outputId": "cb4e8612-2e0d-4995-d723-ffa0cfd1f634"
   },
   "outputs": [
    {
     "name": "stdout",
     "output_type": "stream",
     "text": [
      "3 es primo\n"
     ]
    }
   ],
   "source": [
    "primos(3)"
   ]
  },
  {
   "cell_type": "code",
   "execution_count": 14,
   "metadata": {
    "id": "PbvchmBwxM8y"
   },
   "outputs": [],
   "source": [
    "def primos(n:list):    #Se define para numeros enteros mayores a 2.\n",
    "\n",
    "  lista_primos = []\n",
    "  lista_noprimos = []\n",
    "\n",
    "  for j in n:\n",
    "    for i in range(2,j):\n",
    "      a = 0\n",
    "\n",
    "      if j%i == 0:\n",
    "        a = 1\n",
    "        lista_noprimos.append(j)\n",
    "        break\n",
    "\n",
    "    if a==0:\n",
    "      lista_primos.append(j)\n",
    "\n",
    "  return lista_primos, lista_noprimos\n"
   ]
  },
  {
   "cell_type": "code",
   "execution_count": 15,
   "metadata": {
    "colab": {
     "base_uri": "https://localhost:8080/"
    },
    "id": "Q84BbBD00W7r",
    "outputId": "7f20ee1c-a9e7-4aa2-d7a9-9c4016c65eb3"
   },
   "outputs": [
    {
     "data": {
      "text/plain": [
       "([3], [56])"
      ]
     },
     "execution_count": 15,
     "metadata": {},
     "output_type": "execute_result"
    }
   ],
   "source": [
    "primos([3,56])"
   ]
  },
  {
   "cell_type": "code",
   "execution_count": 16,
   "metadata": {
    "colab": {
     "base_uri": "https://localhost:8080/"
    },
    "id": "KvFBF0SbyPLZ",
    "outputId": "9db70182-1242-4188-e316-bd145f66b22f"
   },
   "outputs": [
    {
     "data": {
      "text/plain": [
       "[1258, 20, 55]"
      ]
     },
     "execution_count": 16,
     "metadata": {},
     "output_type": "execute_result"
    }
   ],
   "source": [
    "a,b = primos([1258,11,20,55])\n",
    "b"
   ]
  },
  {
   "cell_type": "code",
   "execution_count": 17,
   "metadata": {
    "id": "rqZ_bF5NH0U9"
   },
   "outputs": [],
   "source": [
    "#Función que reciba 6 números y los guarde en una lista."
   ]
  },
  {
   "cell_type": "code",
   "execution_count": 18,
   "metadata": {
    "id": "1ns71WkqH6c4"
   },
   "outputs": [],
   "source": [
    "#Función que cree un diccionario con los datos de nombre, identificación,\n",
    "# género, edad, carrera, semestre."
   ]
  },
  {
   "cell_type": "markdown",
   "metadata": {
    "id": "77EgudMiPdRJ"
   },
   "source": [
    "## Ejercicios\n",
    "\n",
    "\n",
    "\n",
    "1.   Define una función llamada raiz_cubica que devuelva el valor de $\\sqrt[3]{x}$.\n",
    "2.   Define una función que convierta grados Farenheit en grados celsius.\n",
    "1.   Define una función que convierta radianes en grados.\n",
    "1.   Defiune una función cuya salida sea el n-ésimo término de la serie $$\\sum_{n=1}^{∞} \\frac{1}{2^{n-1}}$$\n",
    "Además, que calcule la suma desde $n=1$ hasta ese n-ésimo elemento.\n",
    "\n",
    "\n",
    "\n",
    "\n",
    "Repita estos ejercicios para una lista de valores y cree un archivo con cada lista.\n",
    "\n",
    "\n",
    "\n",
    "\n",
    "\n",
    "\n",
    "\n",
    "\n"
   ]
  }
 ],
 "metadata": {
  "colab": {
   "collapsed_sections": [
    "zMKmPUWlNHJW",
    "rrHKeGSINfQr"
   ],
   "provenance": []
  },
  "kernelspec": {
   "display_name": "Python 3",
   "name": "python3"
  },
  "language_info": {
   "codemirror_mode": {
    "name": "ipython",
    "version": 3
   },
   "file_extension": ".py",
   "mimetype": "text/x-python",
   "name": "python",
   "nbconvert_exporter": "python",
   "pygments_lexer": "ipython3",
   "version": "3.9.12"
  }
 },
 "nbformat": 4,
 "nbformat_minor": 0
}
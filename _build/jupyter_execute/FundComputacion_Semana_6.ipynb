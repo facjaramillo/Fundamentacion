{
 "cells": [
  {
   "cell_type": "markdown",
   "metadata": {
    "id": "jPG3yezMH-23"
   },
   "source": [
    "# Semana 6: Listas y Tuplas\n",
    "\n",
    "\n",
    "\n"
   ]
  },
  {
   "cell_type": "code",
   "execution_count": 1,
   "metadata": {
    "colab": {
     "base_uri": "https://localhost:8080/",
     "height": 322
    },
    "id": "KAJtaNW-VuIC",
    "outputId": "a1335653-6a09-4702-9fe4-b2a60645c1eb"
   },
   "outputs": [
    {
     "data": {
      "image/jpeg": "[encoded data removed]",
      "text/html": [
       "\n",
       "        <iframe\n",
       "            width=\"400\"\n",
       "            height=\"300\"\n",
       "            src=\"https://www.youtube.com/embed/9vUkxV9OLS0\"\n",
       "            frameborder=\"0\"\n",
       "            allowfullscreen\n",
       "            \n",
       "        ></iframe>\n",
       "        "
      ],
      "text/plain": [
       "<IPython.lib.display.YouTubeVideo at 0x7f863465b640>"
      ]
     },
     "execution_count": 1,
     "metadata": {},
     "output_type": "execute_result"
    }
   ],
   "source": [
    "from IPython.display import YouTubeVideo\n",
    "YouTubeVideo('9vUkxV9OLS0')"
   ]
  },
  {
   "cell_type": "markdown",
   "metadata": {
    "id": "urHz3jU-dfq-"
   },
   "source": [
    "## Listas\n",
    "\n",
    "Una lista en Python es una estructura de datos formada por una secuencia ordenada de objetos. Los elementos de una lista pueden accederse mediante su índice, siendo 0 el índice del primer elemento. Su caracteristica principal es el uso de corchetes cuadrados ([  ]).\n",
    "\n",
    "[Referencia de Python sobre Listas](https://docs.python.org/3/tutorial/datastructures.html)"
   ]
  },
  {
   "cell_type": "code",
   "execution_count": 2,
   "metadata": {
    "colab": {
     "base_uri": "https://localhost:8080/"
    },
    "id": "eLqq1fkCfkOw",
    "outputId": "7968a8c6-e17c-4b8f-ecef-55734361433c"
   },
   "outputs": [
    {
     "name": "stdout",
     "output_type": "stream",
     "text": [
      "[]\n"
     ]
    }
   ],
   "source": [
    "#Se define una lista asignando a una variable valores dentro de corchetes\n",
    "lista = [] #Lista vacia\n",
    "print(lista)"
   ]
  },
  {
   "cell_type": "code",
   "execution_count": 3,
   "metadata": {
    "colab": {
     "base_uri": "https://localhost:8080/"
    },
    "id": "zVyjxUvXsW33",
    "outputId": "cc76c2cb-1de9-4d4a-a81f-e44fe7126415"
   },
   "outputs": [
    {
     "data": {
      "text/plain": [
       "list"
      ]
     },
     "execution_count": 3,
     "metadata": {},
     "output_type": "execute_result"
    }
   ],
   "source": [
    "#Con la función type podemos ver que las listas son un nuvo tipo de dato-estructura\n",
    "type(lista)\n"
   ]
  },
  {
   "cell_type": "code",
   "execution_count": 4,
   "metadata": {
    "colab": {
     "base_uri": "https://localhost:8080/"
    },
    "id": "M9DZ09tEsaut",
    "outputId": "4a32360c-06be-495d-fef8-c1d9066a0392"
   },
   "outputs": [
    {
     "name": "stdout",
     "output_type": "stream",
     "text": [
      "[]\n"
     ]
    }
   ],
   "source": [
    "#Print nos permite ver los valores asignados a la lista\n",
    "#En este caso muestra solo los corchetes, pues está vacía\n",
    "print(lista)"
   ]
  },
  {
   "cell_type": "code",
   "execution_count": 5,
   "metadata": {
    "colab": {
     "base_uri": "https://localhost:8080/"
    },
    "id": "iTdJ86lc50p1",
    "outputId": "b0108257-0f4b-41ea-d2be-036d48def3df"
   },
   "outputs": [
    {
     "data": {
      "text/plain": [
       "list"
      ]
     },
     "execution_count": 5,
     "metadata": {},
     "output_type": "execute_result"
    }
   ],
   "source": [
    "#Se puede definir una lista con valores de diversos tipos: enteros, de punto\n",
    "# flotante y cadenas de caracteres.\n",
    "lista = [23,5,6,\"ocho\",9,10.45]\n",
    "type(lista)"
   ]
  },
  {
   "cell_type": "code",
   "execution_count": 6,
   "metadata": {
    "colab": {
     "base_uri": "https://localhost:8080/"
    },
    "id": "kFB9fhCPscmR",
    "outputId": "c97499b4-780b-4005-9f2c-d777a8fa518b"
   },
   "outputs": [
    {
     "name": "stdout",
     "output_type": "stream",
     "text": [
      "[1, 2.7, 3, 4, 'Hola', [1, 2, 3]]\n"
     ]
    }
   ],
   "source": [
    "# Las listas pueden almacenar incluso otras listas.\n",
    "lista = [1,2.7,3,4,\"Hola\",[1,2,3]]\n",
    "\n",
    "print(lista)"
   ]
  },
  {
   "cell_type": "code",
   "execution_count": 7,
   "metadata": {
    "colab": {
     "base_uri": "https://localhost:8080/"
    },
    "id": "n1aagMjQsjbu",
    "outputId": "ee8d9fc2-4fac-4c6b-8626-cf8055a3c47b"
   },
   "outputs": [
    {
     "name": "stdout",
     "output_type": "stream",
     "text": [
      "[1, 2.7, 3, 4, 'Hola', [1, 2, 3], 7]\n"
     ]
    }
   ],
   "source": [
    "# Con el módulo append se puede agregar un elemento a la lista. Se agrega al final.\n",
    "lista.append(7) #Agregar elemento al final de la lista\n",
    "\n",
    "print(lista)"
   ]
  },
  {
   "cell_type": "code",
   "execution_count": 8,
   "metadata": {
    "colab": {
     "base_uri": "https://localhost:8080/"
    },
    "id": "B2WHCedfgIcn",
    "outputId": "f6d47d38-0c52-4e5a-a227-aedc3fd98726"
   },
   "outputs": [
    {
     "data": {
      "text/plain": [
       "[1, 2.7, 3, 4, 'Hola', [1, 2, 3], 7, [12, 1, 0]]"
      ]
     },
     "execution_count": 8,
     "metadata": {},
     "output_type": "execute_result"
    }
   ],
   "source": [
    "#Se puede agregar con append incluso una nueva lista.\n",
    "lista.append([12,1,0])\n",
    "lista"
   ]
  },
  {
   "cell_type": "code",
   "execution_count": 9,
   "metadata": {
    "colab": {
     "base_uri": "https://localhost:8080/"
    },
    "id": "Lc5pnrXj8gTl",
    "outputId": "126d361b-c067-456f-9c65-978124a454ad"
   },
   "outputs": [
    {
     "data": {
      "text/plain": [
       "[1, 2.7, 3, 4, 'Hola', [1, 2, 3], 7, [12, 1, 0]]"
      ]
     },
     "execution_count": 9,
     "metadata": {},
     "output_type": "execute_result"
    }
   ],
   "source": [
    "#append recibe un solo argumento, por lo que entregar tres valores arroja error.\n",
    "#lista.append(12,1,0)\n",
    "lista"
   ]
  },
  {
   "cell_type": "markdown",
   "metadata": {
    "id": "56bWowkmLTrE"
   },
   "source": [
    "### Indexado\n",
    "\n",
    "Para acceder a los valores almacenados en una lista, es posible sabiendo que una vez dentro de la estructura, se les asigna por defecto un índice que va desde el cero."
   ]
  },
  {
   "cell_type": "code",
   "execution_count": 10,
   "metadata": {
    "colab": {
     "base_uri": "https://localhost:8080/"
    },
    "id": "m7ZAxV5ssrZy",
    "outputId": "dc9c1218-696d-4b4d-fa02-bfa225afa304"
   },
   "outputs": [
    {
     "name": "stdout",
     "output_type": "stream",
     "text": [
      "Hola 2.7\n"
     ]
    }
   ],
   "source": [
    "print(lista[4], lista[-7])\n"
   ]
  },
  {
   "cell_type": "code",
   "execution_count": 11,
   "metadata": {
    "colab": {
     "base_uri": "https://localhost:8080/"
    },
    "id": "6BxppoQ4s1nr",
    "outputId": "08478594-749c-460f-d301-a08f33936f78"
   },
   "outputs": [
    {
     "data": {
      "text/plain": [
       "7"
      ]
     },
     "execution_count": 11,
     "metadata": {},
     "output_type": "execute_result"
    }
   ],
   "source": [
    "# También se puede acceder a un valor usando índices negativos, iniciando\n",
    "# en el último, cuyo índice es -1\n",
    "lista[-2]"
   ]
  },
  {
   "cell_type": "code",
   "execution_count": 12,
   "metadata": {
    "colab": {
     "base_uri": "https://localhost:8080/"
    },
    "id": "CMaL8VeUh8iM",
    "outputId": "81ad6ca1-b0a5-4554-aecf-b02d4347d584"
   },
   "outputs": [
    {
     "data": {
      "text/plain": [
       "[2.7, 3, 4, 'Hola']"
      ]
     },
     "execution_count": 12,
     "metadata": {},
     "output_type": "execute_result"
    }
   ],
   "source": [
    "#Es posible acceder a varios valores simultáneamente.\n",
    "#Para ello, se especifica un intervalo de índices [a,b). Incluye el valor a, pero no\n",
    "# el b. Así que realmente serían los índices desde el a hasta el b-1\n",
    "# La sintaxis es esoecificarlo dentro de corchetes, separado con dos puntos: [a:b]\n",
    "\n",
    "lista[1:5]"
   ]
  },
  {
   "cell_type": "code",
   "execution_count": 13,
   "metadata": {
    "colab": {
     "base_uri": "https://localhost:8080/"
    },
    "id": "C8WYhETJjGSr",
    "outputId": "240841db-45b1-4a70-e024-25b26995a12e"
   },
   "outputs": [
    {
     "data": {
      "text/plain": [
       "[7, [12, 1, 0]]"
      ]
     },
     "execution_count": 13,
     "metadata": {},
     "output_type": "execute_result"
    }
   ],
   "source": [
    "# Si no se especifica el índice final, toma todos los índices hasta el final.\n",
    "lista[6:]"
   ]
  },
  {
   "cell_type": "code",
   "execution_count": 14,
   "metadata": {
    "colab": {
     "base_uri": "https://localhost:8080/"
    },
    "id": "x4u1ZZOdiSzu",
    "outputId": "7e459a01-a28f-4b3d-d2cf-1b2ca5c13f46"
   },
   "outputs": [
    {
     "name": "stdout",
     "output_type": "stream",
     "text": [
      "[2.7, [1, 2, 3]]\n"
     ]
    }
   ],
   "source": [
    "# También podemos definir el tamaño del paso usando la sintaxis.\n",
    "# [inicio:final:paso](el valor por defecto del paso es 1)\n",
    "\n",
    "print(lista[1:8:4])"
   ]
  },
  {
   "cell_type": "code",
   "execution_count": 15,
   "metadata": {
    "colab": {
     "base_uri": "https://localhost:8080/"
    },
    "id": "FpohFC92icso",
    "outputId": "2a5e4de5-a5b6-4d66-ad1d-ab9256b8242f"
   },
   "outputs": [
    {
     "data": {
      "text/plain": [
       "[1, 3, 'Hola', 7]"
      ]
     },
     "execution_count": 15,
     "metadata": {},
     "output_type": "execute_result"
    }
   ],
   "source": [
    "#Si no se especficia ni el inicio ni el final, toma todos los índices\n",
    "# de acuerdo al paso que se le entregó.\n",
    "lista[::2]"
   ]
  },
  {
   "cell_type": "markdown",
   "metadata": {
    "id": "YVJPM3P0NI6z"
   },
   "source": [
    "Para acceder a una lista definida dentro de otra, se usa una sintaxis de doble corchete, uno por cada lista. Lista[][]. Donde el primer corchete es para la lista externa, y el segundo para la interna. Funciona con el indexado positivo y negativo."
   ]
  },
  {
   "cell_type": "code",
   "execution_count": 16,
   "metadata": {
    "colab": {
     "base_uri": "https://localhost:8080/"
    },
    "id": "4b9PiIIzs5nd",
    "outputId": "324dfee4-06b0-4b79-9800-bd78be0c1282"
   },
   "outputs": [
    {
     "name": "stdout",
     "output_type": "stream",
     "text": [
      "2\n",
      "2\n"
     ]
    }
   ],
   "source": [
    "#Ver los elementos de una lista dentro de otra lista\n",
    "print(lista[5][1])\n",
    "\n",
    "# ¿Cómo sería usando la otra forma del indexado?\n",
    "print(lista[-3][1])"
   ]
  },
  {
   "cell_type": "markdown",
   "metadata": {
    "id": "5IgyUfqWOmAX"
   },
   "source": [
    "### Organizando listas\n",
    "\n",
    "Es posible organizar los valores contenidos dentro de las listas en orden ascendente o descendente. Es importante que los valores dentro de la lista sean del mismo tipo, es decir, comparables entre sí."
   ]
  },
  {
   "cell_type": "code",
   "execution_count": 17,
   "metadata": {
    "id": "ijS-1b30tDHP"
   },
   "outputs": [],
   "source": [
    "#lista.sort() #Método para ordenar elementos de la lista"
   ]
  },
  {
   "cell_type": "markdown",
   "metadata": {
    "id": "HVSr_zTwO5b6"
   },
   "source": [
    "Por ejemplo, si se tiene que los valores dentro de la lista son cadenas de caracteres, la organización será en orden alfabético. Cabe resaltar que al ser python un lenguaje escrito en inglés, hay caracteres que no reconoce y por tanto no organiza. por ejemplo palabras con tildes o la letra ñ."
   ]
  },
  {
   "cell_type": "code",
   "execution_count": 18,
   "metadata": {
    "colab": {
     "base_uri": "https://localhost:8080/"
    },
    "id": "X6oHRj2nm9nb",
    "outputId": "1790f8d2-e3b5-4a9d-f5fa-9d40544745d7"
   },
   "outputs": [
    {
     "data": {
      "text/plain": [
       "['barrio', 'window', 'zapato', 'árbol', 'ñoño']"
      ]
     },
     "execution_count": 18,
     "metadata": {},
     "output_type": "execute_result"
    }
   ],
   "source": [
    "#Sort organiza los valores dentro de la lista, sin necesidad de tener que\n",
    "# definir otra o cambiarle el nombre\n",
    "lista1 = ['barrio','zapato','window','ñoño','árbol']\n",
    "lista1.sort()\n",
    "lista1"
   ]
  },
  {
   "cell_type": "code",
   "execution_count": 19,
   "metadata": {
    "colab": {
     "base_uri": "https://localhost:8080/"
    },
    "id": "ioQSO7ZMn04u",
    "outputId": "96b10c0d-2f1d-4230-9f2a-f63b5d311bc4"
   },
   "outputs": [
    {
     "data": {
      "text/plain": [
       "[-10, 1, 20, 127, 200, 3659]"
      ]
     },
     "execution_count": 19,
     "metadata": {},
     "output_type": "execute_result"
    }
   ],
   "source": [
    "#Si todos los valores son numéricos, los organiza por defecto en orden\n",
    "# ascendente, es decir, de menor a mayor.\n",
    "\n",
    "lista2 = [200,1,3659,20,127,-10]\n",
    "lista2.sort()\n",
    "lista2"
   ]
  },
  {
   "cell_type": "code",
   "execution_count": 20,
   "metadata": {
    "colab": {
     "base_uri": "https://localhost:8080/"
    },
    "id": "nowlBLu2oI7c",
    "outputId": "7f956ac7-e3b0-45d7-959b-cc97ff64e079"
   },
   "outputs": [
    {
     "data": {
      "text/plain": [
       "[3659, 200, 127, 20, 1, -10]"
      ]
     },
     "execution_count": 20,
     "metadata": {},
     "output_type": "execute_result"
    }
   ],
   "source": [
    "# Si a sort se le entrega el argumento reverse=True, revierte el orden por defecto.\n",
    "# es decir, entregará los valores organizados de mayor a menor.\n",
    "\n",
    "lista3 = [200,1,3659,20,127,-10]\n",
    "lista3.sort(reverse=True)\n",
    "lista3"
   ]
  },
  {
   "cell_type": "markdown",
   "metadata": {
    "id": "ADZDEQirP_7w"
   },
   "source": [
    "### Conocer el índice de un elemento dentro de la lista\n",
    "\n",
    "Es posible conocer el índice de un valor contenido en una lista, usando el módulo .index.\n",
    "\n",
    "Este entrega el índice en el que se encuentra un valor en la estructura."
   ]
  },
  {
   "cell_type": "code",
   "execution_count": 21,
   "metadata": {
    "colab": {
     "base_uri": "https://localhost:8080/"
    },
    "id": "KudUVhChtJkl",
    "outputId": "860737f7-a7e8-42e5-ea33-34b018e2a604"
   },
   "outputs": [
    {
     "data": {
      "text/plain": [
       "4"
      ]
     },
     "execution_count": 21,
     "metadata": {},
     "output_type": "execute_result"
    }
   ],
   "source": [
    "# Si quiero conocer en qué posición está el elemento 'Hola'\n",
    "lista.index('Hola')"
   ]
  },
  {
   "cell_type": "code",
   "execution_count": 22,
   "metadata": {
    "colab": {
     "base_uri": "https://localhost:8080/",
     "height": 36
    },
    "id": "o7Jm7g16tQRN",
    "outputId": "c7ac6913-b7bc-4138-c341-205fecdb9c2e"
   },
   "outputs": [
    {
     "data": {
      "text/plain": [
       "'Hola'"
      ]
     },
     "execution_count": 22,
     "metadata": {},
     "output_type": "execute_result"
    }
   ],
   "source": [
    "lista[4]"
   ]
  },
  {
   "cell_type": "markdown",
   "metadata": {
    "id": "_dSIXunnRWnJ"
   },
   "source": [
    "### Reasignación de valores\n",
    "\n",
    "Las listas pueden ser modificadas, incluso se pueden cambiar valores con los que se definieron."
   ]
  },
  {
   "cell_type": "code",
   "execution_count": 23,
   "metadata": {
    "colab": {
     "base_uri": "https://localhost:8080/"
    },
    "id": "MYvEwE5DtRnN",
    "outputId": "bd6d2b93-2427-4860-df1b-a946eaf6b560"
   },
   "outputs": [
    {
     "name": "stdout",
     "output_type": "stream",
     "text": [
      "5\n"
     ]
    }
   ],
   "source": [
    "# Los valores dentro de una lista pueden ser asignados y reasignados\n",
    "lista[4] = 5\n",
    "print(lista[4])"
   ]
  },
  {
   "cell_type": "code",
   "execution_count": 24,
   "metadata": {
    "colab": {
     "base_uri": "https://localhost:8080/"
    },
    "id": "jmLa4b3LH-xe",
    "outputId": "eb424b28-5fbb-4f3d-c626-b57aa091bee1"
   },
   "outputs": [
    {
     "name": "stdout",
     "output_type": "stream",
     "text": [
      "[1, 2.7, 3, 4, 5, [1, 2, 3], 7, [12, 1, 0]]\n"
     ]
    }
   ],
   "source": [
    "print(lista)"
   ]
  },
  {
   "cell_type": "code",
   "execution_count": 25,
   "metadata": {
    "colab": {
     "base_uri": "https://localhost:8080/"
    },
    "id": "SFQpzdF9nIpT",
    "outputId": "b997d97c-93a2-4843-bae4-e5c931004bad"
   },
   "outputs": [
    {
     "name": "stdout",
     "output_type": "stream",
     "text": [
      "[0, 4, 5, [1, 2, 3], 7, [12, 1, 0]]\n"
     ]
    }
   ],
   "source": [
    "# Se pueden reasignar varios valores al tiempo.\n",
    "lista[0:3] = [0]\n",
    "print(lista)\n"
   ]
  },
  {
   "cell_type": "markdown",
   "metadata": {
    "id": "MhSpzTGgSxv2"
   },
   "source": [
    "### Otras funciones\n",
    "\n",
    "Es posible manipular listas de diversas formas. A continuación algunas más."
   ]
  },
  {
   "cell_type": "code",
   "execution_count": 26,
   "metadata": {
    "colab": {
     "base_uri": "https://localhost:8080/"
    },
    "id": "Jho7gzlzuL76",
    "outputId": "4a479563-f44e-42b3-a297-8a65d80b3b0e"
   },
   "outputs": [
    {
     "data": {
      "text/plain": [
       "[1, 3, 5, 7, 9, 11, 13, 15, 17, 19]"
      ]
     },
     "execution_count": 26,
     "metadata": {},
     "output_type": "execute_result"
    }
   ],
   "source": [
    "# Con las funciones 'list' y 'range' se puede crear una lista\n",
    "# con valores entre un valor a, hasta un valor b, con un espaciado c\n",
    "lista = list(range(1,20,2))   #a=1, b=20, c=1\n",
    "lista"
   ]
  },
  {
   "cell_type": "code",
   "execution_count": 27,
   "metadata": {
    "colab": {
     "base_uri": "https://localhost:8080/"
    },
    "id": "O8xR8CqDtnSJ",
    "outputId": "6f9cc36c-4a12-4bf9-9f14-c3e629e88668"
   },
   "outputs": [
    {
     "data": {
      "text/plain": [
       "[19, 17, 15, 13, 11, 9, 7, 5, 3, 1]"
      ]
     },
     "execution_count": 27,
     "metadata": {},
     "output_type": "execute_result"
    }
   ],
   "source": [
    "#Invierte el orden de la lista\n",
    "lista.reverse()\n",
    "lista"
   ]
  },
  {
   "cell_type": "markdown",
   "metadata": {
    "id": "gP4x1LeqlUbY"
   },
   "source": [
    "**Nota:** Los string son inmutables, al aplicar un método sobre este no cambia el string. A diferencia de los string, las listas son mutables y cada método que se aplique sobre esta modifica la lista."
   ]
  },
  {
   "cell_type": "code",
   "execution_count": 28,
   "metadata": {
    "colab": {
     "base_uri": "https://localhost:8080/"
    },
    "id": "Rw8mvNmevRkU",
    "outputId": "822f35e3-fbfd-47db-92d1-3e0bf58a6760"
   },
   "outputs": [
    {
     "data": {
      "text/plain": [
       "[19, 17, 15, 11, 9, 7, 5, 3, 1]"
      ]
     },
     "execution_count": 28,
     "metadata": {},
     "output_type": "execute_result"
    }
   ],
   "source": [
    "# Elimina elementos de la lista especificando su índice, no el valor del elemento.\n",
    "lista.pop(3)\n",
    "lista"
   ]
  },
  {
   "cell_type": "code",
   "execution_count": 29,
   "metadata": {
    "colab": {
     "base_uri": "https://localhost:8080/"
    },
    "id": "xssDkP0svtLG",
    "outputId": "850c4444-7142-45c9-fee0-ca28b15beb67"
   },
   "outputs": [
    {
     "data": {
      "text/plain": [
       "[19, 17, 15, 11, 9, 50000, 7, 5, 3, 1]"
      ]
     },
     "execution_count": 29,
     "metadata": {},
     "output_type": "execute_result"
    }
   ],
   "source": [
    "# Se puede insertar un nuevo elemento en la lista, especificando el elemento y el\n",
    "# índice\n",
    "lista.insert(5, 50000)    #Inserta el 50000 para que tenga el índice 5\n",
    "lista"
   ]
  },
  {
   "cell_type": "code",
   "execution_count": 30,
   "metadata": {
    "colab": {
     "base_uri": "https://localhost:8080/"
    },
    "id": "Xt3VOkHuvhjU",
    "outputId": "e1da7126-c967-4720-c603-2dc1dbb6e647"
   },
   "outputs": [
    {
     "data": {
      "text/plain": [
       "[19, 17, 15, 11, 9, 7, 5, 3, 1]"
      ]
     },
     "execution_count": 30,
     "metadata": {},
     "output_type": "execute_result"
    }
   ],
   "source": [
    "#Permite eliminar un elemento de la lista, siempre elimina el primero que se encuentre\n",
    "# Acá a diferencia de 'pop', elimina el el elemento por su valor, no por su índice\n",
    "lista.remove(50000)\n",
    "lista"
   ]
  },
  {
   "cell_type": "code",
   "execution_count": 31,
   "metadata": {
    "colab": {
     "base_uri": "https://localhost:8080/"
    },
    "id": "B4ZTYxoLwMMd",
    "outputId": "3533b433-67aa-4405-fa50-439d53ad3f96"
   },
   "outputs": [
    {
     "data": {
      "text/plain": [
       "0"
      ]
     },
     "execution_count": 31,
     "metadata": {},
     "output_type": "execute_result"
    }
   ],
   "source": [
    "#Podemos determinar cuántas veces está un elemento dado en una lista\n",
    "lista.count(10)"
   ]
  },
  {
   "cell_type": "code",
   "execution_count": 32,
   "metadata": {
    "colab": {
     "base_uri": "https://localhost:8080/"
    },
    "id": "_hpoYXnqwOcp",
    "outputId": "3a6c8244-40a8-497c-887c-d4afbe3fae34"
   },
   "outputs": [
    {
     "data": {
      "text/plain": [
       "1"
      ]
     },
     "execution_count": 32,
     "metadata": {},
     "output_type": "execute_result"
    }
   ],
   "source": [
    "lista.count(7)"
   ]
  },
  {
   "cell_type": "code",
   "execution_count": 33,
   "metadata": {
    "colab": {
     "base_uri": "https://localhost:8080/"
    },
    "id": "27shHm7kwQiu",
    "outputId": "677d13d6-9d06-4c72-cf8f-1c900ed6f381"
   },
   "outputs": [
    {
     "data": {
      "text/plain": [
       "0"
      ]
     },
     "execution_count": 33,
     "metadata": {},
     "output_type": "execute_result"
    }
   ],
   "source": [
    "lista.count(14)"
   ]
  },
  {
   "cell_type": "code",
   "execution_count": 34,
   "metadata": {
    "colab": {
     "base_uri": "https://localhost:8080/"
    },
    "id": "dcSv8MQ-wuaz",
    "outputId": "0f414b11-28b3-4c03-ee19-cee7a7e90698"
   },
   "outputs": [
    {
     "data": {
      "text/plain": [
       "0"
      ]
     },
     "execution_count": 34,
     "metadata": {},
     "output_type": "execute_result"
    }
   ],
   "source": [
    "lista.count('Daniel')"
   ]
  },
  {
   "cell_type": "code",
   "execution_count": 35,
   "metadata": {
    "colab": {
     "base_uri": "https://localhost:8080/"
    },
    "id": "y4esC0JOo904",
    "outputId": "c9408345-ea9d-4cb9-a465-bebb2da6dd1c"
   },
   "outputs": [
    {
     "data": {
      "text/plain": [
       "9"
      ]
     },
     "execution_count": 35,
     "metadata": {},
     "output_type": "execute_result"
    }
   ],
   "source": [
    "# La función 'len' nos permite conocer la cantidad de elementos de una lista.\n",
    "# si alguno de esos elementos es otra lista, cuenta toda esa lista interna como\n",
    "# un solo elemento.\n",
    "len(lista)"
   ]
  },
  {
   "cell_type": "markdown",
   "metadata": {
    "id": "vIGwgsWDxPJq"
   },
   "source": [
    "### Operador `in`\n",
    "\n",
    "Sirve para verificar si un elemento está dentro de una lista, string, tupla, etc..."
   ]
  },
  {
   "cell_type": "code",
   "execution_count": 36,
   "metadata": {
    "colab": {
     "base_uri": "https://localhost:8080/"
    },
    "id": "7EX5jyBaxGfE",
    "outputId": "61bf67b4-4d68-43cd-976f-ed614149e60a"
   },
   "outputs": [
    {
     "data": {
      "text/plain": [
       "False"
      ]
     },
     "execution_count": 36,
     "metadata": {},
     "output_type": "execute_result"
    }
   ],
   "source": [
    "'Juan' in lista"
   ]
  },
  {
   "cell_type": "code",
   "execution_count": 37,
   "metadata": {
    "colab": {
     "base_uri": "https://localhost:8080/"
    },
    "id": "JYRabQ7txX2b",
    "outputId": "0a76e01c-d2e0-4aed-9f1f-22d3a7550c4b"
   },
   "outputs": [
    {
     "data": {
      "text/plain": [
       "False"
      ]
     },
     "execution_count": 37,
     "metadata": {},
     "output_type": "execute_result"
    }
   ],
   "source": [
    "' Daniel' in lista"
   ]
  },
  {
   "cell_type": "code",
   "execution_count": 38,
   "metadata": {
    "colab": {
     "base_uri": "https://localhost:8080/"
    },
    "id": "-XN5lqCFLU6H",
    "outputId": "fa99be6a-c124-4a76-ce12-080a3372e126"
   },
   "outputs": [
    {
     "name": "stdout",
     "output_type": "stream",
     "text": [
      "1\n",
      "2\n",
      "3\n",
      "4\n",
      "5\n",
      "6\n",
      "7\n",
      "8\n",
      "9\n"
     ]
    }
   ],
   "source": [
    "for i in range(1,10):\n",
    "  print(i)"
   ]
  },
  {
   "cell_type": "code",
   "execution_count": 39,
   "metadata": {
    "colab": {
     "base_uri": "https://localhost:8080/"
    },
    "id": "nIClQ_VHOXo8",
    "outputId": "e8ba36eb-1996-4f3a-bf35-594967b3a98f"
   },
   "outputs": [
    {
     "name": "stdout",
     "output_type": "stream",
     "text": [
      "20\n",
      "18\n",
      "16\n",
      "12\n",
      "10\n",
      "8\n",
      "6\n",
      "4\n",
      "2\n"
     ]
    }
   ],
   "source": [
    "for i in lista:\n",
    "  print(i+1)"
   ]
  },
  {
   "cell_type": "markdown",
   "metadata": {
    "id": "EpQ4N6Mnxjw6"
   },
   "source": [
    "### Operaciones con listas\n",
    "\n",
    "Las operaciones con las listas son similares a las operaciones realizadas con los strings. En este caso la operación de adición **(+)** concatena los elementos de las listas. Igualmente, la operación del producto **(*)** multiplica la lista la cantidad de veces por la que se multiplique."
   ]
  },
  {
   "cell_type": "code",
   "execution_count": 40,
   "metadata": {
    "colab": {
     "base_uri": "https://localhost:8080/"
    },
    "id": "rWO5pFg6xcVl",
    "outputId": "0fb8442b-9fcd-4160-a39a-3a869e2fcf7d"
   },
   "outputs": [
    {
     "data": {
      "text/plain": [
       "[19, 17, 15, 11, 9, 7, 5, 3, 1, 19, 17, 15, 11, 9, 7, 5, 3, 1]"
      ]
     },
     "execution_count": 40,
     "metadata": {},
     "output_type": "execute_result"
    }
   ],
   "source": [
    "lista + lista"
   ]
  },
  {
   "cell_type": "code",
   "execution_count": 41,
   "metadata": {
    "colab": {
     "base_uri": "https://localhost:8080/"
    },
    "id": "SkIrK2Nwxo46",
    "outputId": "87cca7b0-2b11-47c0-a188-803b8ac3069d"
   },
   "outputs": [
    {
     "data": {
      "text/plain": [
       "[19,\n",
       " 17,\n",
       " 15,\n",
       " 11,\n",
       " 9,\n",
       " 7,\n",
       " 5,\n",
       " 3,\n",
       " 1,\n",
       " 19,\n",
       " 17,\n",
       " 15,\n",
       " 11,\n",
       " 9,\n",
       " 7,\n",
       " 5,\n",
       " 3,\n",
       " 1,\n",
       " 19,\n",
       " 17,\n",
       " 15,\n",
       " 11,\n",
       " 9,\n",
       " 7,\n",
       " 5,\n",
       " 3,\n",
       " 1]"
      ]
     },
     "execution_count": 41,
     "metadata": {},
     "output_type": "execute_result"
    }
   ],
   "source": [
    "lista*3"
   ]
  },
  {
   "cell_type": "code",
   "execution_count": 42,
   "metadata": {
    "id": "V0zRqbtNx0lx"
   },
   "outputs": [],
   "source": [
    "lista = [1,2,3,4,5]\n",
    "lista1 = lista"
   ]
  },
  {
   "cell_type": "code",
   "execution_count": 43,
   "metadata": {
    "colab": {
     "base_uri": "https://localhost:8080/"
    },
    "id": "2vvargX2xugX",
    "outputId": "61a22c32-d9ec-48cf-de22-44c961ff176e"
   },
   "outputs": [
    {
     "data": {
      "text/plain": [
       "([0, 2, 3, 4, 5], [0, 2, 3, 4, 5])"
      ]
     },
     "execution_count": 43,
     "metadata": {},
     "output_type": "execute_result"
    }
   ],
   "source": [
    "lista1[0] = 0\n",
    "lista, lista1"
   ]
  },
  {
   "cell_type": "code",
   "execution_count": 44,
   "metadata": {
    "id": "GGH0o4WzyG3N"
   },
   "outputs": [],
   "source": [
    "lista[1] = 1"
   ]
  },
  {
   "cell_type": "markdown",
   "metadata": {
    "id": "nlUPLBcpm1G_"
   },
   "source": [
    "La realizar la igualdad de dos listas, por ejemplo,\n",
    "\n",
    "```\n",
    "lista1 = lista\n",
    "```\n",
    "No se realiza una copia de la lista como tal, lo que hace python es crear una conexión entre la dirección de memoria en las dos variables. Por lo tanto, al realizar un cambio en una de las listas también se realiza el cambio en la otra lista.\n",
    "\n",
    "Para asignar una nueva lista a la variable lista1 se debe de realizar una copia de la lista mediante el método **.copy()**\n"
   ]
  },
  {
   "cell_type": "code",
   "execution_count": 45,
   "metadata": {
    "colab": {
     "base_uri": "https://localhost:8080/"
    },
    "id": "o4BZ2Q8zyVov",
    "outputId": "c3b0494a-6bf0-4cd4-fd88-201c09e7fac4"
   },
   "outputs": [
    {
     "data": {
      "text/plain": [
       "([0, 1, 3, 4, 5], [0, 1, 3, 4, 5], [0, 1, 3, 4, 5])"
      ]
     },
     "execution_count": 45,
     "metadata": {},
     "output_type": "execute_result"
    }
   ],
   "source": [
    "lista2 = lista.copy()\n",
    "lista, lista1, lista2"
   ]
  },
  {
   "cell_type": "code",
   "execution_count": 46,
   "metadata": {
    "colab": {
     "base_uri": "https://localhost:8080/"
    },
    "id": "ShxV2Q8qyxbv",
    "outputId": "0c1aeb13-1c98-44c4-c76e-1fc99794aecd"
   },
   "outputs": [
    {
     "data": {
      "text/plain": [
       "([1, 1, 3, 4, 5], [1, 1, 3, 4, 5], [0, 1, 3, 4, 5])"
      ]
     },
     "execution_count": 46,
     "metadata": {},
     "output_type": "execute_result"
    }
   ],
   "source": [
    "lista[0] = 1\n",
    "lista, lista1, lista2"
   ]
  },
  {
   "cell_type": "markdown",
   "metadata": {
    "id": "uRwr3Mg_zBtb"
   },
   "source": [
    "### Listas dentro listas"
   ]
  },
  {
   "cell_type": "code",
   "execution_count": 47,
   "metadata": {
    "id": "AjVyLffoy2lm"
   },
   "outputs": [],
   "source": [
    "lista = [[1,2,3],[4,5,6],[7,8,9]]\n",
    "lista1 = lista.copy()"
   ]
  },
  {
   "cell_type": "code",
   "execution_count": 48,
   "metadata": {
    "colab": {
     "base_uri": "https://localhost:8080/"
    },
    "id": "SSOGMS4UzKgW",
    "outputId": "cd838ce6-b1bb-4ad5-e3da-65c17bce6654"
   },
   "outputs": [
    {
     "data": {
      "text/plain": [
       "([[1, 2, 3], [4, 5, 6], [7, 8, 9]], [[1, 2, 3], [4, 5, 6], [7, 8, 9]])"
      ]
     },
     "execution_count": 48,
     "metadata": {},
     "output_type": "execute_result"
    }
   ],
   "source": [
    "lista, lista1"
   ]
  },
  {
   "cell_type": "code",
   "execution_count": 49,
   "metadata": {
    "colab": {
     "base_uri": "https://localhost:8080/"
    },
    "id": "TCC0Bs8PzLWH",
    "outputId": "2f73d6e8-523c-469d-b71c-94b799494341"
   },
   "outputs": [
    {
     "data": {
      "text/plain": [
       "([[0, 2, 3], [4, 5, 6], [7, 8, 9]], [[0, 2, 3], [4, 5, 6], [7, 8, 9]])"
      ]
     },
     "execution_count": 49,
     "metadata": {},
     "output_type": "execute_result"
    }
   ],
   "source": [
    "lista[0][0] = 0\n",
    "lista, lista1"
   ]
  },
  {
   "cell_type": "markdown",
   "metadata": {
    "id": "kqhkt9Qcob5b"
   },
   "source": [
    "**Ejercicio:**\n",
    "1. Cree una lista de 4 entradas, donde cada una de ellas sea una lista de 3 entradas.\n",
    "2. Acceda a 4 valores de esa lista. Que dicho valor no sea una de las listas interiores, que sea el valor individual.\n",
    "3. Reasigne los elementos de la lista con valores, que dichos elementos no sean más listas.\n",
    "4. Ordene de mayor a menor dichos elementos.\n",
    "5. Ordene de menor a mayor dichos elementos.\n",
    "6. Elimine dos elementos de la lista.\n",
    "7. Imprima la lista resultante"
   ]
  },
  {
   "cell_type": "markdown",
   "metadata": {
    "id": "285FaUbnPVyU"
   },
   "source": [
    "## Tuplas\n",
    "\n",
    "Las tuplas en Python o tuples son muy similares a las listas, pero con dos diferencias. Son inmutables, lo que significa que no pueden ser modificadas una vez declaradas, y en vez de inicializarse con corchetes se hace con (). Dependiendo de lo que queramos hacer, las tuplas pueden ser más rápidas.\n",
    "\n",
    "[Referencia sobre tuplas de Python](https://docs.python.org/3/tutorial/datastructures.html#tuples-and-sequences)"
   ]
  },
  {
   "cell_type": "markdown",
   "metadata": {
    "id": "aVmO3HOsQ8Ks"
   },
   "source": [
    "Se declara una tupla como sigue"
   ]
  },
  {
   "cell_type": "code",
   "execution_count": 50,
   "metadata": {
    "colab": {
     "base_uri": "https://localhost:8080/"
    },
    "id": "61Bo69ZSPW7t",
    "outputId": "4e30f961-46fa-455f-a7a3-fa1ae6c813d4"
   },
   "outputs": [
    {
     "name": "stdout",
     "output_type": "stream",
     "text": [
      "(1, 2, 3)\n"
     ]
    }
   ],
   "source": [
    "tupla = (1, 2, 3)\n",
    "print(tupla)"
   ]
  },
  {
   "cell_type": "markdown",
   "metadata": {
    "id": "i3Y6aDUgQ-Ws"
   },
   "source": [
    "También se puede hacer sin necesidad de los paréntesis"
   ]
  },
  {
   "cell_type": "code",
   "execution_count": 51,
   "metadata": {
    "colab": {
     "base_uri": "https://localhost:8080/"
    },
    "id": "o8oxvse8QqjY",
    "outputId": "70c99614-9b8e-43d7-da65-848a72f973c9"
   },
   "outputs": [
    {
     "name": "stdout",
     "output_type": "stream",
     "text": [
      "(1, 2, 3)\n"
     ]
    }
   ],
   "source": [
    "tupla = 1,2,3\n",
    "print(tupla)"
   ]
  },
  {
   "cell_type": "code",
   "execution_count": 52,
   "metadata": {
    "colab": {
     "base_uri": "https://localhost:8080/"
    },
    "id": "LxTmAjpyNAy2",
    "outputId": "fc9fea00-a39d-4c14-f59f-b95163b9fb00"
   },
   "outputs": [
    {
     "data": {
      "text/plain": [
       "[1, (1, 2, 3)]"
      ]
     },
     "execution_count": 52,
     "metadata": {},
     "output_type": "execute_result"
    }
   ],
   "source": [
    "lista = [1, tupla]\n",
    "lista"
   ]
  },
  {
   "cell_type": "code",
   "execution_count": 53,
   "metadata": {
    "colab": {
     "base_uri": "https://localhost:8080/"
    },
    "id": "xw_Oo_OqNIRv",
    "outputId": "15491394-97ce-44cd-b680-435983d18f14"
   },
   "outputs": [
    {
     "data": {
      "text/plain": [
       "([1, (1, 2, 3)], [1, (1, 2, 3)])"
      ]
     },
     "execution_count": 53,
     "metadata": {},
     "output_type": "execute_result"
    }
   ],
   "source": [
    "tupla = lista, lista\n",
    "tupla"
   ]
  },
  {
   "cell_type": "markdown",
   "metadata": {
    "id": "405sXxLNVC-C"
   },
   "source": [
    "Se accede a sus valores con la misma indexación usada para las listas"
   ]
  },
  {
   "cell_type": "code",
   "execution_count": 54,
   "metadata": {
    "colab": {
     "base_uri": "https://localhost:8080/"
    },
    "id": "6-GGEMboRDVV",
    "outputId": "2554d424-7946-46e0-85ce-82643142db48"
   },
   "outputs": [
    {
     "data": {
      "text/plain": [
       "[1, (1, 2, 3)]"
      ]
     },
     "execution_count": 54,
     "metadata": {},
     "output_type": "execute_result"
    }
   ],
   "source": [
    "tupla[1]"
   ]
  },
  {
   "cell_type": "markdown",
   "metadata": {
    "id": "Se-fjFVDo3Nc"
   },
   "source": [
    "### Operaciones con Tuplas"
   ]
  },
  {
   "cell_type": "markdown",
   "metadata": {
    "id": "cAkz5Kp9o8rt"
   },
   "source": [
    "Las tuplas son tipos inmutables, lo que significa que una vez asignado su valor, no puede ser modificado."
   ]
  },
  {
   "cell_type": "code",
   "execution_count": 55,
   "metadata": {
    "id": "ckhA4SjxVAIF"
   },
   "outputs": [],
   "source": [
    "tupla = (1, 2, 3)\n",
    "#tupla[0] = 5"
   ]
  },
  {
   "cell_type": "markdown",
   "metadata": {
    "id": "6BBZxQzcpdmv"
   },
   "source": [
    "Al igual que las listas, las tuplas también pueden ser anidadas."
   ]
  },
  {
   "cell_type": "code",
   "execution_count": 56,
   "metadata": {
    "colab": {
     "base_uri": "https://localhost:8080/"
    },
    "id": "Z28n8ywZo7GL",
    "outputId": "fba2eda7-d97e-4fd6-ffac-b81aa6ae74c1"
   },
   "outputs": [
    {
     "name": "stdout",
     "output_type": "stream",
     "text": [
      "(1, 2, ('a', 'b'), 3)\n",
      "a\n"
     ]
    }
   ],
   "source": [
    "tupla = 1, 2, ('a', 'b'), 3\n",
    "print(tupla)\n",
    "print(tupla[2][0])"
   ]
  },
  {
   "cell_type": "markdown",
   "metadata": {
    "id": "hfWI3EYAqT_l"
   },
   "source": [
    "Es posible convertir una lista en una tupla. ¿Será posible en el sentido contrario?"
   ]
  },
  {
   "cell_type": "code",
   "execution_count": 57,
   "metadata": {
    "colab": {
     "base_uri": "https://localhost:8080/"
    },
    "id": "4Kqr-6gbph5D",
    "outputId": "b7db2127-39bf-4c73-b1ff-a0c836317779"
   },
   "outputs": [
    {
     "name": "stdout",
     "output_type": "stream",
     "text": [
      "<class 'tuple'>\n",
      "(1, 2, 3)\n"
     ]
    }
   ],
   "source": [
    "lista = [1, 2, 3]\n",
    "tupla = tuple(lista)\n",
    "print(type(tupla))\n",
    "print(tupla)"
   ]
  },
  {
   "cell_type": "markdown",
   "metadata": {
    "id": "7DNr0wkwr9wa"
   },
   "source": [
    "Al igual que con las listas, se puede iterar sobre las tuplas"
   ]
  },
  {
   "cell_type": "code",
   "execution_count": 58,
   "metadata": {
    "colab": {
     "base_uri": "https://localhost:8080/"
    },
    "id": "GjXEOeGUqa3C",
    "outputId": "243130f3-6aa7-4e03-fe66-5bd764a7a078"
   },
   "outputs": [
    {
     "name": "stdout",
     "output_type": "stream",
     "text": [
      "1\n",
      "2\n",
      "3\n"
     ]
    }
   ],
   "source": [
    "for i in tupla:\n",
    "  print(i)"
   ]
  },
  {
   "cell_type": "markdown",
   "metadata": {
    "id": "vPRq5W_-sL_L"
   },
   "source": [
    "Una de sus mayores utilidades es que se puede asignar el valor de una tupla de $n$ elementos, a $n$ variables."
   ]
  },
  {
   "cell_type": "code",
   "execution_count": 59,
   "metadata": {
    "colab": {
     "base_uri": "https://localhost:8080/"
    },
    "id": "KOdpgpBysEz-",
    "outputId": "f7b2c611-9756-425f-befd-151eb5235b4c"
   },
   "outputs": [
    {
     "name": "stdout",
     "output_type": "stream",
     "text": [
      "1 2 3\n"
     ]
    }
   ],
   "source": [
    "x,y,z = tupla\n",
    "print(x,y,z)"
   ]
  },
  {
   "cell_type": "markdown",
   "metadata": {
    "id": "jlhZb9cbXL1c"
   },
   "source": [
    "## Ejercicios\n",
    "\n",
    "1. Escriba un programa que comience leyendo del usuario las edades de todos los invitados de un grupo, con una edad introducida en cada línea. El usuario introducirá una línea en blanco para indicar que no hay más invitados en el grupo. A continuación, el programa debe mostrar el costo de la entrada para el grupo con un mensaje apropiado. El costo debe mostrarse con dos decimales.\n",
    "\n",
    "2. Escriba un programa que calcula función exponencial a partir de la siguiente serie:\n",
    "\n",
    "$$\n",
    "e^x=\\sum_{n=0}^N \\frac{x^n}{n!}\n",
    "$$\n",
    "\n",
    "3.Escriba un programa que calcula función $\\operatorname{sin}$ a partir de la siguiente serie:\n",
    "$\n",
    " \\\\sin(x)=\\sum_{n=0}^N(-1)^n\\frac{x^{2n+1}}{(2n+1)!}\n",
    "$\n",
    "\n",
    "4. Escriba un programa que calcula función cos a partir de la siguiente serie:\n",
    "$\n",
    " \\\\cos(x)=\\sum_{n=0}^N(-1)^n\\frac{x^{2n}}{(2n)!}\n",
    "$\n",
    "\n",
    "4. Un proyectil lanzado verticalmente con una velocidad inicial $v_o$ tendrá una posición $y$ y velocidad $v$, en el tiempo $t$, dadas por:\n",
    "\n",
    "$$\n",
    "y = y_o + v_o t - \\frac{1}{2}gt^2$$\n",
    "$$v = v_o -gt$$\n",
    "\n",
    "\n",
    "donde $y_o$ es la altura inicial y $g=9.8 \\text{m}/\\text{s}^2$ es la aceleración de la gravedad.\n",
    "\n",
    "Escriba un programa en el cual el usuario ingrese la altura inicial $y_o$ y la velocidad inicial $v_o$ y calcule la posición y la velocidad desde el momento inicial hasta el momento en que cae al suelo, cada $0.1\\ \\text{s}$.\n",
    "\n",
    "\n"
   ]
  },
  {
   "cell_type": "code",
   "execution_count": null,
   "metadata": {
    "id": "BFGj1rNTXKnu"
   },
   "outputs": [],
   "source": []
  }
 ],
 "metadata": {
  "colab": {
   "collapsed_sections": [
    "urHz3jU-dfq-",
    "5IgyUfqWOmAX",
    "285FaUbnPVyU",
    "Se-fjFVDo3Nc"
   ],
   "provenance": []
  },
  "kernelspec": {
   "display_name": "Python 3",
   "name": "python3"
  },
  "language_info": {
   "codemirror_mode": {
    "name": "ipython",
    "version": 3
   },
   "file_extension": ".py",
   "mimetype": "text/x-python",
   "name": "python",
   "nbconvert_exporter": "python",
   "pygments_lexer": "ipython3",
   "version": "3.9.12"
  }
 },
 "nbformat": 4,
 "nbformat_minor": 0
}
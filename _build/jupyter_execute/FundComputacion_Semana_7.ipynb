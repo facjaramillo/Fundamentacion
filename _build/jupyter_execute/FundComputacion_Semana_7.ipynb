{
 "cells": [
  {
   "cell_type": "markdown",
   "metadata": {
    "id": "DDQkkQMGdjOU"
   },
   "source": [
    "# Semana 7: Conjuntos y Diccionarios"
   ]
  },
  {
   "cell_type": "code",
   "execution_count": 1,
   "metadata": {
    "colab": {
     "base_uri": "https://localhost:8080/",
     "height": 321
    },
    "id": "DDUxI6RB9woh",
    "outputId": "fe2f11dc-9a8f-45e1-8b83-e41dfe2ca6a3"
   },
   "outputs": [
    {
     "data": {
      "image/jpeg": "[encoded data removed]",
      "text/html": [
       "\n",
       "        <iframe\n",
       "            width=\"400\"\n",
       "            height=\"300\"\n",
       "            src=\"https://www.youtube.com/embed/iMDnVtHTpjM\"\n",
       "            frameborder=\"0\"\n",
       "            allowfullscreen\n",
       "            \n",
       "        ></iframe>\n",
       "        "
      ],
      "text/plain": [
       "<IPython.lib.display.YouTubeVideo at 0x7f8388070af0>"
      ]
     },
     "execution_count": 1,
     "metadata": {},
     "output_type": "execute_result"
    }
   ],
   "source": [
    "from IPython.display import YouTubeVideo\n",
    "YouTubeVideo('iMDnVtHTpjM')"
   ]
  },
  {
   "cell_type": "markdown",
   "metadata": {
    "id": "CQxQuofSp8yF"
   },
   "source": [
    "## 7.1. Diccionarios\n",
    "\n",
    "Los diccionarios son poderosas estructuras de datos en Python que almacenan datos como pares de claves, siendo esta representada en la siguiente forma: Clave-Valor.\n",
    "\n",
    "\n",
    "\n",
    "*   Todos los elementos del diccionario se encuentran encerrados en un par de corchetes ({}).\n",
    "*   Cada elemento en un diccionario contiene una clave y un valor.\n",
    "*   Cada par de clave-valor es denominado como elemento (item).\n",
    "*   La ventaja de esto es que puedes acceder a todos los valores almacenados usando simplemente las claves.\n",
    "\n",
    "\n",
    "\n"
   ]
  },
  {
   "cell_type": "code",
   "execution_count": 2,
   "metadata": {
    "id": "0Y8LUJjfnzhe"
   },
   "outputs": [],
   "source": [
    "#ESTRUCTURA\n",
    "\n",
    "#mi_diccionario = {\"llave1\": valor1,\"llave2\": valor2,\"llave3\": valor3,\"llave4\": valor4}"
   ]
  },
  {
   "cell_type": "code",
   "execution_count": 3,
   "metadata": {
    "id": "Ax1mvepwoOz1"
   },
   "outputs": [],
   "source": [
    "notas = {'Fabio':3, 'Isaac':3.5}"
   ]
  },
  {
   "cell_type": "code",
   "execution_count": 4,
   "metadata": {
    "colab": {
     "base_uri": "https://localhost:8080/"
    },
    "id": "XLFJpGWqoeOT",
    "outputId": "1068c6a2-f12e-48d9-b0e3-90d9c8a12a63"
   },
   "outputs": [
    {
     "data": {
      "text/plain": [
       "dict"
      ]
     },
     "execution_count": 4,
     "metadata": {},
     "output_type": "execute_result"
    }
   ],
   "source": [
    "type(notas)"
   ]
  },
  {
   "cell_type": "code",
   "execution_count": 5,
   "metadata": {
    "colab": {
     "base_uri": "https://localhost:8080/"
    },
    "id": "fq6O3_meooNb",
    "outputId": "381d344d-4496-4669-a3c0-7a48e01b6c99"
   },
   "outputs": [
    {
     "data": {
      "text/plain": [
       "3"
      ]
     },
     "execution_count": 5,
     "metadata": {},
     "output_type": "execute_result"
    }
   ],
   "source": [
    "notas['Fabio']"
   ]
  },
  {
   "cell_type": "code",
   "execution_count": 6,
   "metadata": {
    "id": "kzlMLKQhrgCu"
   },
   "outputs": [],
   "source": [
    "Prueba_deportiva = {'Jorge':500,'Diana':600,'Rodrigo':800,'Julia':750,'Liliana':900}\n"
   ]
  },
  {
   "cell_type": "code",
   "execution_count": 7,
   "metadata": {
    "colab": {
     "base_uri": "https://localhost:8080/"
    },
    "id": "gnI14bf6sXeU",
    "outputId": "c1102607-7756-44b4-84a5-0dbd2f15e410"
   },
   "outputs": [
    {
     "data": {
      "text/plain": [
       "{'Jorge': 500, 'Diana': 600, 'Rodrigo': 800, 'Julia': 750, 'Liliana': 900}"
      ]
     },
     "execution_count": 7,
     "metadata": {},
     "output_type": "execute_result"
    }
   ],
   "source": [
    "Prueba_deportiva"
   ]
  },
  {
   "cell_type": "code",
   "execution_count": 8,
   "metadata": {
    "colab": {
     "base_uri": "https://localhost:8080/"
    },
    "id": "DdFJ_XgasZ-k",
    "outputId": "cffab1c8-bcd2-440a-f43f-1e052cbc01d1"
   },
   "outputs": [
    {
     "data": {
      "text/plain": [
       "800"
      ]
     },
     "execution_count": 8,
     "metadata": {},
     "output_type": "execute_result"
    }
   ],
   "source": [
    "Prueba_deportiva['Rodrigo']"
   ]
  },
  {
   "cell_type": "markdown",
   "metadata": {
    "id": "TTxz-YPF-2B2"
   },
   "source": [
    "Es posible que las claves sean números también, pero de esta forma se le quita un poco la ventaja a poder organizar una clave y un valor."
   ]
  },
  {
   "cell_type": "code",
   "execution_count": 9,
   "metadata": {
    "id": "_tKKGEvJs1XV"
   },
   "outputs": [],
   "source": [
    "Notas = {\n",
    "    1:4.6,\n",
    "    2:4,\n",
    "    3:2.9\n",
    "}"
   ]
  },
  {
   "cell_type": "code",
   "execution_count": 10,
   "metadata": {
    "colab": {
     "base_uri": "https://localhost:8080/"
    },
    "id": "deTNLxNG-tfu",
    "outputId": "9e1169c3-4cd6-444d-d430-36d73719a1bd"
   },
   "outputs": [
    {
     "data": {
      "text/plain": [
       "4.6"
      ]
     },
     "execution_count": 10,
     "metadata": {},
     "output_type": "execute_result"
    }
   ],
   "source": [
    "Notas[1]"
   ]
  },
  {
   "cell_type": "markdown",
   "metadata": {
    "id": "H0w8l5er0x75"
   },
   "source": [
    "Ejemplo"
   ]
  },
  {
   "cell_type": "markdown",
   "metadata": {
    "id": "7TCNx0bV5DMo"
   },
   "source": [
    "La tercera ley de Kepler establece la siguiente relación entre el periodo orbital $T$ de un planeta y la longitud del semieje mayor de su órbita $a$:\n",
    "\n",
    "$$T^2 = \\frac{4\\pi^2 a^3}{MG}$$\n",
    "\n",
    "donde $M = 1.989\\times10^{30}$ kg es la masa del sol y $G = 6.674\\times 10^{−11}$m$^3$/kg s$^2$ es la constante de gravitación universal. Escriba un programa donde dado el semieje mayor $a$ de 5 planetas (dados en forma de diccionario), se calcule y muestre en pantalla el periodo orbital del cuerpo en años.\n",
    "\n",
    "**Nota:** Debe indicar de forma precisa las unidades físicas tanto a la hora de pedir los datos de entrada, como al mostrar el resultado final. Adicionalmente, debe mostrar el resultado con tres cifras significativas y en notación científica."
   ]
  },
  {
   "cell_type": "code",
   "execution_count": 11,
   "metadata": {
    "colab": {
     "base_uri": "https://localhost:8080/"
    },
    "id": "Xk8zNw5p00xa",
    "outputId": "27d84570-db77-4ebd-b8c0-2cb858f3548c"
   },
   "outputs": [
    {
     "name": "stdout",
     "output_type": "stream",
     "text": [
      "El período es 1.187e+01 años\n"
     ]
    }
   ],
   "source": [
    "#Asignación de las constantes.\n",
    "M = 1.989e30\n",
    "G = 6.674e-11\n",
    "pi = 3.14159\n",
    "\n",
    "#Creacion del diccionario que contiene los datos de distancia de los planetas.\n",
    "#Completar, yo solo puse uno.\n",
    "planetas = {'Saturno':1.4331e12, 'Jupiter':7.78e11}\n",
    "a = planetas['Jupiter']  #Define la llave de \"Saturno\" como la variable a\n",
    "\n",
    "#Tercera ley de Kepler en unidades del Sistema Internacional\n",
    "T = ((4*pi**2*a**3)/(M*G))**0.5\n",
    "\n",
    "#Salida del período en años.\n",
    "print(f\"El período es {T/3.154e7:.3e} años\")"
   ]
  },
  {
   "cell_type": "markdown",
   "metadata": {
    "id": "40AeFeTvdrNQ"
   },
   "source": [
    "## 7.2. Conjuntos"
   ]
  },
  {
   "cell_type": "markdown",
   "metadata": {
    "id": "1BsIqIGzgIIH"
   },
   "source": [
    "Python también incluye un tipo de dato para conjuntos. Un conjunto es una colección no ordenada y sin elementos repetidos. Los usos básicos de éstos incluyen verificación de pertenencia y eliminación de entradas duplicadas. Los conjuntos también soportan operaciones matemáticas como la unión, intersección, diferencia, y diferencia simétrica."
   ]
  },
  {
   "cell_type": "markdown",
   "metadata": {
    "id": "xaR1VLd5j6bd"
   },
   "source": [
    "\n",
    "\n",
    "\n",
    "### 7.2.1. Declarar conjuntos"
   ]
  },
  {
   "cell_type": "code",
   "execution_count": 12,
   "metadata": {
    "id": "-lrD_3JT7kVF"
   },
   "outputs": [],
   "source": [
    "#Definimos el conjunto\n",
    "frutas = {'manzana', 'naranja', 'manzana', 'pera', 'naranja', 'banano'}"
   ]
  },
  {
   "cell_type": "code",
   "execution_count": 13,
   "metadata": {
    "colab": {
     "base_uri": "https://localhost:8080/"
    },
    "id": "TY5Aeoq5ud5j",
    "outputId": "97a06d1d-1ef1-4647-e10d-655d411cc56c"
   },
   "outputs": [
    {
     "name": "stdout",
     "output_type": "stream",
     "text": [
      "{'banano', 'pera', 'naranja', 'manzana'}\n"
     ]
    }
   ],
   "source": [
    "#imprimimos los elementos del conjunto.\n",
    "#Los elementos repetidos se descartan por defecto.\n",
    "print(frutas)"
   ]
  },
  {
   "cell_type": "code",
   "execution_count": 14,
   "metadata": {
    "colab": {
     "base_uri": "https://localhost:8080/"
    },
    "id": "s_-fzIW3vEf_",
    "outputId": "1a79bde1-e2f5-4302-d140-ce3394a7a5d4"
   },
   "outputs": [
    {
     "data": {
      "text/plain": [
       "True"
      ]
     },
     "execution_count": 14,
     "metadata": {},
     "output_type": "execute_result"
    }
   ],
   "source": [
    "#Se puede probar la pertenencia o no de un elemento a un conjunto\n",
    "'manzana' in frutas"
   ]
  },
  {
   "cell_type": "code",
   "execution_count": 15,
   "metadata": {
    "colab": {
     "base_uri": "https://localhost:8080/"
    },
    "id": "i0J8dHj5jaSg",
    "outputId": "aeac7754-89a9-4fcb-fe6a-8ea5cabf4b4c"
   },
   "outputs": [
    {
     "data": {
      "text/plain": [
       "False"
      ]
     },
     "execution_count": 15,
     "metadata": {},
     "output_type": "execute_result"
    }
   ],
   "source": [
    "#No pertenencia\n",
    "'piña' in frutas"
   ]
  },
  {
   "cell_type": "code",
   "execution_count": 16,
   "metadata": {
    "colab": {
     "base_uri": "https://localhost:8080/"
    },
    "id": "reTz7_mFpEbL",
    "outputId": "8a5341b0-6116-44e4-b81e-eb17bc1ed7d8"
   },
   "outputs": [
    {
     "data": {
      "text/plain": [
       "{'a', 'b', 'c', 'd', 'r'}"
      ]
     },
     "execution_count": 16,
     "metadata": {},
     "output_type": "execute_result"
    }
   ],
   "source": [
    "#Definimos el conjunto con set.\n",
    "a = set('abracadabra')\n",
    "a"
   ]
  },
  {
   "cell_type": "markdown",
   "metadata": {
    "id": "oIDGqC1Xj-zj"
   },
   "source": [
    "### 7.2.2. Operaciones sobre conjuntos"
   ]
  },
  {
   "cell_type": "code",
   "execution_count": 17,
   "metadata": {
    "id": "EvE8TYF9suj6"
   },
   "outputs": [],
   "source": [
    "a = set('abracadabra')\n",
    "b = set('alacazam')"
   ]
  },
  {
   "cell_type": "code",
   "execution_count": 18,
   "metadata": {
    "colab": {
     "base_uri": "https://localhost:8080/"
    },
    "id": "zRbXV9ulkelk",
    "outputId": "ee7672e6-958a-4e68-e99e-3e0102685cf2"
   },
   "outputs": [
    {
     "data": {
      "text/plain": [
       "{'b', 'd', 'r'}"
      ]
     },
     "execution_count": 18,
     "metadata": {},
     "output_type": "execute_result"
    }
   ],
   "source": [
    "#Arroja como resultado los elementos de a que NO están en b.\n",
    "a - b"
   ]
  },
  {
   "cell_type": "code",
   "execution_count": 19,
   "metadata": {
    "colab": {
     "base_uri": "https://localhost:8080/"
    },
    "id": "tvy6XOjvnALw",
    "outputId": "23ca8c72-02ed-468a-87a8-57e2950a0663"
   },
   "outputs": [
    {
     "data": {
      "text/plain": [
       "{'a', 'b', 'c', 'd', 'l', 'm', 'r', 'z'}"
      ]
     },
     "execution_count": 19,
     "metadata": {},
     "output_type": "execute_result"
    }
   ],
   "source": [
    "#Arroja como resultado elementos que están en a, o en b, o en ambos conjuntos\n",
    "a | b"
   ]
  },
  {
   "cell_type": "code",
   "execution_count": 20,
   "metadata": {
    "colab": {
     "base_uri": "https://localhost:8080/"
    },
    "id": "VWotaiXHna7s",
    "outputId": "323e823c-1e70-485e-dce4-f8c7b53953b8"
   },
   "outputs": [
    {
     "data": {
      "text/plain": [
       "{'a', 'c'}"
      ]
     },
     "execution_count": 20,
     "metadata": {},
     "output_type": "execute_result"
    }
   ],
   "source": [
    "#Arroja como resultado los elementos que están tanto en a como en b\n",
    "a & b"
   ]
  },
  {
   "cell_type": "code",
   "execution_count": 21,
   "metadata": {
    "colab": {
     "base_uri": "https://localhost:8080/"
    },
    "id": "PgseYZJ1ndKJ",
    "outputId": "8aa8bd8a-1879-4d11-d0e2-670626132318"
   },
   "outputs": [
    {
     "data": {
      "text/plain": [
       "{'b', 'd', 'l', 'm', 'r', 'z'}"
      ]
     },
     "execution_count": 21,
     "metadata": {},
     "output_type": "execute_result"
    }
   ],
   "source": [
    "#Arroja como resultado elementos que estan en a o en b, pero no en ambos\n",
    "a ^ b"
   ]
  },
  {
   "cell_type": "code",
   "execution_count": 22,
   "metadata": {
    "id": "3xKKFojLnf2v"
   },
   "outputs": [],
   "source": [
    "a = {x for x in 'abracadabra' if x not in 'abc'}"
   ]
  },
  {
   "cell_type": "markdown",
   "metadata": {
    "id": "aq3i0IVOT2OV"
   },
   "source": [
    "## 7.3. Ejercicios\n",
    "\n",
    "1. Considere la lista [\"sol\", \"pedro\", \"alejandra\", \"roman\"]. Escriba un programa que:\n",
    "\n",
    "\n",
    "* Muestre en pantalla únicamente aquellos nombres que tengan menos de $5$ letras.\n",
    "* Muestre en pantalla únicamente aquellos nombres que empiecen por la letra $a$.\n",
    "* Muestre en pantalla únicamente aquellos nombres que empiecen y terminen por la letra $a$.\n",
    "\n",
    "\n",
    "2. Dada la siguiente lista: $numbers$ = [1, 2, 3, 4, 5, 6, 7, 8, 9, 10]\n",
    "\n",
    "*  Obtenga el tercer elemento de la lista.\n",
    "* Obtenga los últimos cinco elementos de la lista.\n",
    "* Obtenga los elementos desde el segundo hasta el sexto (incluyendo ambos).\n",
    "\n",
    "3. Dada la lista $fruits$ = [\"apple\", \"banana\", \"cherry\", \"date\"]:\n",
    "\n",
    "* Obtenga el segundo y tercer elemento de la lista.\n",
    "* Obtenga los primeros tres elementos de la lista.\n",
    "* Obtenga los últimos dos elementos de la lista.\n",
    "\n",
    "4. Escriba un programa que almacene las asignaturas de un curso (por ejemplo Matemáticas, Física, Química, Historia y Lengua) en una lista y la muestre por pantalla el mensaje Yo estudio $\\langle\\text{asignatura}\\rangle$, donde $\\langle\\text{asignatura}\\rangle$ es cada una de las asignaturas de la lista.\n",
    "\n",
    "5. Escriba un programa que almacene las asignaturas de un curso (por ejemplo Matemáticas, Física, Química, Historia y Lengua) en una lista, pregunte al usuario la nota (de 0 a 5) que ha sacado en cada asignatura. Al final el programa debe mostrar por pantalla las asignaturas que el usuario tiene que repetir ($nota < 3$).\n",
    "\n",
    "6. Escriba un programa que lea una frase por parte de un usuario. Las letras de la frase que estén antes de la $m$ (teniendo como referencia el abcdario) deben ser almacenadas en una lista, mientras que las letras que estén después de la $m$ (incluyéndola) deben ser almacenadas en otra lista. Asuma que la entrada sólo incluirá letras.\n",
    "\n",
    "7. Escriba un programa que lea palabras del usuario hasta que éste introduzca una línea en blanco. Después de que el usuario introduzca una línea en blanco, su programa debe mostrar cada palabra introducida por el usuario exactamente una vez. Las palabras deben aparecer en el mismo orden en que fueron introducidas.\n",
    "\n",
    "8. Escriba un programa para comprobar si una lista dada contiene tres números comunes consecutivos. El programa debe mostrar estos números como salida.\n",
    "\n",
    "9. Considere la lista [1, 2, 3, 4, 5, 6]. Escriba un programa que para cada valor de la lista imprima en pantalla su cuadrado y raíz cuadrada con un mensaje apropiado.\n",
    "\n",
    "10. Escriba un programa que pida al usuario cinco números enteros, los almacene en una lista y los muestre en pantalla ordenados de mayor a menor\n",
    "\n",
    "11. Dada una lista de $n$ enteros positivos, escriba un programa que encuentre el máximo de cada par adyacente en la lista y lo almacene en una nueva lista.\n",
    "\n",
    "12. Elabore un programa que reciba como parámetros una matriz cuadrada y la dimensión de ella. Su programa debe retornar verdadero si la matriz es un cuadrado mágico, y falso de lo contrario. Una matriz es un cuadrado mágico si la suma de los datos de cada fila, de cada columna y de cada diagonal es la misma.\n",
    "\n",
    "14. Escriba un programa que pida al usuario una palabra y cree un diccionario que contenga el número de veces que contiene cada vocal. El programa no debe diferenciar entre letras minúsculas y mayúsculas.\n",
    "\n",
    "15. Escriba un programa que permita gestionar la base de datos de clientes de una empresa. Los clientes se guardarán en un diccionario en el que la clave de cada cliente será un número de identificación, y el valor será otro diccionario con los datos del cliente (nombre, dirección, teléfono, correo, preferente), donde preferente tendrá el valor `True` si se trata de un cliente preferente. El programa debe preguntar al usuario por una opción del siguiente menú: (1) Añadir cliente, (2) Eliminar cliente, (3) Mostrar cliente, (4) Listar todos los clientes, (5) Listar clientes preferentes, (6) Terminar. En función de la opción elegida el programa tendrá que hacer lo siguiente:\n",
    "\n",
    "* Preguntar los datos del cliente, crear un diccionario con los datos y añadirlo a la base de datos.\n",
    "* Preguntar por el ID del cliente y eliminar sus datos de la base de datos.\n",
    "* Preguntar por el ID del cliente y mostrar sus datos.\n",
    "* Mostrar la lista de todos los clientes de la base datos con su ID y nombre.\n",
    "* Mostrar la lista de clientes preferentes de la base de datos con su ID y nombre.\n",
    "* Terminar el programa.\n",
    "\n",
    "\n",
    "15. Escriba un programa que genere un diccionario con la información del directorio, donde cada elemento corresponda a un cliente y tenga por clave su nif y por valor otro diccionario con el resto de la información del cliente. Los diccionarios con la información de cada cliente tendrán como claves los nombres de los campos y como valores la información de cada cliente correspondientes a los campos. Es decir, un diccionario como el siguiente:\n",
    "\n",
    "\\{'01234567L': \\{'nombre': 'Luis González', 'email': 'luisgonzalez@mail.com', 'teléfono': '656343576', 'descuento': 12.5\\}, '71476342J': \\{'nombre': 'Macarena Ramírez', 'email': 'macarena@mail.com', 'teléfono': '692839321', 'descuento': 8.0\\}, '63823376M': \\{'nombre': 'Juan José Martínez', 'email': 'juanjo@mail.com', 'teléfono': '664888233', 'descuento': 5.2\\}, '98376547F': \\{'nombre': 'Carmen Sánchez', 'email': 'carmen@mail.com', 'teléfono': '667677855', 'descuento': 15.7\\}\\}\n",
    "\n",
    "\n",
    "\n",
    "16. Escriba un programa que almacene el diccionario con los créditos de las asignaturas de un semestre \\{'Matemáticas': 6, 'Física': 4, 'Química': 5\\} y después muestre por pantalla los créditos de cada asignatura en el formato $\\langle{\\text{asignatura}}\\rangle$ tiene $\\langle{\\text{creditos}}\\rangle$ créditos, donde $\\langle{\\text{asignatura}}\\rangle$ es cada una de las asignaturas del curso, y $\\langle{\\text{creditos}}\\rangle$ son sus créditos. Al final debe mostrar también el número total de créditos del semestre.\n",
    "\n",
    "\n",
    "17. Escriba un programa que recorra una lista y cree un diccionario que contenga el número de veces que aparece cada número en la lista.\n"
   ]
  },
  {
   "cell_type": "code",
   "execution_count": null,
   "metadata": {
    "id": "Yq_cpzMGoDYV"
   },
   "outputs": [],
   "source": []
  }
 ],
 "metadata": {
  "colab": {
   "collapsed_sections": [
    "CQxQuofSp8yF",
    "xaR1VLd5j6bd",
    "oIDGqC1Xj-zj",
    "aq3i0IVOT2OV"
   ],
   "provenance": []
  },
  "kernelspec": {
   "display_name": "Python 3",
   "name": "python3"
  },
  "language_info": {
   "codemirror_mode": {
    "name": "ipython",
    "version": 3
   },
   "file_extension": ".py",
   "mimetype": "text/x-python",
   "name": "python",
   "nbconvert_exporter": "python",
   "pygments_lexer": "ipython3",
   "version": "3.9.12"
  }
 },
 "nbformat": 4,
 "nbformat_minor": 0
}
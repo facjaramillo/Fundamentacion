{
 "cells": [
  {
   "cell_type": "markdown",
   "metadata": {
    "id": "zMKmPUWlNHJW"
   },
   "source": [
    "# Semana 8: escritura y lectura de acrhivos con Python"
   ]
  },
  {
   "cell_type": "markdown",
   "metadata": {
    "id": "IDLmtQ79YTWO"
   },
   "source": [
    "Para iniciar, en la barra de la izquierda, aparece un símbolo de carpeta. Dándole allí tendremos varias opciones para cargar un archivo. Subirlo a drive  e importarlo desde sus carpetas, o cargarlo directamente al notebook."
   ]
  },
  {
   "cell_type": "markdown",
   "metadata": {
    "id": "s1sdluAturmv"
   },
   "source": [
    "Diferentes modos para abir un archivo en python con *open*:\n",
    "\n",
    "\n",
    "\n",
    "*   r: abre el archivo para leer (modo por defecto).\n",
    "*   w: abre el archivo para escribir. Si ya existe, lo reescribe.\n",
    "*   x: crea un archivo nuevo. Si el archivo ya existe, falla la operación\n",
    "*   a: abre un archivo para escribir al final, no reescribe el archivo.\n",
    "\n",
    "\n",
    "\n",
    "\n",
    "\n",
    "\n",
    "\n"
   ]
  },
  {
   "cell_type": "markdown",
   "metadata": {
    "id": "dg6tVh-tPQ48"
   },
   "source": [
    "## 8.1. Leer ficheros"
   ]
  },
  {
   "cell_type": "code",
   "execution_count": 1,
   "metadata": {
    "colab": {
     "base_uri": "https://localhost:8080/"
    },
    "id": "3qt7TYhkMPLo",
    "outputId": "ed01bafe-b196-4823-94c5-efad56d633b5"
   },
   "outputs": [
    {
     "ename": "FileNotFoundError",
     "evalue": "[Errno 2] No such file or directory: '/content/trayectorias.txt'",
     "output_type": "error",
     "traceback": [
      "\u001b[0;31m---------------------------------------------------------------------------\u001b[0m",
      "\u001b[0;31mFileNotFoundError\u001b[0m                         Traceback (most recent call last)",
      "Input \u001b[0;32mIn [1]\u001b[0m, in \u001b[0;36m<cell line: 2>\u001b[0;34m()\u001b[0m\n\u001b[1;32m      1\u001b[0m \u001b[38;5;66;03m#Paso 1: abrir el fichero o archivo\u001b[39;00m\n\u001b[0;32m----> 2\u001b[0m fichero \u001b[38;5;241m=\u001b[39m \u001b[38;5;28;43mopen\u001b[39;49m\u001b[43m(\u001b[49m\u001b[38;5;124;43m'\u001b[39;49m\u001b[38;5;124;43m/content/trayectorias.txt\u001b[39;49m\u001b[38;5;124;43m'\u001b[39;49m\u001b[43m,\u001b[49m\u001b[38;5;124;43m'\u001b[39;49m\u001b[38;5;124;43mr\u001b[39;49m\u001b[38;5;124;43m'\u001b[39;49m\u001b[43m)\u001b[49m\n\u001b[1;32m      3\u001b[0m fichero\n",
      "\u001b[0;31mFileNotFoundError\u001b[0m: [Errno 2] No such file or directory: '/content/trayectorias.txt'"
     ]
    }
   ],
   "source": [
    "#Paso 1: abrir el fichero o archivo\n",
    "fichero = open('/content/trayectorias.txt','r')\n",
    "fichero"
   ]
  },
  {
   "cell_type": "code",
   "execution_count": null,
   "metadata": {
    "colab": {
     "base_uri": "https://localhost:8080/"
    },
    "id": "3SiQ-yWRgW0z",
    "outputId": "71474a67-86cf-4fbc-f3e8-f69d64fa9962"
   },
   "outputs": [
    {
     "name": "stdout",
     "output_type": "stream",
     "text": [
      "0.000000000000000000e+00 5.030000007512007709e-01 1.502999999248799012e+00\n",
      "\n",
      "1.000000000000000021e-03 5.060000030096133417e-01 1.505999996990384560e+00\n",
      "\n",
      "2.000000000000000042e-03 5.090000067824694829e-01 1.508999993217523761e+00\n",
      "\n",
      "3.000000000000000062e-03 5.120000120770222818e-01 1.511999987922961530e+00\n",
      "\n",
      "4.000000000000000083e-03 5.150000189005465856e-01 1.514999981099421689e+00\n",
      "\n",
      "5.000000000000000104e-03 5.180000272603387801e-01 1.517999972739606074e+00\n",
      "\n",
      "6.000000000000000125e-03 5.210000371637167893e-01 1.520999962836195207e+00\n",
      "\n",
      "7.000000000000000146e-03 5.240000486180202977e-01 1.523999951381847850e+00\n",
      "\n",
      "8.000000000000000167e-03 5.270000616306103058e-01 1.526999938369201226e+00\n",
      "\n",
      "9.000000000000001055e-03 5.300000762088696860e-01 1.529999923790871019e+00\n",
      "\n",
      "1.000000000000000021e-02 5.330000923602027374e-01 1.532999907639450932e+00\n",
      "\n"
     ]
    }
   ],
   "source": [
    "#Paso 2: leer los datos del fichero\n",
    "\n",
    "contador=0\n",
    "for linea in fichero:\n",
    "  if contador <=10:\n",
    "      print(linea)\n",
    "  else: break\n",
    "\n",
    "  contador += 1"
   ]
  },
  {
   "cell_type": "code",
   "execution_count": null,
   "metadata": {
    "id": "qeEIGzUcouF1"
   },
   "outputs": [],
   "source": [
    "#paso 3: cerrar el fichero\n",
    "fichero.close()"
   ]
  },
  {
   "cell_type": "code",
   "execution_count": null,
   "metadata": {
    "colab": {
     "base_uri": "https://localhost:8080/"
    },
    "id": "Yp6_RaNvuXz8",
    "outputId": "899bfea0-eaa6-4fb2-ba6a-1277539ede84"
   },
   "outputs": [
    {
     "data": {
      "text/plain": [
       "<_io.TextIOWrapper name='/content/trayectorias.txt' mode='r' encoding='UTF-8'>"
      ]
     },
     "execution_count": 5,
     "metadata": {},
     "output_type": "execute_result"
    }
   ],
   "source": [
    "fichero"
   ]
  },
  {
   "cell_type": "code",
   "execution_count": null,
   "metadata": {
    "colab": {
     "base_uri": "https://localhost:8080/"
    },
    "id": "BHWB0s-qgX9o",
    "outputId": "f1895125-03bb-4044-e193-5c936a01d2e7"
   },
   "outputs": [
    {
     "name": "stdout",
     "output_type": "stream",
     "text": [
      "50000\n"
     ]
    }
   ],
   "source": [
    "#Contar el numero de filas en el fichero\n",
    "fichero = open('/content/trayectorias.txt','r') #Lo volvemos a abrir, pues en el paso anterior se cerro\n",
    "\n",
    "contador = 0\n",
    "for linea in fichero:\n",
    "  contador += 1\n",
    "\n",
    "#fichero.close()\n",
    "\n",
    "print(contador)"
   ]
  },
  {
   "cell_type": "code",
   "execution_count": null,
   "metadata": {
    "id": "lqFrMC9itSHB"
   },
   "outputs": [],
   "source": [
    "def archivos(archivo):\n",
    "  contador=0\n",
    "  for linea in archivo:\n",
    "    contador += 1\n",
    "\n",
    "\n",
    "  return contador"
   ]
  },
  {
   "cell_type": "code",
   "execution_count": null,
   "metadata": {
    "colab": {
     "base_uri": "https://localhost:8080/"
    },
    "id": "jM4f0BXptjxH",
    "outputId": "4a8f8936-c81b-4d98-e517-ded8eb698509"
   },
   "outputs": [
    {
     "data": {
      "text/plain": [
       "50000"
      ]
     },
     "execution_count": 9,
     "metadata": {},
     "output_type": "execute_result"
    }
   ],
   "source": [
    "fichero = open('/content/trayectorias.txt','r')\n",
    "archivos(fichero)"
   ]
  },
  {
   "cell_type": "code",
   "execution_count": null,
   "metadata": {
    "colab": {
     "base_uri": "https://localhost:8080/"
    },
    "id": "syVt7NQPgl5e",
    "outputId": "9e321964-96c9-40bf-fbbe-98c3286cb82b"
   },
   "outputs": [
    {
     "name": "stdout",
     "output_type": "stream",
     "text": [
      "1892441\n"
     ]
    }
   ],
   "source": [
    "#Contar el numero de caracteres dentro del fichero\n",
    "\n",
    "fichero = open('/content/trayectorias.txt','r')\n",
    "\n",
    "contador = 0\n",
    "while True:\n",
    "  caracter = fichero.read(2)\n",
    "  if caracter == '':\n",
    "    break\n",
    "  contador += 1\n",
    "\n",
    "fichero.close()\n",
    "print(contador)"
   ]
  },
  {
   "cell_type": "code",
   "execution_count": null,
   "metadata": {
    "colab": {
     "base_uri": "https://localhost:8080/"
    },
    "id": "MO3_gEJcwwAm",
    "outputId": "19cf2981-9362-4e62-a4f0-53401e575232"
   },
   "outputs": [
    {
     "name": "stdout",
     "output_type": "stream",
     "text": [
      "1892442\n"
     ]
    }
   ],
   "source": [
    "fichero = open('/content/trayectorias.txt','r')\n",
    "\n",
    "caracter = 1\n",
    "contador = 0\n",
    "\n",
    "while caracter != '':\n",
    "  caracter = fichero.read(2)\n",
    "  contador += 1\n",
    "print(contador)"
   ]
  },
  {
   "cell_type": "markdown",
   "metadata": {
    "id": "r9UY8Uo5wQ3K"
   },
   "source": [
    "## 8.2. Escribir ficheros"
   ]
  },
  {
   "cell_type": "code",
   "execution_count": null,
   "metadata": {
    "id": "oJtgxdynqJ78"
   },
   "outputs": [],
   "source": [
    "archivo = open('archivo.dat','w')"
   ]
  },
  {
   "cell_type": "code",
   "execution_count": null,
   "metadata": {
    "id": "ZQUTPhcvrx0l"
   },
   "outputs": [],
   "source": [
    "archivo.write('Mi primer archivo')\n",
    "archivo.write('Hola')\n",
    "\n",
    "archivo.close()"
   ]
  },
  {
   "cell_type": "code",
   "execution_count": null,
   "metadata": {
    "id": "tdgs_Tn2qXYi"
   },
   "outputs": [],
   "source": [
    "from google.colab import drive\n",
    "drive.mount('/content/drive')"
   ]
  },
  {
   "cell_type": "code",
   "execution_count": null,
   "metadata": {
    "id": "2LuqAWOjwO4P"
   },
   "outputs": [],
   "source": [
    "archivo = open('archivo.dat','w')\n",
    "archivo.write('Mi primer archivo\\n')  # \\n esribe un salto de linea\n",
    "archivo.write('Hola')\n",
    "\n",
    "archivo.close()"
   ]
  },
  {
   "cell_type": "markdown",
   "metadata": {
    "id": "ct6g7wLPwur7"
   },
   "source": [
    "Verificar que se haya creado el archivo en el panel izquierdo"
   ]
  },
  {
   "cell_type": "code",
   "execution_count": null,
   "metadata": {
    "id": "tRl1Q8BUwnXy"
   },
   "outputs": [],
   "source": [
    "#Escribir una lista en un archivo nuevo\n",
    "lista = [1,2,3,4,\"Hola\",[1,2,3]]\n",
    "\n",
    "archivo2 = open('archivo2.dat','w')\n",
    "archivo2.write(str(lista))  #el atributo write pide que sean cadenas de caracteres\n",
    "\n",
    "archivo2.close()"
   ]
  },
  {
   "cell_type": "markdown",
   "metadata": {
    "id": "mIYTJCbq3uT4"
   },
   "source": [
    "**Ejercicio:** cree una lista usando un ciclo, que contenga los números hasta el 100. Escriba un archivo que contenga solo los número pares de dicha lista."
   ]
  },
  {
   "cell_type": "code",
   "execution_count": null,
   "metadata": {
    "id": "vU96wXX58uaw"
   },
   "outputs": [],
   "source": [
    "lista = []\n",
    "\n",
    "for i in range(0,101):\n",
    "  lista.append(i)"
   ]
  },
  {
   "cell_type": "code",
   "execution_count": null,
   "metadata": {
    "colab": {
     "base_uri": "https://localhost:8080/"
    },
    "id": "fjan6Wgp-xr2",
    "outputId": "ed53bc54-9c24-4458-fcc0-0e2c87f19514"
   },
   "outputs": [
    {
     "data": {
      "text/plain": [
       "[0,\n",
       " 1,\n",
       " 2,\n",
       " 3,\n",
       " 4,\n",
       " 5,\n",
       " 6,\n",
       " 7,\n",
       " 8,\n",
       " 9,\n",
       " 10,\n",
       " 11,\n",
       " 12,\n",
       " 13,\n",
       " 14,\n",
       " 15,\n",
       " 16,\n",
       " 17,\n",
       " 18,\n",
       " 19,\n",
       " 20,\n",
       " 21,\n",
       " 22,\n",
       " 23,\n",
       " 24,\n",
       " 25,\n",
       " 26,\n",
       " 27,\n",
       " 28,\n",
       " 29,\n",
       " 30,\n",
       " 31,\n",
       " 32,\n",
       " 33,\n",
       " 34,\n",
       " 35,\n",
       " 36,\n",
       " 37,\n",
       " 38,\n",
       " 39,\n",
       " 40,\n",
       " 41,\n",
       " 42,\n",
       " 43,\n",
       " 44,\n",
       " 45,\n",
       " 46,\n",
       " 47,\n",
       " 48,\n",
       " 49,\n",
       " 50,\n",
       " 51,\n",
       " 52,\n",
       " 53,\n",
       " 54,\n",
       " 55,\n",
       " 56,\n",
       " 57,\n",
       " 58,\n",
       " 59,\n",
       " 60,\n",
       " 61,\n",
       " 62,\n",
       " 63,\n",
       " 64,\n",
       " 65,\n",
       " 66,\n",
       " 67,\n",
       " 68,\n",
       " 69,\n",
       " 70,\n",
       " 71,\n",
       " 72,\n",
       " 73,\n",
       " 74,\n",
       " 75,\n",
       " 76,\n",
       " 77,\n",
       " 78,\n",
       " 79,\n",
       " 80,\n",
       " 81,\n",
       " 82,\n",
       " 83,\n",
       " 84,\n",
       " 85,\n",
       " 86,\n",
       " 87,\n",
       " 88,\n",
       " 89,\n",
       " 90,\n",
       " 91,\n",
       " 92,\n",
       " 93,\n",
       " 94,\n",
       " 95,\n",
       " 96,\n",
       " 97,\n",
       " 98,\n",
       " 99,\n",
       " 100]"
      ]
     },
     "execution_count": 29,
     "metadata": {},
     "output_type": "execute_result"
    }
   ],
   "source": [
    "lista"
   ]
  },
  {
   "cell_type": "code",
   "execution_count": null,
   "metadata": {
    "id": "s0wG3veo8t_N"
   },
   "outputs": [],
   "source": [
    "archivo3 = open('archivo3.dat','a')\n",
    "\n",
    "for i in range(len(lista)):\n",
    "  if lista[i]%2 == 0:         #Pregunta si el i-ésimo elemento de la lista es par\n",
    "    archivo3.write(str(lista[i]))\n",
    "\n",
    "archivo3.close()"
   ]
  }
 ],
 "metadata": {
  "colab": {
   "collapsed_sections": [
    "dg6tVh-tPQ48",
    "r9UY8Uo5wQ3K"
   ],
   "provenance": []
  },
  "kernelspec": {
   "display_name": "Python 3",
   "name": "python3"
  },
  "language_info": {
   "codemirror_mode": {
    "name": "ipython",
    "version": 3
   },
   "file_extension": ".py",
   "mimetype": "text/x-python",
   "name": "python",
   "nbconvert_exporter": "python",
   "pygments_lexer": "ipython3",
   "version": "3.9.12"
  }
 },
 "nbformat": 4,
 "nbformat_minor": 0
}
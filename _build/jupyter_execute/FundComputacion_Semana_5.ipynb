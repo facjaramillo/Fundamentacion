{
 "cells": [
  {
   "cell_type": "markdown",
   "metadata": {
    "id": "8CsRrn_ufulg"
   },
   "source": [
    "\n",
    "# Semana 5: Condicionales y Ciclos (`For` y `While`)\n",
    "\n",
    "En este punto ya hemos definido las diferentes operaciones aritméticas, hemos asignado valores numéricos, booleanos y cadenas de caracteres a variables. Ahora, al igual que como lo hacíamos cuando creábamos nuestros pseudo-códigos, definiremos condicionales y ciclos en Python."
   ]
  },
  {
   "cell_type": "markdown",
   "metadata": {
    "id": "jybsjTrl2RXg"
   },
   "source": [
    "## Condicionales\n",
    "\n",
    "Un condicional es una sentencia que nos permite verificar si se cumple una condición, y establecer dos posibles ejecuciones de acuerdo a si se cumple o no la condición. En un diagrama de flujo, se vería como sigue:\n",
    "\n",
    "![](https://i.imgur.com/O6cZrw0.png)\n",
    "\n",
    "[Referencia de Python sobre condicionales](https://www.programaenpython.com/fundamentos/sentencias-condicionales-en-python/)\n"
   ]
  },
  {
   "cell_type": "markdown",
   "metadata": {
    "id": "EpoBm9sSrNjS"
   },
   "source": [
    "\n",
    "### Sentencia `if`\n",
    "\n",
    "Permite dividir el flujo de un programa en diferentes caminos u opciones. El bloque de código dentro del condicional `if` se ejecuta siempre que la condición sea **True**.\n",
    "\n",
    "**Ejemplo:**"
   ]
  },
  {
   "cell_type": "code",
   "execution_count": 1,
   "metadata": {
    "colab": {
     "base_uri": "https://localhost:8080/"
    },
    "id": "F9GJ8-E53A0a",
    "outputId": "ff0134d2-07bb-4120-8316-f6da5a5ace7d"
   },
   "outputs": [
    {
     "name": "stdout",
     "output_type": "stream",
     "text": [
      "Esto siempre se va a imprimir\n",
      "Ya estamos fuera del if\n",
      "Ya estamos fuera del if\n"
     ]
    }
   ],
   "source": [
    "if True:\n",
    "    print(\"Esto siempre se va a imprimir\")\n",
    "print(\"Ya estamos fuera del if\")\n",
    "\n",
    "if False:\n",
    "    print('Esto nunca se va a imprimir')\n",
    "print(\"Ya estamos fuera del if\")"
   ]
  },
  {
   "cell_type": "markdown",
   "metadata": {
    "id": "VJ0tm9eKUd1m"
   },
   "source": [
    "**Ejemplo:** Números mayores o menores que otros."
   ]
  },
  {
   "cell_type": "code",
   "execution_count": 2,
   "metadata": {
    "colab": {
     "base_uri": "https://localhost:8080/"
    },
    "id": "WCwMun5qtB4o",
    "outputId": "480336e3-ca50-4d38-b26b-2f10cefd9f40"
   },
   "outputs": [
    {
     "name": "stdout",
     "output_type": "stream",
     "text": [
      "a es menor que b\n"
     ]
    }
   ],
   "source": [
    "a=35\n",
    "b=100\n",
    "\n",
    "if a<b:\n",
    "  print(\"a es menor que b\")\n",
    "\n",
    "if a>b:\n",
    "  print(\"a es mayor que b\")\n"
   ]
  },
  {
   "cell_type": "markdown",
   "metadata": {
    "id": "d2YKij5AoIMg"
   },
   "source": [
    "### Sentencia `else`\n",
    "La declaración `else` es una estructura de control de flujo que se utiliza junto con la declaración `if` o la declaración `elif`. Si todas las condiciones en las declaraciones `if` y `elif` son falsas, se ejecuta el bloque de código dentro de la declaración else. La declaración else es opcional y sólo se ejecuta si no se cumple ninguna de las condiciones anteriores.\n",
    "\n",
    "**Ejemplo:** Determinar si un número es par o impar"
   ]
  },
  {
   "cell_type": "code",
   "execution_count": 3,
   "metadata": {
    "colab": {
     "base_uri": "https://localhost:8080/"
    },
    "id": "xF_nJ6lazjHI",
    "outputId": "3f3806ae-a076-4a3f-ed09-ba51dc052737"
   },
   "outputs": [
    {
     "ename": "StdinNotImplementedError",
     "evalue": "raw_input was called, but this frontend does not support input requests.",
     "output_type": "error",
     "traceback": [
      "\u001b[0;31m---------------------------------------------------------------------------\u001b[0m",
      "\u001b[0;31mStdinNotImplementedError\u001b[0m                  Traceback (most recent call last)",
      "Input \u001b[0;32mIn [3]\u001b[0m, in \u001b[0;36m<cell line: 1>\u001b[0;34m()\u001b[0m\n\u001b[0;32m----> 1\u001b[0m n \u001b[38;5;241m=\u001b[39m \u001b[38;5;28mint\u001b[39m(\u001b[38;5;28;43minput\u001b[39;49m\u001b[43m(\u001b[49m\u001b[38;5;124;43m\"\u001b[39;49m\u001b[38;5;124;43mIngrese un número: \u001b[39;49m\u001b[38;5;124;43m\"\u001b[39;49m\u001b[43m)\u001b[49m)\n\u001b[1;32m      2\u001b[0m \u001b[38;5;28;01mif\u001b[39;00m n\u001b[38;5;241m%\u001b[39m\u001b[38;5;241m2\u001b[39m \u001b[38;5;241m==\u001b[39m \u001b[38;5;241m0\u001b[39m:\n\u001b[1;32m      3\u001b[0m     \u001b[38;5;28mprint\u001b[39m(\u001b[38;5;124m\"\u001b[39m\u001b[38;5;124mEl número es par\u001b[39m\u001b[38;5;124m\"\u001b[39m)\n",
      "File \u001b[0;32m~/anaconda3/lib/python3.9/site-packages/ipykernel/kernelbase.py:1072\u001b[0m, in \u001b[0;36mKernel.raw_input\u001b[0;34m(self, prompt)\u001b[0m\n\u001b[1;32m   1065\u001b[0m \u001b[38;5;250m\u001b[39m\u001b[38;5;124;03m\"\"\"Forward raw_input to frontends\u001b[39;00m\n\u001b[1;32m   1066\u001b[0m \n\u001b[1;32m   1067\u001b[0m \u001b[38;5;124;03mRaises\u001b[39;00m\n\u001b[1;32m   1068\u001b[0m \u001b[38;5;124;03m------\u001b[39;00m\n\u001b[1;32m   1069\u001b[0m \u001b[38;5;124;03mStdinNotImplementedError if active frontend doesn't support stdin.\u001b[39;00m\n\u001b[1;32m   1070\u001b[0m \u001b[38;5;124;03m\"\"\"\u001b[39;00m\n\u001b[1;32m   1071\u001b[0m \u001b[38;5;28;01mif\u001b[39;00m \u001b[38;5;129;01mnot\u001b[39;00m \u001b[38;5;28mself\u001b[39m\u001b[38;5;241m.\u001b[39m_allow_stdin:\n\u001b[0;32m-> 1072\u001b[0m     \u001b[38;5;28;01mraise\u001b[39;00m StdinNotImplementedError(\n\u001b[1;32m   1073\u001b[0m         \u001b[38;5;124m\"\u001b[39m\u001b[38;5;124mraw_input was called, but this frontend does not support input requests.\u001b[39m\u001b[38;5;124m\"\u001b[39m\n\u001b[1;32m   1074\u001b[0m     )\n\u001b[1;32m   1075\u001b[0m \u001b[38;5;28;01mreturn\u001b[39;00m \u001b[38;5;28mself\u001b[39m\u001b[38;5;241m.\u001b[39m_input_request(\n\u001b[1;32m   1076\u001b[0m     \u001b[38;5;28mstr\u001b[39m(prompt),\n\u001b[1;32m   1077\u001b[0m     \u001b[38;5;28mself\u001b[39m\u001b[38;5;241m.\u001b[39m_parent_ident[\u001b[38;5;124m\"\u001b[39m\u001b[38;5;124mshell\u001b[39m\u001b[38;5;124m\"\u001b[39m],\n\u001b[1;32m   1078\u001b[0m     \u001b[38;5;28mself\u001b[39m\u001b[38;5;241m.\u001b[39mget_parent(\u001b[38;5;124m\"\u001b[39m\u001b[38;5;124mshell\u001b[39m\u001b[38;5;124m\"\u001b[39m),\n\u001b[1;32m   1079\u001b[0m     password\u001b[38;5;241m=\u001b[39m\u001b[38;5;28;01mFalse\u001b[39;00m,\n\u001b[1;32m   1080\u001b[0m )\n",
      "\u001b[0;31mStdinNotImplementedError\u001b[0m: raw_input was called, but this frontend does not support input requests."
     ]
    }
   ],
   "source": [
    "n = int(input(\"Ingrese un número: \"))\n",
    "if n%2 == 0:\n",
    "    print(\"El número es par\")\n",
    "else:\n",
    "    print(\"El número es impar\")"
   ]
  },
  {
   "cell_type": "markdown",
   "metadata": {
    "id": "RWMKsRcI3bOP"
   },
   "source": [
    "\n",
    "### Sentencia `elif`\n",
    "\n",
    "La declaración `elif` es una extensión de la declaración `if` que permite verificar múltiples condiciones en una sola estructura de control de flujo. Si la condición en la declaración `if` es falsa, se verifica la siguiente condición en la declaración `elif`. Si se cumple la condición, el bloque de código dentro del elif se ejecuta. Si la condición es falsa, se omite el bloque de código y se verifica la siguiente condición en la siguiente declaración `elif` o en la declaración `else`.\n",
    "\n",
    "**Ejemplo:**"
   ]
  },
  {
   "cell_type": "code",
   "execution_count": 2,
   "metadata": {
    "colab": {
     "base_uri": "https://localhost:8080/"
    },
    "id": "r1boPHYp3OBh",
    "outputId": "8995f1ff-57af-41a3-922a-b87443b879bb"
   },
   "outputs": [
    {
     "name": "stdout",
     "output_type": "stream",
     "text": [
      "Ingrese su edad: 30\n",
      "Usted es mayor de edad\n"
     ]
    }
   ],
   "source": [
    "edad = int(input(\"Ingrese su edad: \"))\n",
    "\n",
    "if edad >= 18:\n",
    "    print(\"Usted es mayor de edad\")\n",
    "else:\n",
    "    print(\"Usted es menor de edad\")"
   ]
  },
  {
   "cell_type": "markdown",
   "metadata": {
    "id": "i9aGIKxhU8du"
   },
   "source": [
    "**Ejemplo:**"
   ]
  },
  {
   "cell_type": "code",
   "execution_count": 7,
   "metadata": {
    "colab": {
     "base_uri": "https://localhost:8080/"
    },
    "id": "j1FuRwH737Xl",
    "outputId": "d0531202-6eb9-4bd1-8da4-4d06b8b119be"
   },
   "outputs": [
    {
     "name": "stdout",
     "output_type": "stream",
     "text": [
      "Usted es mayor de edad\n"
     ]
    }
   ],
   "source": [
    "\n",
    "if edad >= 18:\n",
    "    print(\"Usted es mayor de edad\")\n",
    "elif 0<= edad < 18 :\n",
    "    print(\"Usted es menor de edad\")\n",
    "else:\n",
    "    print(\"La edad ingresada es erronea\")"
   ]
  },
  {
   "cell_type": "markdown",
   "metadata": {
    "id": "K0HzoCrzVKMD"
   },
   "source": [
    "**Ejemplo:**"
   ]
  },
  {
   "cell_type": "code",
   "execution_count": null,
   "metadata": {
    "colab": {
     "base_uri": "https://localhost:8080/"
    },
    "id": "sHXrZwpP4dGz",
    "outputId": "3bf37e17-abd9-4443-b350-4a4a586ae002"
   },
   "outputs": [
    {
     "name": "stdout",
     "output_type": "stream",
     "text": [
      "Ingrese un número: 5\n",
      "El número es mayor que 2\n",
      "El número es mayor que 3\n"
     ]
    }
   ],
   "source": [
    "a = int(input(\"Ingrese un número: \"))\n",
    "\n",
    "if a >= 2:\n",
    "    print(\"El número es mayor que 2\")\n",
    "if a >= 3:\n",
    "    print(\"El número es mayor que 3\")"
   ]
  },
  {
   "cell_type": "markdown",
   "metadata": {
    "id": "ZlYvgTt0VWRW"
   },
   "source": [
    "Si no ponemos el `elif`, se ejecutan ambos condicionales. Con el `elif`, solo entra a la segunda condición si no se cumple la primera. En este ejemplo es claro que $a\\geq2$ y $a\\geq3$, pero solo se imprime que el número es mayor o igual que dos."
   ]
  },
  {
   "cell_type": "code",
   "execution_count": null,
   "metadata": {
    "colab": {
     "base_uri": "https://localhost:8080/"
    },
    "id": "YeHnhZMo4m73",
    "outputId": "66eccd6e-b550-418b-afab-aaf31293eb62"
   },
   "outputs": [
    {
     "name": "stdout",
     "output_type": "stream",
     "text": [
      "Ingrese un número: 5\n",
      "El número es mayor que 2\n"
     ]
    }
   ],
   "source": [
    "a = int(input(\"Ingrese un número: \"))\n",
    "\n",
    "if a >= 2:\n",
    "    print(\"El número es mayor que 2\")\n",
    "elif a >= 3:\n",
    "    print(\"El número es mayor que 3\")"
   ]
  },
  {
   "cell_type": "markdown",
   "metadata": {
    "id": "WHjrNsVs5w5J"
   },
   "source": [
    "## Ciclos\n",
    "\n"
   ]
  },
  {
   "cell_type": "markdown",
   "metadata": {
    "id": "EmEixUySrFpq"
   },
   "source": [
    "### Ciclo `for`\n",
    "\n",
    "El ciclo `for`  es una esctructura de ciclo usada en los casos donde conozco los elementos o la cantidad de elementos a iterar.\n",
    "\n",
    "[Referencia de Python sobre la sentencia for](https://docs.python.org/es/3.12/reference/compound_stmts.html#the-for-statement)\n",
    "\n",
    "La sintaxis para definir un ciclo `for` es:"
   ]
  },
  {
   "cell_type": "code",
   "execution_count": null,
   "metadata": {
    "colab": {
     "base_uri": "https://localhost:8080/"
    },
    "id": "hzMHR_n54txf",
    "outputId": "f28d95e0-4c8c-4ebf-cad8-91b738910fea"
   },
   "outputs": [
    {
     "name": "stdout",
     "output_type": "stream",
     "text": [
      "0\n",
      "1\n",
      "2\n",
      "3\n",
      "4\n",
      "5\n",
      "6\n",
      "7\n",
      "8\n",
      "9\n"
     ]
    }
   ],
   "source": [
    "# i es la variable que va a cambiar en el ciclo.\n",
    "# La variación será desde a hasta b-1, con un paso igual a c.\n",
    "for i in range(0,10,1):       # a=0, b=10, c=1\n",
    "    print(i)"
   ]
  },
  {
   "cell_type": "markdown",
   "metadata": {
    "id": "5yOIPLD3WXKT"
   },
   "source": [
    "Ahora, un ciclo `for` con un incremento de 2. Este ciclo toma solo los números pares entre 2 y 19."
   ]
  },
  {
   "cell_type": "code",
   "execution_count": null,
   "metadata": {
    "colab": {
     "base_uri": "https://localhost:8080/"
    },
    "id": "ph4O5hEVp8zd",
    "outputId": "24bd99e8-7d7b-4492-93e6-03e8d906ce13"
   },
   "outputs": [
    {
     "name": "stdout",
     "output_type": "stream",
     "text": [
      "2\n",
      "4\n",
      "6\n",
      "8\n",
      "10\n",
      "12\n",
      "14\n",
      "16\n",
      "18\n"
     ]
    }
   ],
   "source": [
    "#Otro ejemplo de ciclo\n",
    "for i in range(2,20,2):\n",
    "    print(i)"
   ]
  },
  {
   "cell_type": "markdown",
   "metadata": {
    "id": "9jdliW3cWhvv"
   },
   "source": [
    "Para definir el ciclo `for`, no es necesario especificarle el extremo inferior del intervalo ni el incremento. Si estos no se especifican, por defecto se supondrá que el argumento de la función range será (0,19], con un incremento de 1."
   ]
  },
  {
   "cell_type": "code",
   "execution_count": null,
   "metadata": {
    "colab": {
     "base_uri": "https://localhost:8080/"
    },
    "id": "Ol3wRFRwx3LF",
    "outputId": "7c87e3e3-5cb0-4d0c-b9f0-3fda590124cd"
   },
   "outputs": [
    {
     "name": "stdout",
     "output_type": "stream",
     "text": [
      "0\n",
      "1\n",
      "2\n",
      "3\n",
      "4\n",
      "5\n",
      "6\n",
      "7\n",
      "8\n",
      "9\n",
      "10\n",
      "11\n",
      "12\n",
      "13\n",
      "14\n",
      "15\n",
      "16\n",
      "17\n",
      "18\n",
      "19\n"
     ]
    }
   ],
   "source": [
    "#Otro ejemplo de ciclo\n",
    "for i in range(20):\n",
    "    print(i)"
   ]
  },
  {
   "cell_type": "markdown",
   "metadata": {
    "id": "k2_WPinQ6GJn"
   },
   "source": [
    "**Nota:** En python los contadores por defecto inician desde 0 y terminan en $n-1$"
   ]
  },
  {
   "cell_type": "code",
   "execution_count": null,
   "metadata": {
    "colab": {
     "base_uri": "https://localhost:8080/"
    },
    "id": "y-1JCY6k6ErR",
    "outputId": "24fadf37-b9d2-491a-af90-d2e7a7da8179"
   },
   "outputs": [
    {
     "data": {
      "text/plain": [
       "range"
      ]
     },
     "execution_count": 51,
     "metadata": {},
     "output_type": "execute_result"
    }
   ],
   "source": [
    " #Nuevo tipo de variable usada para asignar valores al contador\n",
    "type(range(10))"
   ]
  },
  {
   "cell_type": "markdown",
   "metadata": {
    "id": "2rKUmlCx9MTW"
   },
   "source": [
    "### Ciclo `while`\n",
    "\n",
    "El ciclo `while` se basa en repetir un bloque de códigos a partir de una condición establecida. El bloque `while` se ejecutará siempre y cuando el resultado de la condición sea `True`.\n",
    "\n",
    "[Referencia de Python sobre la sentencia While](https://docs.python.org/es/3.12/reference/compound_stmts.html#the-while-statement)\n",
    "\n",
    "**Ejemplo:** ciclo infinito"
   ]
  },
  {
   "cell_type": "code",
   "execution_count": null,
   "metadata": {
    "id": "9Qi2X0V79Ep2"
   },
   "outputs": [],
   "source": [
    "while True: #Ciclo infinito\n",
    "    print(\"Hola\")\n",
    "    input(\"Cómo te llamas: \")"
   ]
  },
  {
   "cell_type": "markdown",
   "metadata": {
    "id": "BolbQDdj94TA"
   },
   "source": [
    "**Ejemplo** Este ciclo se ejecutará tantas veces como la diferencia entre 0 y el número $n$ que se le pide al usuario que ingrese, aunque es un ciclo `while`. Esto dado que la ciondición establecida fue que $i \\leq n$. $i$ se actualiza aumentando su valor en 1 en cada iteración."
   ]
  },
  {
   "cell_type": "code",
   "execution_count": 4,
   "metadata": {
    "colab": {
     "base_uri": "https://localhost:8080/"
    },
    "id": "NZJXL8aH9rtY",
    "outputId": "521b69a8-c9ad-4066-d408-15d68eed3e27"
   },
   "outputs": [
    {
     "name": "stdout",
     "output_type": "stream",
     "text": [
      "Ingrese un número: 9\n",
      "0\n",
      "1\n",
      "2\n",
      "3\n",
      "4\n",
      "5\n",
      "6\n",
      "7\n",
      "8\n",
      "9\n"
     ]
    }
   ],
   "source": [
    "n = int(input(\"Ingrese un número: \"))\n",
    "\n",
    "i = 0\n",
    "while i <= n:\n",
    "    print(i)\n",
    "    i+=1"
   ]
  },
  {
   "cell_type": "markdown",
   "metadata": {
    "id": "GI8JQm4qYZNC"
   },
   "source": [
    "**Ejemplo:** Al tener el ciclo `while` una condición para ejecutarse, se puede usar directamente en él una sentencia `else`, que se ejecutará solo cuando se deje de cumplir la condición del ciclo. Esto es: no es necesaria la sentencia `if` en este caso."
   ]
  },
  {
   "cell_type": "code",
   "execution_count": 5,
   "metadata": {
    "colab": {
     "base_uri": "https://localhost:8080/"
    },
    "id": "efCXC6bd-FAw",
    "outputId": "321f64de-b532-42a4-8867-80dd65cc1717"
   },
   "outputs": [
    {
     "name": "stdout",
     "output_type": "stream",
     "text": [
      "Ingrese un número: 10\n",
      "0\n",
      "1\n",
      "2\n",
      "3\n",
      "4\n",
      "5\n",
      "6\n",
      "7\n",
      "8\n",
      "9\n",
      "10\n",
      "El ciclo termino en la iteración 11\n"
     ]
    }
   ],
   "source": [
    "n = int(input(\"Ingrese un número: \"))\n",
    "\n",
    "i = 0\n",
    "while i <= n:\n",
    "    print(i)\n",
    "    i+=1\n",
    "else:\n",
    "    print(f'El ciclo termino en la iteración {i}')"
   ]
  },
  {
   "cell_type": "markdown",
   "metadata": {
    "id": "7HKpnVrOYxD8"
   },
   "source": [
    "**Ejemplo:** Ejecución de un ciclo `while` hasta que el ususario ingrese una clave. La clave es \"Salir\"."
   ]
  },
  {
   "cell_type": "code",
   "execution_count": null,
   "metadata": {
    "colab": {
     "base_uri": "https://localhost:8080/"
    },
    "id": "ztR_QcXJ-fhn",
    "outputId": "ac60ae60-c17f-42c6-f307-2310f0c7e923"
   },
   "outputs": [
    {
     "name": "stdout",
     "output_type": "stream",
     "text": [
      "Ingrese un comando: Hola\n",
      "Hola\n",
      "Ingrese un comando: Cómo estás?\n",
      "Cómo estás?\n",
      "Ingrese un comando: Salir\n",
      "Salir\n"
     ]
    }
   ],
   "source": [
    "comando = ''\n",
    "while comando != 'Salir':\n",
    "    comando = input('Ingrese un comando: ')\n",
    "    print(comando)"
   ]
  },
  {
   "cell_type": "markdown",
   "metadata": {
    "id": "aIzwVE6Y-5W6"
   },
   "source": [
    "### Operadores `break`, `continue` y `pass`\n",
    "\n",
    "Estos operadores son útiles para el contro de flujo de ciclos.\n",
    "\n",
    "La instrucción `break` sirve para \"romper\" el ciclo.\n",
    "\n",
    "![](https://i.imgur.com/JZ8kQIM.png)"
   ]
  },
  {
   "cell_type": "markdown",
   "metadata": {
    "id": "kJNWnbwgY_V4"
   },
   "source": [
    "**Ejemplo:**"
   ]
  },
  {
   "cell_type": "code",
   "execution_count": null,
   "metadata": {
    "colab": {
     "base_uri": "https://localhost:8080/"
    },
    "id": "-IgeHjYu-uNe",
    "outputId": "9ec4dd71-f3bd-47de-d736-f0ece8f98dff"
   },
   "outputs": [
    {
     "name": "stdout",
     "output_type": "stream",
     "text": [
      "1\n",
      "2\n",
      "3\n",
      "4\n",
      "5\n",
      "6\n",
      "7\n",
      "8\n",
      "9\n",
      "10\n"
     ]
    }
   ],
   "source": [
    "indice = 0\n",
    "while True:\n",
    "    if indice == 10:\n",
    "        break\n",
    "    indice += 1\n",
    "    print(indice)"
   ]
  },
  {
   "cell_type": "markdown",
   "metadata": {
    "id": "6cFyr9U3ZDuA"
   },
   "source": [
    "**Ejemplo:**"
   ]
  },
  {
   "cell_type": "code",
   "execution_count": null,
   "metadata": {
    "colab": {
     "base_uri": "https://localhost:8080/"
    },
    "id": "PE2qOHGy_OCj",
    "outputId": "daf9d359-b9c3-41e1-bcc2-e34315584691"
   },
   "outputs": [
    {
     "name": "stdout",
     "output_type": "stream",
     "text": [
      "0\n",
      "1\n",
      "2\n",
      "3\n"
     ]
    }
   ],
   "source": [
    "for i in range(0,100):\n",
    "    print(i)\n",
    "    if i == 3:\n",
    "        break"
   ]
  },
  {
   "cell_type": "markdown",
   "metadata": {
    "id": "iODdIgKyZJHA"
   },
   "source": [
    "**Ejemplo:** Ciclo que se ejecuta hasta que se pase un número primo, en alguna de las iteraciones."
   ]
  },
  {
   "cell_type": "code",
   "execution_count": null,
   "metadata": {
    "colab": {
     "base_uri": "https://localhost:8080/"
    },
    "id": "pi4446WD_Xxj",
    "outputId": "691bac71-5ab6-4ea5-dc21-c38c77ce2ad1"
   },
   "outputs": [
    {
     "name": "stdout",
     "output_type": "stream",
     "text": [
      "Ingrese un número: 2583646455452\n",
      "False\n"
     ]
    }
   ],
   "source": [
    "n = int(input(\"Ingrese un número: \"))\n",
    "\n",
    "primo = True\n",
    "for i in range(2,n):\n",
    "    if n%i == 0:\n",
    "        primo = False\n",
    "        break\n",
    "print(primo)"
   ]
  },
  {
   "cell_type": "markdown",
   "metadata": {
    "id": "BeijuBDPAJ4M"
   },
   "source": [
    "La instrucción `continue` sirve para \"saltarse\" la iteracción actual sin romper el ciclo.\n",
    "\n",
    "**Ejemplo:**"
   ]
  },
  {
   "cell_type": "code",
   "execution_count": null,
   "metadata": {
    "colab": {
     "base_uri": "https://localhost:8080/"
    },
    "id": "ek2A_7-5_qXh",
    "outputId": "19cd7e02-2e1c-47db-a3bb-006c950162b2"
   },
   "outputs": [
    {
     "name": "stdout",
     "output_type": "stream",
     "text": [
      "0\n",
      "1\n",
      "2\n",
      "3\n",
      "4\n",
      "la iteración 5 se salto\n",
      "6\n",
      "7\n",
      "8\n",
      "9\n",
      "10\n",
      "la iteración 11 se salto\n"
     ]
    }
   ],
   "source": [
    "for i in range(0,12):\n",
    "    if i==5 or i>10:\n",
    "        print(f\"la iteración {i} se salto\")\n",
    "        continue\n",
    "    print(i)"
   ]
  },
  {
   "cell_type": "markdown",
   "metadata": {
    "id": "Ic9RrdswAnJ0"
   },
   "source": [
    "La instrucción `pass` no hace nada cuando se cumple, sin embargo es de gran ayuda en la construcción de programas.\n",
    "\n",
    "**Ejemplos:**"
   ]
  },
  {
   "cell_type": "code",
   "execution_count": null,
   "metadata": {
    "id": "MhV_Lk1EAxBu"
   },
   "outputs": [],
   "source": [
    "if i >10:\n",
    "    pass"
   ]
  },
  {
   "cell_type": "code",
   "execution_count": null,
   "metadata": {
    "id": "ZkXa3c5ErkRx"
   },
   "outputs": [],
   "source": [
    "if i > 10:\n",
    "    print(\"Hola\")\n",
    "else:\n",
    "    pass"
   ]
  },
  {
   "cell_type": "code",
   "execution_count": null,
   "metadata": {
    "id": "AhZc8Oubrgs_"
   },
   "outputs": [],
   "source": [
    "for i in range(10):\n",
    "    pass"
   ]
  },
  {
   "cell_type": "code",
   "execution_count": null,
   "metadata": {
    "colab": {
     "base_uri": "https://localhost:8080/"
    },
    "id": "rkLAzynNA0UK",
    "outputId": "543e1317-a76b-4567-d320-1b6528254605"
   },
   "outputs": [
    {
     "name": "stdout",
     "output_type": "stream",
     "text": [
      "0\n",
      "1\n",
      "2\n",
      "3\n",
      "4\n",
      "i = 5\n",
      "5\n",
      "6\n",
      "7\n",
      "8\n",
      "9\n"
     ]
    }
   ],
   "source": [
    "for i in range(10):\n",
    "    if i == 5:\n",
    "        print(\"i = 5\")\n",
    "        pass\n",
    "    print(i)"
   ]
  }
 ],
 "metadata": {
  "colab": {
   "provenance": []
  },
  "kernelspec": {
   "display_name": "Python 3",
   "name": "python3"
  },
  "language_info": {
   "codemirror_mode": {
    "name": "ipython",
    "version": 3
   },
   "file_extension": ".py",
   "mimetype": "text/x-python",
   "name": "python",
   "nbconvert_exporter": "python",
   "pygments_lexer": "ipython3",
   "version": "3.9.12"
  }
 },
 "nbformat": 4,
 "nbformat_minor": 0
}
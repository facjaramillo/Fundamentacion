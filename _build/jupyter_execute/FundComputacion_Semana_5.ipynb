{
 "cells": [
  {
   "cell_type": "markdown",
   "metadata": {
    "id": "8CsRrn_ufulg"
   },
   "source": [
    "\n",
    "# Semana 5: Condicionales y Ciclos (`For` y `While`)\n",
    "\n",
    "En este punto ya hemos definido las diferentes operaciones aritméticas, hemos asignado valores numéricos, booleanos y cadenas de caracteres a variables. Ahora, al igual que como lo hacíamos cuando creábamos nuestros pseudo-códigos, definiremos condicionales y ciclos en Python."
   ]
  },
  {
   "cell_type": "code",
   "execution_count": 1,
   "metadata": {
    "colab": {
     "base_uri": "https://localhost:8080/",
     "height": 321
    },
    "id": "_S7s7UIhVOVM",
    "outputId": "bb18233b-9531-44a3-af90-c9e66e2b7fea"
   },
   "outputs": [
    {
     "data": {
      "image/jpeg": "[encoded data removed]",
      "text/html": [
       "\n",
       "        <iframe\n",
       "            width=\"400\"\n",
       "            height=\"300\"\n",
       "            src=\"https://www.youtube.com/embed/0VW6ez_ukho\"\n",
       "            frameborder=\"0\"\n",
       "            allowfullscreen\n",
       "            \n",
       "        ></iframe>\n",
       "        "
      ],
      "text/plain": [
       "<IPython.lib.display.YouTubeVideo at 0x7f84b006c3a0>"
      ]
     },
     "execution_count": 1,
     "metadata": {},
     "output_type": "execute_result"
    }
   ],
   "source": [
    "from IPython.display import YouTubeVideo\n",
    "YouTubeVideo('0VW6ez_ukho')"
   ]
  },
  {
   "cell_type": "markdown",
   "metadata": {
    "id": "jybsjTrl2RXg"
   },
   "source": [
    "## 5.1. Condicionales\n",
    "\n",
    "Un condicional es una sentencia que nos permite verificar si se cumple una condición, y establecer dos posibles ejecuciones de acuerdo a si se cumple o no la condición. En un diagrama de flujo, se vería como sigue:\n",
    "\n",
    "![](https://i.imgur.com/O6cZrw0.png)\n",
    "\n",
    "[Referencia de Python sobre condicionales](https://www.programaenpython.com/fundamentos/sentencias-condicionales-en-python/)\n"
   ]
  },
  {
   "cell_type": "markdown",
   "metadata": {
    "id": "EpoBm9sSrNjS"
   },
   "source": [
    "\n",
    "### 5.1.1. Sentencia `if`\n",
    "\n",
    "Permite dividir el flujo de un programa en diferentes caminos u opciones. El bloque de código dentro del condicional `if` se ejecuta siempre que la condición sea **True**.\n",
    "\n",
    "**Ejemplo:**"
   ]
  },
  {
   "cell_type": "code",
   "execution_count": 2,
   "metadata": {
    "colab": {
     "base_uri": "https://localhost:8080/"
    },
    "id": "F9GJ8-E53A0a",
    "outputId": "ff0134d2-07bb-4120-8316-f6da5a5ace7d"
   },
   "outputs": [
    {
     "name": "stdout",
     "output_type": "stream",
     "text": [
      "Esto siempre se va a imprimir\n",
      "Ya estamos fuera del if\n",
      "Ya estamos fuera del if\n"
     ]
    }
   ],
   "source": [
    "if True:\n",
    "    print(\"Esto siempre se va a imprimir\")\n",
    "print(\"Ya estamos fuera del if\")\n",
    "\n",
    "if False:\n",
    "    print('Esto nunca se va a imprimir')\n",
    "print(\"Ya estamos fuera del if\")"
   ]
  },
  {
   "cell_type": "markdown",
   "metadata": {
    "id": "VJ0tm9eKUd1m"
   },
   "source": [
    "**Ejemplo:** Números mayores o menores que otros."
   ]
  },
  {
   "cell_type": "code",
   "execution_count": 3,
   "metadata": {
    "colab": {
     "base_uri": "https://localhost:8080/"
    },
    "id": "WCwMun5qtB4o",
    "outputId": "480336e3-ca50-4d38-b26b-2f10cefd9f40"
   },
   "outputs": [
    {
     "name": "stdout",
     "output_type": "stream",
     "text": [
      "a es menor que b\n"
     ]
    }
   ],
   "source": [
    "a=35\n",
    "b=100\n",
    "\n",
    "if a<b:\n",
    "  print(\"a es menor que b\")\n",
    "\n",
    "if a>b:\n",
    "  print(\"a es mayor que b\")\n"
   ]
  },
  {
   "cell_type": "markdown",
   "metadata": {
    "id": "d2YKij5AoIMg"
   },
   "source": [
    "### 5.1.2. Sentencia `else`\n",
    "La declaración `else` es una estructura de control de flujo que se utiliza junto con la declaración `if` o la declaración `elif`. Si todas las condiciones en las declaraciones `if` y `elif` son falsas, se ejecuta el bloque de código dentro de la declaración else. La declaración else es opcional y sólo se ejecuta si no se cumple ninguna de las condiciones anteriores.\n",
    "\n",
    "**Ejemplo:** Determinar si un número es par o impar"
   ]
  },
  {
   "cell_type": "code",
   "execution_count": 4,
   "metadata": {
    "colab": {
     "base_uri": "https://localhost:8080/"
    },
    "id": "tq2z-chXvbLt",
    "outputId": "f207b14c-0758-4e8f-e16a-ada3b6820788"
   },
   "outputs": [
    {
     "name": "stdout",
     "output_type": "stream",
     "text": [
      "El número es impar\n"
     ]
    }
   ],
   "source": [
    "n = 83\n",
    "\n",
    "if n%2 == 0:\n",
    "    print(\"El número es par\")\n",
    "else:\n",
    "    print(\"El número es impar\")"
   ]
  },
  {
   "cell_type": "markdown",
   "metadata": {
    "id": "RWMKsRcI3bOP"
   },
   "source": [
    "\n",
    "### 5.1.3. Sentencia `elif`\n",
    "\n",
    "La declaración `elif` es una extensión de la declaración `if` que permite verificar múltiples condiciones en una sola estructura de control de flujo. Si la condición en la declaración `if` es falsa, se verifica la siguiente condición en la declaración `elif`. Si se cumple la condición, el bloque de código dentro del elif se ejecuta. Si la condición es falsa, se omite el bloque de código y se verifica la siguiente condición en la siguiente declaración `elif` o en la declaración `else`.\n",
    "\n",
    "**Ejemplo:**"
   ]
  },
  {
   "cell_type": "code",
   "execution_count": 5,
   "metadata": {
    "colab": {
     "base_uri": "https://localhost:8080/"
    },
    "id": "r1boPHYp3OBh",
    "outputId": "887cbce6-559e-4fde-9497-6a375bf7b8ad"
   },
   "outputs": [
    {
     "name": "stdout",
     "output_type": "stream",
     "text": [
      "Usted es mayor de edad\n"
     ]
    }
   ],
   "source": [
    "edad = 30\n",
    "\n",
    "if edad >= 18:\n",
    "    print(\"Usted es mayor de edad\")\n",
    "else:\n",
    "    print(\"Usted es menor de edad\")"
   ]
  },
  {
   "cell_type": "markdown",
   "metadata": {
    "id": "i9aGIKxhU8du"
   },
   "source": [
    "**Ejemplo:**"
   ]
  },
  {
   "cell_type": "code",
   "execution_count": 6,
   "metadata": {
    "colab": {
     "base_uri": "https://localhost:8080/"
    },
    "id": "j1FuRwH737Xl",
    "outputId": "d0531202-6eb9-4bd1-8da4-4d06b8b119be"
   },
   "outputs": [
    {
     "name": "stdout",
     "output_type": "stream",
     "text": [
      "Usted es mayor de edad\n"
     ]
    }
   ],
   "source": [
    "\n",
    "if edad >= 18:\n",
    "    print(\"Usted es mayor de edad\")\n",
    "elif 0<= edad < 18 :\n",
    "    print(\"Usted es menor de edad\")\n",
    "else:\n",
    "    print(\"La edad ingresada es erronea\")"
   ]
  },
  {
   "cell_type": "markdown",
   "metadata": {
    "id": "K0HzoCrzVKMD"
   },
   "source": [
    "**Ejemplo:**"
   ]
  },
  {
   "cell_type": "code",
   "execution_count": 7,
   "metadata": {
    "colab": {
     "base_uri": "https://localhost:8080/"
    },
    "id": "sHXrZwpP4dGz",
    "outputId": "9b32e76d-a3fd-497c-b57f-4013a9e89d74"
   },
   "outputs": [
    {
     "name": "stdout",
     "output_type": "stream",
     "text": [
      "El número es mayor que 2\n",
      "El número es mayor que 3\n"
     ]
    }
   ],
   "source": [
    "a = 5\n",
    "\n",
    "if a >= 2:\n",
    "    print(\"El número es mayor que 2\")\n",
    "if a >= 3:\n",
    "    print(\"El número es mayor que 3\")"
   ]
  },
  {
   "cell_type": "markdown",
   "metadata": {
    "id": "ZlYvgTt0VWRW"
   },
   "source": [
    "Si no ponemos el `elif`, se ejecutan ambos condicionales. Con el `elif`, solo entra a la segunda condición si no se cumple la primera. En este ejemplo es claro que $a\\geq2$ y $a\\geq3$, pero solo se imprime que el número es mayor o igual que dos."
   ]
  },
  {
   "cell_type": "code",
   "execution_count": 8,
   "metadata": {
    "colab": {
     "base_uri": "https://localhost:8080/"
    },
    "id": "YeHnhZMo4m73",
    "outputId": "b6109898-0875-47f8-c5ba-a37f14691d11"
   },
   "outputs": [
    {
     "name": "stdout",
     "output_type": "stream",
     "text": [
      "El número es mayor que 2\n"
     ]
    }
   ],
   "source": [
    "a = 5\n",
    "\n",
    "if a >= 2:\n",
    "    print(\"El número es mayor que 2\")\n",
    "elif a >= 3:\n",
    "    print(\"El número es mayor que 3\")"
   ]
  },
  {
   "cell_type": "markdown",
   "metadata": {
    "id": "WHjrNsVs5w5J"
   },
   "source": [
    "## 5.2. Ciclos\n",
    "\n"
   ]
  },
  {
   "cell_type": "markdown",
   "metadata": {
    "id": "EmEixUySrFpq"
   },
   "source": [
    "### 5.2.1. Ciclo `for`\n",
    "\n",
    "El ciclo `for`  es una esctructura de ciclo usada en los casos donde conozco los elementos o la cantidad de elementos a iterar.\n",
    "\n",
    "[Referencia de Python sobre la sentencia for](https://docs.python.org/es/3.12/reference/compound_stmts.html#the-for-statement)\n",
    "\n",
    "La sintaxis para definir un ciclo `for` es:"
   ]
  },
  {
   "cell_type": "code",
   "execution_count": 9,
   "metadata": {
    "colab": {
     "base_uri": "https://localhost:8080/"
    },
    "id": "hzMHR_n54txf",
    "outputId": "f28d95e0-4c8c-4ebf-cad8-91b738910fea"
   },
   "outputs": [
    {
     "name": "stdout",
     "output_type": "stream",
     "text": [
      "0\n",
      "1\n",
      "2\n",
      "3\n",
      "4\n",
      "5\n",
      "6\n",
      "7\n",
      "8\n",
      "9\n"
     ]
    }
   ],
   "source": [
    "# i es la variable que va a cambiar en el ciclo.\n",
    "# La variación será desde a hasta b-1, con un paso igual a c.\n",
    "for i in range(0,10,1):       # a=0, b=10, c=1\n",
    "    print(i)"
   ]
  },
  {
   "cell_type": "markdown",
   "metadata": {
    "id": "5yOIPLD3WXKT"
   },
   "source": [
    "Ahora, un ciclo `for` con un incremento de 2. Este ciclo toma solo los números pares entre 2 y 19."
   ]
  },
  {
   "cell_type": "code",
   "execution_count": 10,
   "metadata": {
    "colab": {
     "base_uri": "https://localhost:8080/"
    },
    "id": "ph4O5hEVp8zd",
    "outputId": "24bd99e8-7d7b-4492-93e6-03e8d906ce13"
   },
   "outputs": [
    {
     "name": "stdout",
     "output_type": "stream",
     "text": [
      "2\n",
      "4\n",
      "6\n",
      "8\n",
      "10\n",
      "12\n",
      "14\n",
      "16\n",
      "18\n"
     ]
    }
   ],
   "source": [
    "#Otro ejemplo de ciclo\n",
    "for i in range(2,20,2):\n",
    "    print(i)"
   ]
  },
  {
   "cell_type": "markdown",
   "metadata": {
    "id": "9jdliW3cWhvv"
   },
   "source": [
    "Para definir el ciclo `for`, no es necesario especificarle el extremo inferior del intervalo ni el incremento. Si estos no se especifican, por defecto se supondrá que el argumento de la función range será (0,19], con un incremento de 1."
   ]
  },
  {
   "cell_type": "code",
   "execution_count": 11,
   "metadata": {
    "colab": {
     "base_uri": "https://localhost:8080/"
    },
    "id": "Ol3wRFRwx3LF",
    "outputId": "7c87e3e3-5cb0-4d0c-b9f0-3fda590124cd"
   },
   "outputs": [
    {
     "name": "stdout",
     "output_type": "stream",
     "text": [
      "0\n",
      "1\n",
      "2\n",
      "3\n",
      "4\n",
      "5\n",
      "6\n",
      "7\n",
      "8\n",
      "9\n",
      "10\n",
      "11\n",
      "12\n",
      "13\n",
      "14\n",
      "15\n",
      "16\n",
      "17\n",
      "18\n",
      "19\n"
     ]
    }
   ],
   "source": [
    "#Otro ejemplo de ciclo\n",
    "for i in range(20):\n",
    "    print(i)"
   ]
  },
  {
   "cell_type": "markdown",
   "metadata": {
    "id": "k2_WPinQ6GJn"
   },
   "source": [
    "**Nota:** En python los contadores por defecto inician desde 0 y terminan en $n-1$"
   ]
  },
  {
   "cell_type": "code",
   "execution_count": 12,
   "metadata": {
    "colab": {
     "base_uri": "https://localhost:8080/"
    },
    "id": "y-1JCY6k6ErR",
    "outputId": "24fadf37-b9d2-491a-af90-d2e7a7da8179"
   },
   "outputs": [
    {
     "data": {
      "text/plain": [
       "range"
      ]
     },
     "execution_count": 12,
     "metadata": {},
     "output_type": "execute_result"
    }
   ],
   "source": [
    " #Nuevo tipo de variable usada para asignar valores al contador\n",
    "type(range(10))"
   ]
  },
  {
   "cell_type": "markdown",
   "metadata": {
    "id": "2rKUmlCx9MTW"
   },
   "source": [
    "### 5.2.2. Ciclo `while`\n",
    "\n",
    "El ciclo `while` se basa en repetir un bloque de códigos a partir de una condición establecida. El bloque `while` se ejecutará siempre y cuando el resultado de la condición sea `True`.\n",
    "\n",
    "[Referencia de Python sobre la sentencia While](https://docs.python.org/es/3.12/reference/compound_stmts.html#the-while-statement)\n",
    "\n",
    "**Ejemplo:** ciclo infinito"
   ]
  },
  {
   "cell_type": "code",
   "execution_count": 13,
   "metadata": {
    "id": "9Qi2X0V79Ep2"
   },
   "outputs": [
    {
     "data": {
      "text/plain": [
       "'\\nwhile True: #Ciclo infinito\\n    print(\"Hola\")\\n'"
      ]
     },
     "execution_count": 13,
     "metadata": {},
     "output_type": "execute_result"
    }
   ],
   "source": [
    "\"\"\"\n",
    "while True: #Ciclo infinito\n",
    "    print(\"Hola\")\n",
    "\"\"\""
   ]
  },
  {
   "cell_type": "markdown",
   "metadata": {
    "id": "BolbQDdj94TA"
   },
   "source": [
    "**Ejemplo** Este ciclo se ejecutará tantas veces como la diferencia entre 0 y el número $n$ que se le pide al usuario que ingrese, aunque es un ciclo `while`. Esto dado que la ciondición establecida fue que $i \\leq n$. $i$ se actualiza aumentando su valor en 1 en cada iteración."
   ]
  },
  {
   "cell_type": "code",
   "execution_count": 14,
   "metadata": {
    "colab": {
     "base_uri": "https://localhost:8080/"
    },
    "id": "NZJXL8aH9rtY",
    "outputId": "12545004-3a07-4c77-bec1-86b7d5871212"
   },
   "outputs": [
    {
     "name": "stdout",
     "output_type": "stream",
     "text": [
      "0\n",
      "1\n",
      "2\n",
      "3\n",
      "4\n",
      "5\n",
      "6\n",
      "7\n",
      "8\n",
      "9\n",
      "10\n"
     ]
    }
   ],
   "source": [
    "n = 10\n",
    "\n",
    "i = 0\n",
    "while i <= n:\n",
    "    print(i)\n",
    "    i+=1"
   ]
  },
  {
   "cell_type": "markdown",
   "metadata": {
    "id": "GI8JQm4qYZNC"
   },
   "source": [
    "**Ejemplo:** Al tener el ciclo `while` una condición para ejecutarse, se puede usar directamente en él una sentencia `else`, que se ejecutará solo cuando se deje de cumplir la condición del ciclo. Esto es: no es necesaria la sentencia `if` en este caso."
   ]
  },
  {
   "cell_type": "code",
   "execution_count": 15,
   "metadata": {
    "colab": {
     "base_uri": "https://localhost:8080/"
    },
    "id": "efCXC6bd-FAw",
    "outputId": "ea69dc7a-9cb8-477c-f5fa-81a0abc45b02"
   },
   "outputs": [
    {
     "name": "stdout",
     "output_type": "stream",
     "text": [
      "0\n",
      "1\n",
      "2\n",
      "3\n",
      "4\n",
      "5\n",
      "6\n",
      "7\n",
      "8\n",
      "9\n",
      "10\n",
      "El ciclo termino en la iteración 10\n"
     ]
    }
   ],
   "source": [
    "n = 10\n",
    "i = 0\n",
    "while i <= n:\n",
    "    print(i)\n",
    "    i+=1\n",
    "else:\n",
    "    print(f'El ciclo termino en la iteración {i-1}')"
   ]
  },
  {
   "cell_type": "markdown",
   "metadata": {
    "id": "7HKpnVrOYxD8"
   },
   "source": [
    "**Ejemplo:** Ejecución de un ciclo `while` hasta que el ususario ingrese una clave. La clave es \"Salir\"."
   ]
  },
  {
   "cell_type": "code",
   "execution_count": 16,
   "metadata": {
    "colab": {
     "base_uri": "https://localhost:8080/",
     "height": 35
    },
    "id": "ztR_QcXJ-fhn",
    "outputId": "5f09b888-31a5-4640-8c0e-4c74fcb35643"
   },
   "outputs": [
    {
     "data": {
      "text/plain": [
       "\"\\ncomando = ''\\nwhile comando != 'Salir':\\n   comando = input('Ingrese un comando: ')\\n    print(comando)\\n\""
      ]
     },
     "execution_count": 16,
     "metadata": {},
     "output_type": "execute_result"
    }
   ],
   "source": [
    "'''\n",
    "comando = ''\n",
    "while comando != 'Salir':\n",
    "   comando = input('Ingrese un comando: ')\n",
    "    print(comando)\n",
    "'''"
   ]
  },
  {
   "cell_type": "markdown",
   "metadata": {
    "id": "aIzwVE6Y-5W6"
   },
   "source": [
    "### 5.2.3. Operadores `break`, `continue` y `pass`\n",
    "\n",
    "Estos operadores son útiles para el contro de flujo de ciclos.\n"
   ]
  },
  {
   "cell_type": "markdown",
   "metadata": {
    "id": "kJNWnbwgY_V4"
   },
   "source": [
    "\n",
    "\n",
    "\n",
    "\n",
    "La instrucción `break` sirve para \"romper\" el ciclo.\n",
    "\n",
    "![](https://i.imgur.com/JZ8kQIM.png)\n",
    "\n",
    "\n",
    "**Ejemplo:**\n",
    "\n"
   ]
  },
  {
   "cell_type": "code",
   "execution_count": 17,
   "metadata": {
    "colab": {
     "base_uri": "https://localhost:8080/"
    },
    "id": "-IgeHjYu-uNe",
    "outputId": "9ec4dd71-f3bd-47de-d736-f0ece8f98dff"
   },
   "outputs": [
    {
     "name": "stdout",
     "output_type": "stream",
     "text": [
      "1\n",
      "2\n",
      "3\n",
      "4\n",
      "5\n",
      "6\n",
      "7\n",
      "8\n",
      "9\n",
      "10\n"
     ]
    }
   ],
   "source": [
    "indice = 0\n",
    "while True:\n",
    "    if indice == 10:\n",
    "        break\n",
    "    indice += 1\n",
    "    print(indice)"
   ]
  },
  {
   "cell_type": "markdown",
   "metadata": {
    "id": "6cFyr9U3ZDuA"
   },
   "source": [
    "**Ejemplo:**"
   ]
  },
  {
   "cell_type": "code",
   "execution_count": 18,
   "metadata": {
    "colab": {
     "base_uri": "https://localhost:8080/"
    },
    "id": "PE2qOHGy_OCj",
    "outputId": "daf9d359-b9c3-41e1-bcc2-e34315584691"
   },
   "outputs": [
    {
     "name": "stdout",
     "output_type": "stream",
     "text": [
      "0\n",
      "1\n",
      "2\n",
      "3\n"
     ]
    }
   ],
   "source": [
    "for i in range(0,100):\n",
    "    print(i)\n",
    "    if i == 3:\n",
    "        break"
   ]
  },
  {
   "cell_type": "markdown",
   "metadata": {
    "id": "iODdIgKyZJHA"
   },
   "source": [
    "**Ejemplo:** Ciclo que se enbcarga de verificar los residuos y con ello determinar si un número es primo o no."
   ]
  },
  {
   "cell_type": "code",
   "execution_count": 19,
   "metadata": {
    "colab": {
     "base_uri": "https://localhost:8080/"
    },
    "id": "pi4446WD_Xxj",
    "outputId": "073a1565-f168-4a90-f023-1d167ec4cc72"
   },
   "outputs": [
    {
     "name": "stdout",
     "output_type": "stream",
     "text": [
      "True\n"
     ]
    }
   ],
   "source": [
    "n = 3\n",
    "\n",
    "primo = True\n",
    "for i in range(2,n):\n",
    "    if n%i == 0:\n",
    "        primo = False\n",
    "        break\n",
    "print(primo)"
   ]
  },
  {
   "cell_type": "markdown",
   "metadata": {
    "id": "BeijuBDPAJ4M"
   },
   "source": [
    "La instrucción `continue` sirve para \"saltarse\" la iteracción actual sin romper el ciclo.\n",
    "\n",
    "**Ejemplo:**"
   ]
  },
  {
   "cell_type": "code",
   "execution_count": 20,
   "metadata": {
    "colab": {
     "base_uri": "https://localhost:8080/"
    },
    "id": "ek2A_7-5_qXh",
    "outputId": "19cd7e02-2e1c-47db-a3bb-006c950162b2"
   },
   "outputs": [
    {
     "name": "stdout",
     "output_type": "stream",
     "text": [
      "0\n",
      "1\n",
      "2\n",
      "3\n",
      "4\n",
      "la iteración 5 se salto\n",
      "6\n",
      "7\n",
      "8\n",
      "9\n",
      "10\n",
      "la iteración 11 se salto\n"
     ]
    }
   ],
   "source": [
    "for i in range(0,12):\n",
    "    if i==5 or i>10:\n",
    "        print(f\"la iteración {i} se salto\")\n",
    "        continue\n",
    "    print(i)"
   ]
  },
  {
   "cell_type": "markdown",
   "metadata": {
    "id": "Ic9RrdswAnJ0"
   },
   "source": [
    "La instrucción `pass` no hace nada cuando se cumple, sin embargo es de gran ayuda en la construcción de programas.\n",
    "\n",
    "**Ejemplos:**"
   ]
  },
  {
   "cell_type": "code",
   "execution_count": 21,
   "metadata": {
    "id": "MhV_Lk1EAxBu"
   },
   "outputs": [],
   "source": [
    "if i >10:\n",
    "    pass"
   ]
  },
  {
   "cell_type": "code",
   "execution_count": 22,
   "metadata": {
    "id": "ZkXa3c5ErkRx"
   },
   "outputs": [
    {
     "name": "stdout",
     "output_type": "stream",
     "text": [
      "Hola\n"
     ]
    }
   ],
   "source": [
    "if i > 10:\n",
    "    print(\"Hola\")\n",
    "else:\n",
    "    pass"
   ]
  },
  {
   "cell_type": "code",
   "execution_count": 23,
   "metadata": {
    "id": "AhZc8Oubrgs_"
   },
   "outputs": [],
   "source": [
    "for i in range(10):\n",
    "    pass"
   ]
  },
  {
   "cell_type": "code",
   "execution_count": 24,
   "metadata": {
    "colab": {
     "base_uri": "https://localhost:8080/"
    },
    "id": "rkLAzynNA0UK",
    "outputId": "543e1317-a76b-4567-d320-1b6528254605"
   },
   "outputs": [
    {
     "name": "stdout",
     "output_type": "stream",
     "text": [
      "0\n"
     ]
    },
    {
     "name": "stdout",
     "output_type": "stream",
     "text": [
      "1\n",
      "2\n",
      "3\n",
      "4\n",
      "i = 5\n",
      "5\n",
      "6\n",
      "7\n",
      "8\n",
      "9\n"
     ]
    }
   ],
   "source": [
    "for i in range(10):\n",
    "    if i == 5:\n",
    "        print(\"i = 5\")\n",
    "        pass\n",
    "    print(i)"
   ]
  },
  {
   "cell_type": "markdown",
   "metadata": {
    "id": "2CM1QqgN0CXa"
   },
   "source": [
    "## 5.3. Ejercicios\n",
    "\n",
    " 1. Una juguetería tiene mucho éxito en dos de sus productos: payasos y muñecas. Se suele hacer venta por correo y la empresa de logística les cobra por peso de cada paquete así que deben calcular el peso de los payasos y muñecas que saldrán en cada paquete a demanda. Cada payaso pesa $112\\, \\text{g}$ y cada muñeca $75\\, \\text{g}$. Escribe un programa que lea el número de payasos y muñecas vendidos en el último pedido y calcule el peso total del paquete que será enviado.\n",
    "\n",
    "2.  Una panadería vende barras de pan a $3.49$ euros cada una. El pan que no es horneado el mismo día tiene un descuento del 60\\%. Escribe un programa que comience leyendo el número de barras vendidas que no son del día. Después el programa debe mostrar el precio habitual de una barra de pan, el descuento que se le hace por no ser fresca y el coste final total.\n",
    "\n",
    "3. Imagina que acabas de abrir una nueva cuenta de ahorros que gana un cuatro por ciento de interés al año. Los intereses que ganas se pagan al final del año y se añaden al saldo de la cuenta de ahorros. Escribe un programa que comience leyendo la cantidad de dinero depositada en la cuenta por un usuario. Luego, debe calcular y mostrar la cantidad en la cuenta de ahorros después de $1$ y $2$ años.\n",
    "\n",
    "4. Elabore un programa que lea una duración en la forma DD:HH:MM:SS, donde DD, HH, MM y SS representan días, horas, minutos y segundos, respectivamente. Las horas, los minutos y los segundos deben estar formateados de manera que ocupen exactamente dos dígitos. Además, el programa debe calcular y mostrar el número total de segundos representados por esta duración.\n",
    "\n",
    "5. Elabore un programa que lea un número total de segundos ingresados por el usuario y dé la duración del intervalo en días, horas, minutos y segundos en la forma DD:HH:MM:SS. Las horas, los minutos y los segundos deben estar formateados de manera que ocupen exactamente dos dígitos\n",
    "\n",
    "6. Elabore un programa que lea la longitud de dos catetos de un triángulo rectangulo e imprima la longitud de la hipotenusa.\n",
    "\n",
    "7. Elabore un algoritmo que lea el volumen de una esfera y calcule el radio de la misma.\n",
    "\n",
    "8.  Escribir un programa que pregunte al usuario por el número de horas trabajadas y el coste por hora. Después debe mostrar por pantalla la paga que le corresponde.\n",
    "\n",
    "9. Escribir un programa que pida al usuario dos números enteros $n$ y $m$ y muestre por pantalla: ``la división de $n$ entre $m$ da un cociente $c$ y un residuo $r$\", donde $n$ y $m$ son los números introducidos por el usuario, y $c$ y $r$ son el cociente y el residuo de la división entera respectivamente."
   ]
  },
  {
   "cell_type": "code",
   "execution_count": null,
   "metadata": {
    "id": "VdR04VGt0VPF"
   },
   "outputs": [],
   "source": []
  }
 ],
 "metadata": {
  "colab": {
   "collapsed_sections": [
    "EmEixUySrFpq",
    "2CM1QqgN0CXa"
   ],
   "provenance": []
  },
  "kernelspec": {
   "display_name": "Python 3",
   "name": "python3"
  },
  "language_info": {
   "codemirror_mode": {
    "name": "ipython",
    "version": 3
   },
   "file_extension": ".py",
   "mimetype": "text/x-python",
   "name": "python",
   "nbconvert_exporter": "python",
   "pygments_lexer": "ipython3",
   "version": "3.9.12"
  }
 },
 "nbformat": 4,
 "nbformat_minor": 0
}